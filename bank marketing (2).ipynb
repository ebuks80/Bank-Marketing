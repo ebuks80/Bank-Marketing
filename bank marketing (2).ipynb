{
 "cells": [
  {
   "cell_type": "markdown",
   "id": "7db034ee",
   "metadata": {},
   "source": [
    "# Bank Marketing"
   ]
  },
  {
   "cell_type": "markdown",
   "id": "5225f7fc",
   "metadata": {},
   "source": [
    "A large bank has asked us to evaluate the marketing algorithms they use for retail banking. Their sophisticated phone marketing algorithm predicts whether a certain person will subscribe to a term deposit or not. Based on that assessment, the bank then optimises its phone calling strategy. With this algorithm, the bank has been successful in predicting which clients are more likely to subscribe to their term deposits. \n",
    "\n",
    "Management is now interested in finding out how a classification model can lead to certain decision-making processes. \n",
    "\n",
    "Here is your task:\n",
    "\n",
    "-Create a classification model in Python. Feel free to use libraries such as SkLearn, Keras/Tensorflow or Pytorch. \n",
    "\n",
    "-Analyse the model and provide insight into which features/variables influence the outcome of the classification the most.\n",
    "\n",
    "-Develop some form of plot or graph with brief comments on your observations. \n",
    "\n",
    "This project is a Data-Driven Approach to Predict the Success of Bank Telemarketing. The binary classification goal is to predict if the client will subscribe a bank term deposit (variable y). I would be carrying out an exploratory analysis on the data, performing some feature engineering, filling null values, then building a neural network model.\n",
    "\n",
    "Check the text file provided to check what each column represents and the literature on the data.\n",
    "\n",
    "Let's import the data and read the file in.\n",
    "\n"
   ]
  },
  {
   "cell_type": "code",
   "execution_count": 1,
   "id": "d9b921e5",
   "metadata": {},
   "outputs": [],
   "source": [
    "import matplotlib.pyplot as plt\n",
    "import seaborn as sns\n",
    "import numpy as np\n",
    "import pandas as pd\n",
    "%matplotlib inline"
   ]
  },
  {
   "cell_type": "code",
   "execution_count": 2,
   "id": "992772d1",
   "metadata": {},
   "outputs": [],
   "source": [
    "#lets grab our data\n",
    "df = pd.read_csv('bank-additional-full.csv',sep =';')"
   ]
  },
  {
   "cell_type": "code",
   "execution_count": 3,
   "id": "05800b5d",
   "metadata": {},
   "outputs": [
    {
     "data": {
      "text/html": [
       "<div>\n",
       "<style scoped>\n",
       "    .dataframe tbody tr th:only-of-type {\n",
       "        vertical-align: middle;\n",
       "    }\n",
       "\n",
       "    .dataframe tbody tr th {\n",
       "        vertical-align: top;\n",
       "    }\n",
       "\n",
       "    .dataframe thead th {\n",
       "        text-align: right;\n",
       "    }\n",
       "</style>\n",
       "<table border=\"1\" class=\"dataframe\">\n",
       "  <thead>\n",
       "    <tr style=\"text-align: right;\">\n",
       "      <th></th>\n",
       "      <th>age</th>\n",
       "      <th>job</th>\n",
       "      <th>marital</th>\n",
       "      <th>education</th>\n",
       "      <th>default</th>\n",
       "      <th>housing</th>\n",
       "      <th>loan</th>\n",
       "      <th>contact</th>\n",
       "      <th>month</th>\n",
       "      <th>day_of_week</th>\n",
       "      <th>...</th>\n",
       "      <th>campaign</th>\n",
       "      <th>pdays</th>\n",
       "      <th>previous</th>\n",
       "      <th>poutcome</th>\n",
       "      <th>emp.var.rate</th>\n",
       "      <th>cons.price.idx</th>\n",
       "      <th>cons.conf.idx</th>\n",
       "      <th>euribor3m</th>\n",
       "      <th>nr.employed</th>\n",
       "      <th>y</th>\n",
       "    </tr>\n",
       "  </thead>\n",
       "  <tbody>\n",
       "    <tr>\n",
       "      <th>0</th>\n",
       "      <td>56</td>\n",
       "      <td>housemaid</td>\n",
       "      <td>married</td>\n",
       "      <td>basic.4y</td>\n",
       "      <td>no</td>\n",
       "      <td>no</td>\n",
       "      <td>no</td>\n",
       "      <td>telephone</td>\n",
       "      <td>may</td>\n",
       "      <td>mon</td>\n",
       "      <td>...</td>\n",
       "      <td>1</td>\n",
       "      <td>999</td>\n",
       "      <td>0</td>\n",
       "      <td>nonexistent</td>\n",
       "      <td>1.1</td>\n",
       "      <td>93.994</td>\n",
       "      <td>-36.4</td>\n",
       "      <td>4.857</td>\n",
       "      <td>5191.0</td>\n",
       "      <td>no</td>\n",
       "    </tr>\n",
       "    <tr>\n",
       "      <th>1</th>\n",
       "      <td>57</td>\n",
       "      <td>services</td>\n",
       "      <td>married</td>\n",
       "      <td>high.school</td>\n",
       "      <td>unknown</td>\n",
       "      <td>no</td>\n",
       "      <td>no</td>\n",
       "      <td>telephone</td>\n",
       "      <td>may</td>\n",
       "      <td>mon</td>\n",
       "      <td>...</td>\n",
       "      <td>1</td>\n",
       "      <td>999</td>\n",
       "      <td>0</td>\n",
       "      <td>nonexistent</td>\n",
       "      <td>1.1</td>\n",
       "      <td>93.994</td>\n",
       "      <td>-36.4</td>\n",
       "      <td>4.857</td>\n",
       "      <td>5191.0</td>\n",
       "      <td>no</td>\n",
       "    </tr>\n",
       "    <tr>\n",
       "      <th>2</th>\n",
       "      <td>37</td>\n",
       "      <td>services</td>\n",
       "      <td>married</td>\n",
       "      <td>high.school</td>\n",
       "      <td>no</td>\n",
       "      <td>yes</td>\n",
       "      <td>no</td>\n",
       "      <td>telephone</td>\n",
       "      <td>may</td>\n",
       "      <td>mon</td>\n",
       "      <td>...</td>\n",
       "      <td>1</td>\n",
       "      <td>999</td>\n",
       "      <td>0</td>\n",
       "      <td>nonexistent</td>\n",
       "      <td>1.1</td>\n",
       "      <td>93.994</td>\n",
       "      <td>-36.4</td>\n",
       "      <td>4.857</td>\n",
       "      <td>5191.0</td>\n",
       "      <td>no</td>\n",
       "    </tr>\n",
       "    <tr>\n",
       "      <th>3</th>\n",
       "      <td>40</td>\n",
       "      <td>admin.</td>\n",
       "      <td>married</td>\n",
       "      <td>basic.6y</td>\n",
       "      <td>no</td>\n",
       "      <td>no</td>\n",
       "      <td>no</td>\n",
       "      <td>telephone</td>\n",
       "      <td>may</td>\n",
       "      <td>mon</td>\n",
       "      <td>...</td>\n",
       "      <td>1</td>\n",
       "      <td>999</td>\n",
       "      <td>0</td>\n",
       "      <td>nonexistent</td>\n",
       "      <td>1.1</td>\n",
       "      <td>93.994</td>\n",
       "      <td>-36.4</td>\n",
       "      <td>4.857</td>\n",
       "      <td>5191.0</td>\n",
       "      <td>no</td>\n",
       "    </tr>\n",
       "    <tr>\n",
       "      <th>4</th>\n",
       "      <td>56</td>\n",
       "      <td>services</td>\n",
       "      <td>married</td>\n",
       "      <td>high.school</td>\n",
       "      <td>no</td>\n",
       "      <td>no</td>\n",
       "      <td>yes</td>\n",
       "      <td>telephone</td>\n",
       "      <td>may</td>\n",
       "      <td>mon</td>\n",
       "      <td>...</td>\n",
       "      <td>1</td>\n",
       "      <td>999</td>\n",
       "      <td>0</td>\n",
       "      <td>nonexistent</td>\n",
       "      <td>1.1</td>\n",
       "      <td>93.994</td>\n",
       "      <td>-36.4</td>\n",
       "      <td>4.857</td>\n",
       "      <td>5191.0</td>\n",
       "      <td>no</td>\n",
       "    </tr>\n",
       "    <tr>\n",
       "      <th>...</th>\n",
       "      <td>...</td>\n",
       "      <td>...</td>\n",
       "      <td>...</td>\n",
       "      <td>...</td>\n",
       "      <td>...</td>\n",
       "      <td>...</td>\n",
       "      <td>...</td>\n",
       "      <td>...</td>\n",
       "      <td>...</td>\n",
       "      <td>...</td>\n",
       "      <td>...</td>\n",
       "      <td>...</td>\n",
       "      <td>...</td>\n",
       "      <td>...</td>\n",
       "      <td>...</td>\n",
       "      <td>...</td>\n",
       "      <td>...</td>\n",
       "      <td>...</td>\n",
       "      <td>...</td>\n",
       "      <td>...</td>\n",
       "      <td>...</td>\n",
       "    </tr>\n",
       "    <tr>\n",
       "      <th>41183</th>\n",
       "      <td>73</td>\n",
       "      <td>retired</td>\n",
       "      <td>married</td>\n",
       "      <td>professional.course</td>\n",
       "      <td>no</td>\n",
       "      <td>yes</td>\n",
       "      <td>no</td>\n",
       "      <td>cellular</td>\n",
       "      <td>nov</td>\n",
       "      <td>fri</td>\n",
       "      <td>...</td>\n",
       "      <td>1</td>\n",
       "      <td>999</td>\n",
       "      <td>0</td>\n",
       "      <td>nonexistent</td>\n",
       "      <td>-1.1</td>\n",
       "      <td>94.767</td>\n",
       "      <td>-50.8</td>\n",
       "      <td>1.028</td>\n",
       "      <td>4963.6</td>\n",
       "      <td>yes</td>\n",
       "    </tr>\n",
       "    <tr>\n",
       "      <th>41184</th>\n",
       "      <td>46</td>\n",
       "      <td>blue-collar</td>\n",
       "      <td>married</td>\n",
       "      <td>professional.course</td>\n",
       "      <td>no</td>\n",
       "      <td>no</td>\n",
       "      <td>no</td>\n",
       "      <td>cellular</td>\n",
       "      <td>nov</td>\n",
       "      <td>fri</td>\n",
       "      <td>...</td>\n",
       "      <td>1</td>\n",
       "      <td>999</td>\n",
       "      <td>0</td>\n",
       "      <td>nonexistent</td>\n",
       "      <td>-1.1</td>\n",
       "      <td>94.767</td>\n",
       "      <td>-50.8</td>\n",
       "      <td>1.028</td>\n",
       "      <td>4963.6</td>\n",
       "      <td>no</td>\n",
       "    </tr>\n",
       "    <tr>\n",
       "      <th>41185</th>\n",
       "      <td>56</td>\n",
       "      <td>retired</td>\n",
       "      <td>married</td>\n",
       "      <td>university.degree</td>\n",
       "      <td>no</td>\n",
       "      <td>yes</td>\n",
       "      <td>no</td>\n",
       "      <td>cellular</td>\n",
       "      <td>nov</td>\n",
       "      <td>fri</td>\n",
       "      <td>...</td>\n",
       "      <td>2</td>\n",
       "      <td>999</td>\n",
       "      <td>0</td>\n",
       "      <td>nonexistent</td>\n",
       "      <td>-1.1</td>\n",
       "      <td>94.767</td>\n",
       "      <td>-50.8</td>\n",
       "      <td>1.028</td>\n",
       "      <td>4963.6</td>\n",
       "      <td>no</td>\n",
       "    </tr>\n",
       "    <tr>\n",
       "      <th>41186</th>\n",
       "      <td>44</td>\n",
       "      <td>technician</td>\n",
       "      <td>married</td>\n",
       "      <td>professional.course</td>\n",
       "      <td>no</td>\n",
       "      <td>no</td>\n",
       "      <td>no</td>\n",
       "      <td>cellular</td>\n",
       "      <td>nov</td>\n",
       "      <td>fri</td>\n",
       "      <td>...</td>\n",
       "      <td>1</td>\n",
       "      <td>999</td>\n",
       "      <td>0</td>\n",
       "      <td>nonexistent</td>\n",
       "      <td>-1.1</td>\n",
       "      <td>94.767</td>\n",
       "      <td>-50.8</td>\n",
       "      <td>1.028</td>\n",
       "      <td>4963.6</td>\n",
       "      <td>yes</td>\n",
       "    </tr>\n",
       "    <tr>\n",
       "      <th>41187</th>\n",
       "      <td>74</td>\n",
       "      <td>retired</td>\n",
       "      <td>married</td>\n",
       "      <td>professional.course</td>\n",
       "      <td>no</td>\n",
       "      <td>yes</td>\n",
       "      <td>no</td>\n",
       "      <td>cellular</td>\n",
       "      <td>nov</td>\n",
       "      <td>fri</td>\n",
       "      <td>...</td>\n",
       "      <td>3</td>\n",
       "      <td>999</td>\n",
       "      <td>1</td>\n",
       "      <td>failure</td>\n",
       "      <td>-1.1</td>\n",
       "      <td>94.767</td>\n",
       "      <td>-50.8</td>\n",
       "      <td>1.028</td>\n",
       "      <td>4963.6</td>\n",
       "      <td>no</td>\n",
       "    </tr>\n",
       "  </tbody>\n",
       "</table>\n",
       "<p>41188 rows × 21 columns</p>\n",
       "</div>"
      ],
      "text/plain": [
       "       age          job  marital            education  default housing loan  \\\n",
       "0       56    housemaid  married             basic.4y       no      no   no   \n",
       "1       57     services  married          high.school  unknown      no   no   \n",
       "2       37     services  married          high.school       no     yes   no   \n",
       "3       40       admin.  married             basic.6y       no      no   no   \n",
       "4       56     services  married          high.school       no      no  yes   \n",
       "...    ...          ...      ...                  ...      ...     ...  ...   \n",
       "41183   73      retired  married  professional.course       no     yes   no   \n",
       "41184   46  blue-collar  married  professional.course       no      no   no   \n",
       "41185   56      retired  married    university.degree       no     yes   no   \n",
       "41186   44   technician  married  professional.course       no      no   no   \n",
       "41187   74      retired  married  professional.course       no     yes   no   \n",
       "\n",
       "         contact month day_of_week  ...  campaign  pdays  previous  \\\n",
       "0      telephone   may         mon  ...         1    999         0   \n",
       "1      telephone   may         mon  ...         1    999         0   \n",
       "2      telephone   may         mon  ...         1    999         0   \n",
       "3      telephone   may         mon  ...         1    999         0   \n",
       "4      telephone   may         mon  ...         1    999         0   \n",
       "...          ...   ...         ...  ...       ...    ...       ...   \n",
       "41183   cellular   nov         fri  ...         1    999         0   \n",
       "41184   cellular   nov         fri  ...         1    999         0   \n",
       "41185   cellular   nov         fri  ...         2    999         0   \n",
       "41186   cellular   nov         fri  ...         1    999         0   \n",
       "41187   cellular   nov         fri  ...         3    999         1   \n",
       "\n",
       "          poutcome emp.var.rate  cons.price.idx  cons.conf.idx  euribor3m  \\\n",
       "0      nonexistent          1.1          93.994          -36.4      4.857   \n",
       "1      nonexistent          1.1          93.994          -36.4      4.857   \n",
       "2      nonexistent          1.1          93.994          -36.4      4.857   \n",
       "3      nonexistent          1.1          93.994          -36.4      4.857   \n",
       "4      nonexistent          1.1          93.994          -36.4      4.857   \n",
       "...            ...          ...             ...            ...        ...   \n",
       "41183  nonexistent         -1.1          94.767          -50.8      1.028   \n",
       "41184  nonexistent         -1.1          94.767          -50.8      1.028   \n",
       "41185  nonexistent         -1.1          94.767          -50.8      1.028   \n",
       "41186  nonexistent         -1.1          94.767          -50.8      1.028   \n",
       "41187      failure         -1.1          94.767          -50.8      1.028   \n",
       "\n",
       "       nr.employed    y  \n",
       "0           5191.0   no  \n",
       "1           5191.0   no  \n",
       "2           5191.0   no  \n",
       "3           5191.0   no  \n",
       "4           5191.0   no  \n",
       "...            ...  ...  \n",
       "41183       4963.6  yes  \n",
       "41184       4963.6   no  \n",
       "41185       4963.6   no  \n",
       "41186       4963.6  yes  \n",
       "41187       4963.6   no  \n",
       "\n",
       "[41188 rows x 21 columns]"
      ]
     },
     "execution_count": 3,
     "metadata": {},
     "output_type": "execute_result"
    }
   ],
   "source": [
    "df"
   ]
  },
  {
   "cell_type": "code",
   "execution_count": 4,
   "id": "63d9c5f3",
   "metadata": {},
   "outputs": [
    {
     "name": "stdout",
     "output_type": "stream",
     "text": [
      "<class 'pandas.core.frame.DataFrame'>\n",
      "RangeIndex: 41188 entries, 0 to 41187\n",
      "Data columns (total 21 columns):\n",
      " #   Column          Non-Null Count  Dtype  \n",
      "---  ------          --------------  -----  \n",
      " 0   age             41188 non-null  int64  \n",
      " 1   job             41188 non-null  object \n",
      " 2   marital         41188 non-null  object \n",
      " 3   education       41188 non-null  object \n",
      " 4   default         41188 non-null  object \n",
      " 5   housing         41188 non-null  object \n",
      " 6   loan            41188 non-null  object \n",
      " 7   contact         41188 non-null  object \n",
      " 8   month           41188 non-null  object \n",
      " 9   day_of_week     41188 non-null  object \n",
      " 10  duration        41188 non-null  int64  \n",
      " 11  campaign        41188 non-null  int64  \n",
      " 12  pdays           41188 non-null  int64  \n",
      " 13  previous        41188 non-null  int64  \n",
      " 14  poutcome        41188 non-null  object \n",
      " 15  emp.var.rate    41188 non-null  float64\n",
      " 16  cons.price.idx  41188 non-null  float64\n",
      " 17  cons.conf.idx   41188 non-null  float64\n",
      " 18  euribor3m       41188 non-null  float64\n",
      " 19  nr.employed     41188 non-null  float64\n",
      " 20  y               41188 non-null  object \n",
      "dtypes: float64(5), int64(5), object(11)\n",
      "memory usage: 6.6+ MB\n"
     ]
    }
   ],
   "source": [
    "df.info()\n",
    "#I usually do this to get an idea of what my dataframe looks like\n",
    "#seems like theres no null values, but i can see 'unknown' in the default column, lets explore that"
   ]
  },
  {
   "cell_type": "code",
   "execution_count": 5,
   "id": "520a3d61",
   "metadata": {},
   "outputs": [
    {
     "data": {
      "text/plain": [
       "age                  0\n",
       "job                330\n",
       "marital             80\n",
       "education         1731\n",
       "default           8597\n",
       "housing            990\n",
       "loan               990\n",
       "contact              0\n",
       "month                0\n",
       "day_of_week          0\n",
       "duration             0\n",
       "campaign             0\n",
       "pdays                0\n",
       "previous             0\n",
       "poutcome             0\n",
       "emp.var.rate         0\n",
       "cons.price.idx       0\n",
       "cons.conf.idx        0\n",
       "euribor3m            0\n",
       "nr.employed          0\n",
       "y                    0\n",
       "dtype: int64"
      ]
     },
     "execution_count": 5,
     "metadata": {},
     "output_type": "execute_result"
    }
   ],
   "source": [
    "(df=='unknown').sum()"
   ]
  },
  {
   "cell_type": "markdown",
   "id": "49826c8e",
   "metadata": {},
   "source": [
    "##### These unknowns could be taken as null values, i will replace them with null values for easier refrencing"
   ]
  },
  {
   "cell_type": "code",
   "execution_count": 6,
   "id": "7e5b71bb",
   "metadata": {},
   "outputs": [],
   "source": [
    "df = df.replace('unknown',np.nan)"
   ]
  },
  {
   "cell_type": "code",
   "execution_count": 7,
   "id": "413cef17",
   "metadata": {},
   "outputs": [
    {
     "data": {
      "text/plain": [
       "age                  0\n",
       "job                330\n",
       "marital             80\n",
       "education         1731\n",
       "default           8597\n",
       "housing            990\n",
       "loan               990\n",
       "contact              0\n",
       "month                0\n",
       "day_of_week          0\n",
       "duration             0\n",
       "campaign             0\n",
       "pdays                0\n",
       "previous             0\n",
       "poutcome             0\n",
       "emp.var.rate         0\n",
       "cons.price.idx       0\n",
       "cons.conf.idx        0\n",
       "euribor3m            0\n",
       "nr.employed          0\n",
       "y                    0\n",
       "dtype: int64"
      ]
     },
     "execution_count": 7,
     "metadata": {},
     "output_type": "execute_result"
    }
   ],
   "source": [
    "df.isnull().sum()"
   ]
  },
  {
   "cell_type": "markdown",
   "id": "25f3d6b6",
   "metadata": {},
   "source": [
    "These null values would need to be filled or removed, but first lets explore the data, it would give an insight on how to fill the null values."
   ]
  },
  {
   "cell_type": "markdown",
   "id": "20dd9749",
   "metadata": {},
   "source": [
    "# EDA"
   ]
  },
  {
   "cell_type": "markdown",
   "id": "4219e080",
   "metadata": {},
   "source": [
    "##### These null values would need to be filled or removed, but first lets explore the data, it would give an insight on how to treat the null values and what feature engineering needs to be done"
   ]
  },
  {
   "cell_type": "code",
   "execution_count": 8,
   "id": "cfd4ed56",
   "metadata": {},
   "outputs": [],
   "source": [
    "yes_age = df[df['y'] == 'yes']['age']\n",
    "no_age = df[df['y'] == 'no']['age']"
   ]
  },
  {
   "cell_type": "code",
   "execution_count": 9,
   "id": "ad539c9f",
   "metadata": {},
   "outputs": [
    {
     "data": {
      "image/png": "[encoded data removed]",
      "text/plain": [
       "<Figure size 864x288 with 1 Axes>"
      ]
     },
     "metadata": {},
     "output_type": "display_data"
    }
   ],
   "source": [
    "sns.set_style(\"whitegrid\")\n",
    "plt.figure(figsize=(12,4))\n",
    "plt.hist(yes_age, alpha = 0.5,bins = 80, color = 'blue')\n",
    "plt.hist(no_age, alpha = 0.5,bins = 80, color = 'orange')\n",
    "plt.grid(axis='y',linestyle='--', alpha=0.7)\n",
    "plt.tight_layout()\n",
    "plt.show()\n",
    "           "
   ]
  },
  {
   "cell_type": "markdown",
   "id": "92816b2c",
   "metadata": {},
   "source": [
    "Majority of the individuals fall between 30years and 40 years for both that suscribed and those that didn't"
   ]
  },
  {
   "cell_type": "code",
   "execution_count": 10,
   "id": "5a80fb25",
   "metadata": {},
   "outputs": [
    {
     "data": {
      "text/plain": [
       "<AxesSubplot:xlabel='y', ylabel='count'>"
      ]
     },
     "execution_count": 10,
     "metadata": {},
     "output_type": "execute_result"
    },
    {
     "data": {
      "image/png": "[encoded data removed]",
      "text/plain": [
       "<Figure size 432x288 with 1 Axes>"
      ]
     },
     "metadata": {},
     "output_type": "display_data"
    }
   ],
   "source": [
    "sns.countplot(data = df, x = 'y')"
   ]
  },
  {
   "cell_type": "markdown",
   "id": "796216cd",
   "metadata": {},
   "source": [
    "This data is skewed greatly to one side. This could affect the model, making it also skewed"
   ]
  },
  {
   "cell_type": "code",
   "execution_count": 11,
   "id": "029717e7",
   "metadata": {},
   "outputs": [
    {
     "data": {
      "text/plain": [
       "<AxesSubplot:xlabel='job', ylabel='count'>"
      ]
     },
     "execution_count": 11,
     "metadata": {},
     "output_type": "execute_result"
    },
    {
     "data": {
      "image/png": "[encoded data removed]",
      "text/plain": [
       "<Figure size 864x288 with 1 Axes>"
      ]
     },
     "metadata": {},
     "output_type": "display_data"
    }
   ],
   "source": [
    "plt.figure(figsize=(12,4))\n",
    "sns.countplot(data = df, x = 'job',hue='y')"
   ]
  },
  {
   "cell_type": "code",
   "execution_count": 12,
   "id": "52267d9e",
   "metadata": {},
   "outputs": [
    {
     "data": {
      "text/plain": [
       "<AxesSubplot:xlabel='marital', ylabel='count'>"
      ]
     },
     "execution_count": 12,
     "metadata": {},
     "output_type": "execute_result"
    },
    {
     "data": {
      "image/png": "[encoded data removed]",
      "text/plain": [
       "<Figure size 864x288 with 1 Axes>"
      ]
     },
     "metadata": {},
     "output_type": "display_data"
    }
   ],
   "source": [
    "plt.figure(figsize=(12,4))\n",
    "sns.countplot(data = df, x = 'marital',hue='y')"
   ]
  },
  {
   "cell_type": "code",
   "execution_count": 13,
   "id": "cc198eab",
   "metadata": {},
   "outputs": [
    {
     "data": {
      "text/plain": [
       "<AxesSubplot:xlabel='education', ylabel='count'>"
      ]
     },
     "execution_count": 13,
     "metadata": {},
     "output_type": "execute_result"
    },
    {
     "data": {
      "image/png": "[encoded data removed]",
      "text/plain": [
       "<Figure size 864x288 with 1 Axes>"
      ]
     },
     "metadata": {},
     "output_type": "display_data"
    }
   ],
   "source": [
    "plt.figure(figsize=(12,4))\n",
    "sns.countplot(data = df, x = 'education',hue='y')"
   ]
  },
  {
   "cell_type": "code",
   "execution_count": 14,
   "id": "091453c8",
   "metadata": {},
   "outputs": [
    {
     "data": {
      "text/plain": [
       "<AxesSubplot:xlabel='contact', ylabel='count'>"
      ]
     },
     "execution_count": 14,
     "metadata": {},
     "output_type": "execute_result"
    },
    {
     "data": {
      "image/png": "[encoded data removed]",
      "text/plain": [
       "<Figure size 432x288 with 1 Axes>"
      ]
     },
     "metadata": {},
     "output_type": "display_data"
    }
   ],
   "source": [
    "sns.countplot(data = df, x = 'contact',hue='y')"
   ]
  },
  {
   "cell_type": "code",
   "execution_count": 15,
   "id": "4148de20",
   "metadata": {},
   "outputs": [
    {
     "data": {
      "text/plain": [
       "<AxesSubplot:xlabel='poutcome', ylabel='count'>"
      ]
     },
     "execution_count": 15,
     "metadata": {},
     "output_type": "execute_result"
    },
    {
     "data": {
      "image/png": "[encoded data removed]",
      "text/plain": [
       "<Figure size 432x288 with 1 Axes>"
      ]
     },
     "metadata": {},
     "output_type": "display_data"
    }
   ],
   "source": [
    "sns.countplot(data = df, x = 'poutcome',hue='y')"
   ]
  },
  {
   "cell_type": "code",
   "execution_count": 16,
   "id": "706dd232",
   "metadata": {},
   "outputs": [
    {
     "data": {
      "text/plain": [
       "<AxesSubplot:xlabel='month', ylabel='count'>"
      ]
     },
     "execution_count": 16,
     "metadata": {},
     "output_type": "execute_result"
    },
    {
     "data": {
      "image/png": "[encoded data removed]",
      "text/plain": [
       "<Figure size 432x288 with 1 Axes>"
      ]
     },
     "metadata": {},
     "output_type": "display_data"
    }
   ],
   "source": [
    "sns.countplot(data = df, x = 'month',hue='y')"
   ]
  },
  {
   "cell_type": "code",
   "execution_count": 17,
   "id": "7add4251",
   "metadata": {},
   "outputs": [
    {
     "data": {
      "text/plain": [
       "<AxesSubplot:xlabel='day_of_week', ylabel='count'>"
      ]
     },
     "execution_count": 17,
     "metadata": {},
     "output_type": "execute_result"
    },
    {
     "data": {
      "image/png": "[encoded data removed]",
      "text/plain": [
       "<Figure size 432x288 with 1 Axes>"
      ]
     },
     "metadata": {},
     "output_type": "display_data"
    }
   ],
   "source": [
    "sns.countplot(data = df, x = 'day_of_week',hue='y')"
   ]
  },
  {
   "cell_type": "markdown",
   "id": "a4e4e3c0",
   "metadata": {},
   "source": [
    "The distribution across the days of the week is almost the same everyday. This makes that feature, useless and would be removed later on"
   ]
  },
  {
   "cell_type": "code",
   "execution_count": 18,
   "id": "a3890260",
   "metadata": {},
   "outputs": [],
   "source": [
    "df = df.drop('day_of_week', axis = 1)"
   ]
  },
  {
   "cell_type": "code",
   "execution_count": 19,
   "id": "51f2ce17",
   "metadata": {},
   "outputs": [
    {
     "name": "stderr",
     "output_type": "stream",
     "text": [
      "C:\\Users\\EBUKA ONUOHA\\anaconda3\\lib\\site-packages\\seaborn\\distributions.py:2619: FutureWarning: `distplot` is a deprecated function and will be removed in a future version. Please adapt your code to use either `displot` (a figure-level function with similar flexibility) or `histplot` (an axes-level function for histograms).\n",
      "  warnings.warn(msg, FutureWarning)\n"
     ]
    },
    {
     "data": {
      "text/plain": [
       "<AxesSubplot:xlabel='euribor3m'>"
      ]
     },
     "execution_count": 19,
     "metadata": {},
     "output_type": "execute_result"
    },
    {
     "data": {
      "image/png": "[encoded data removed]",
      "text/plain": [
       "<Figure size 864x288 with 1 Axes>"
      ]
     },
     "metadata": {},
     "output_type": "display_data"
    }
   ],
   "source": [
    "plt.figure(figsize=(12,4))\n",
    "sns.distplot(df['euribor3m'],bins = 50, kde=False)"
   ]
  },
  {
   "cell_type": "code",
   "execution_count": 20,
   "id": "d9ff18bc",
   "metadata": {},
   "outputs": [
    {
     "data": {
      "text/plain": [
       "<AxesSubplot:xlabel='cons.price.idx'>"
      ]
     },
     "execution_count": 20,
     "metadata": {},
     "output_type": "execute_result"
    },
    {
     "data": {
      "image/png": "[encoded data removed]",
      "text/plain": [
       "<Figure size 864x288 with 1 Axes>"
      ]
     },
     "metadata": {},
     "output_type": "display_data"
    }
   ],
   "source": [
    "plt.figure(figsize=(12,4))\n",
    "sns.distplot(df['cons.price.idx'],bins = 70, kde=False)"
   ]
  },
  {
   "cell_type": "code",
   "execution_count": 21,
   "id": "a4d2d3a4",
   "metadata": {},
   "outputs": [
    {
     "data": {
      "text/plain": [
       "<AxesSubplot:xlabel='emp.var.rate'>"
      ]
     },
     "execution_count": 21,
     "metadata": {},
     "output_type": "execute_result"
    },
    {
     "data": {
      "image/png": "[encoded data removed]",
      "text/plain": [
       "<Figure size 864x288 with 1 Axes>"
      ]
     },
     "metadata": {},
     "output_type": "display_data"
    }
   ],
   "source": [
    "plt.figure(figsize=(12,4))\n",
    "sns.distplot(df['emp.var.rate'],bins = 70, kde=False)"
   ]
  },
  {
   "cell_type": "code",
   "execution_count": 22,
   "id": "1470a014",
   "metadata": {},
   "outputs": [
    {
     "data": {
      "text/plain": [
       "array([ 1.1,  1.4, -0.1, -0.2, -1.8, -2.9, -3.4, -3. , -1.7, -1.1])"
      ]
     },
     "execution_count": 22,
     "metadata": {},
     "output_type": "execute_result"
    }
   ],
   "source": [
    "df['emp.var.rate'].unique()"
   ]
  },
  {
   "cell_type": "code",
   "execution_count": 23,
   "id": "32c7b28e",
   "metadata": {},
   "outputs": [
    {
     "data": {
      "text/plain": [
       "<AxesSubplot:xlabel='pdays'>"
      ]
     },
     "execution_count": 23,
     "metadata": {},
     "output_type": "execute_result"
    },
    {
     "data": {
      "image/png": "[encoded data removed]",
      "text/plain": [
       "<Figure size 864x288 with 1 Axes>"
      ]
     },
     "metadata": {},
     "output_type": "display_data"
    }
   ],
   "source": [
    "plt.figure(figsize=(12,4))\n",
    "sns.distplot(df['pdays'],bins = 70, kde=False)"
   ]
  },
  {
   "cell_type": "code",
   "execution_count": 24,
   "id": "869fcec0",
   "metadata": {},
   "outputs": [
    {
     "data": {
      "text/plain": [
       "999    39673\n",
       "3        439\n",
       "6        412\n",
       "4        118\n",
       "9         64\n",
       "2         61\n",
       "7         60\n",
       "12        58\n",
       "10        52\n",
       "5         46\n",
       "13        36\n",
       "11        28\n",
       "1         26\n",
       "15        24\n",
       "14        20\n",
       "8         18\n",
       "0         15\n",
       "16        11\n",
       "17         8\n",
       "18         7\n",
       "22         3\n",
       "19         3\n",
       "21         2\n",
       "25         1\n",
       "26         1\n",
       "27         1\n",
       "20         1\n",
       "Name: pdays, dtype: int64"
      ]
     },
     "execution_count": 24,
     "metadata": {},
     "output_type": "execute_result"
    }
   ],
   "source": [
    "df['pdays'].value_counts() #I would have to group these in the feature engineering"
   ]
  },
  {
   "cell_type": "code",
   "execution_count": 25,
   "id": "4048cc96",
   "metadata": {
    "scrolled": false
   },
   "outputs": [
    {
     "data": {
      "text/plain": [
       "1     17642\n",
       "2     10570\n",
       "3      5341\n",
       "4      2651\n",
       "5      1599\n",
       "6       979\n",
       "7       629\n",
       "8       400\n",
       "9       283\n",
       "10      225\n",
       "11      177\n",
       "12      125\n",
       "13       92\n",
       "14       69\n",
       "17       58\n",
       "16       51\n",
       "15       51\n",
       "18       33\n",
       "20       30\n",
       "19       26\n",
       "21       24\n",
       "22       17\n",
       "23       16\n",
       "24       15\n",
       "27       11\n",
       "29       10\n",
       "28        8\n",
       "26        8\n",
       "25        8\n",
       "31        7\n",
       "30        7\n",
       "35        5\n",
       "32        4\n",
       "33        4\n",
       "34        3\n",
       "42        2\n",
       "40        2\n",
       "43        2\n",
       "56        1\n",
       "39        1\n",
       "41        1\n",
       "37        1\n",
       "Name: campaign, dtype: int64"
      ]
     },
     "execution_count": 25,
     "metadata": {},
     "output_type": "execute_result"
    }
   ],
   "source": [
    "df['campaign'].value_counts() #I would have to group these also"
   ]
  },
  {
   "cell_type": "code",
   "execution_count": 26,
   "id": "d1093a31",
   "metadata": {},
   "outputs": [
    {
     "data": {
      "text/plain": [
       "<AxesSubplot:>"
      ]
     },
     "execution_count": 26,
     "metadata": {},
     "output_type": "execute_result"
    },
    {
     "data": {
      "image/png": "[encoded data removed]",
      "text/plain": [
       "<Figure size 864x432 with 2 Axes>"
      ]
     },
     "metadata": {},
     "output_type": "display_data"
    }
   ],
   "source": [
    "plt.figure(figsize=(12,6))\n",
    "sns.heatmap(df.corr(),cmap='coolwarm',annot=True)"
   ]
  },
  {
   "cell_type": "markdown",
   "id": "0454e92b",
   "metadata": {},
   "source": [
    "Notice those highly correlated columns lets explore those"
   ]
  },
  {
   "cell_type": "code",
   "execution_count": 27,
   "id": "b0d659ad",
   "metadata": {},
   "outputs": [
    {
     "data": {
      "text/plain": [
       "<seaborn.axisgrid.JointGrid at 0x161cc4f4070>"
      ]
     },
     "execution_count": 27,
     "metadata": {},
     "output_type": "execute_result"
    },
    {
     "data": {
      "image/png": "[encoded data removed]",
      "text/plain": [
       "<Figure size 432x432 with 3 Axes>"
      ]
     },
     "metadata": {},
     "output_type": "display_data"
    }
   ],
   "source": [
    "sns.jointplot(x='emp.var.rate',y='euribor3m',data=df,kind='scatter')"
   ]
  },
  {
   "cell_type": "code",
   "execution_count": 28,
   "id": "8d4e6533",
   "metadata": {},
   "outputs": [
    {
     "data": {
      "text/plain": [
       "<seaborn.axisgrid.JointGrid at 0x161cce50280>"
      ]
     },
     "execution_count": 28,
     "metadata": {},
     "output_type": "execute_result"
    },
    {
     "data": {
      "image/png": "[encoded data removed]",
      "text/plain": [
       "<Figure size 432x432 with 3 Axes>"
      ]
     },
     "metadata": {},
     "output_type": "display_data"
    }
   ],
   "source": [
    "sns.jointplot(x='nr.employed',y='euribor3m',data=df,kind='scatter')"
   ]
  },
  {
   "cell_type": "markdown",
   "id": "3a03aa13",
   "metadata": {},
   "source": [
    "# Feature engineering"
   ]
  },
  {
   "cell_type": "markdown",
   "id": "63929dc5",
   "metadata": {},
   "source": [
    "### Time to fill in those null values or remove them and overall prepare the data for its model"
   ]
  },
  {
   "cell_type": "code",
   "execution_count": 29,
   "id": "ebaa179e",
   "metadata": {},
   "outputs": [
    {
     "data": {
      "text/plain": [
       "age                  0\n",
       "job                330\n",
       "marital             80\n",
       "education         1731\n",
       "default           8597\n",
       "housing            990\n",
       "loan               990\n",
       "contact              0\n",
       "month                0\n",
       "duration             0\n",
       "campaign             0\n",
       "pdays                0\n",
       "previous             0\n",
       "poutcome             0\n",
       "emp.var.rate         0\n",
       "cons.price.idx       0\n",
       "cons.conf.idx        0\n",
       "euribor3m            0\n",
       "nr.employed          0\n",
       "y                    0\n",
       "dtype: int64"
      ]
     },
     "execution_count": 29,
     "metadata": {},
     "output_type": "execute_result"
    }
   ],
   "source": [
    "df.isnull().sum()"
   ]
  },
  {
   "cell_type": "markdown",
   "id": "ba0daf7b",
   "metadata": {},
   "source": [
    "The default column is missing too much values to fill in, i would srop the column"
   ]
  },
  {
   "cell_type": "code",
   "execution_count": 30,
   "id": "a83a60f0",
   "metadata": {},
   "outputs": [],
   "source": [
    "df = df.drop('default', axis = 1)"
   ]
  },
  {
   "cell_type": "markdown",
   "id": "23275b41",
   "metadata": {},
   "source": [
    "Given we have over 40000 inputs, i can afford to drop all the rows with missing values, to increase the accuracy of the model"
   ]
  },
  {
   "cell_type": "code",
   "execution_count": 31,
   "id": "56d531a7",
   "metadata": {},
   "outputs": [],
   "source": [
    "df = df.dropna()"
   ]
  },
  {
   "cell_type": "code",
   "execution_count": 32,
   "id": "8fddad5f",
   "metadata": {},
   "outputs": [
    {
     "data": {
      "text/plain": [
       "age               0\n",
       "job               0\n",
       "marital           0\n",
       "education         0\n",
       "housing           0\n",
       "loan              0\n",
       "contact           0\n",
       "month             0\n",
       "duration          0\n",
       "campaign          0\n",
       "pdays             0\n",
       "previous          0\n",
       "poutcome          0\n",
       "emp.var.rate      0\n",
       "cons.price.idx    0\n",
       "cons.conf.idx     0\n",
       "euribor3m         0\n",
       "nr.employed       0\n",
       "y                 0\n",
       "dtype: int64"
      ]
     },
     "execution_count": 32,
     "metadata": {},
     "output_type": "execute_result"
    }
   ],
   "source": [
    "df.isnull().sum()"
   ]
  },
  {
   "cell_type": "markdown",
   "id": "9f386581",
   "metadata": {},
   "source": [
    "Lets revisit pdays"
   ]
  },
  {
   "cell_type": "code",
   "execution_count": 33,
   "id": "032bb10d",
   "metadata": {
    "scrolled": false
   },
   "outputs": [
    {
     "data": {
      "text/plain": [
       "999    36879\n",
       "3        393\n",
       "6        379\n",
       "4        106\n",
       "2         57\n",
       "9         55\n",
       "12        53\n",
       "7         52\n",
       "5         45\n",
       "10        44\n",
       "13        33\n",
       "11        26\n",
       "1         24\n",
       "15        22\n",
       "14        18\n",
       "0         15\n",
       "8         14\n",
       "16         8\n",
       "17         6\n",
       "18         5\n",
       "22         3\n",
       "19         3\n",
       "21         2\n",
       "25         1\n",
       "26         1\n",
       "27         1\n",
       "Name: pdays, dtype: int64"
      ]
     },
     "execution_count": 33,
     "metadata": {},
     "output_type": "execute_result"
    }
   ],
   "source": [
    "df['pdays'].value_counts()"
   ]
  },
  {
   "cell_type": "markdown",
   "id": "07247634",
   "metadata": {},
   "source": [
    "Since pdays represent number of days that passed by after the client was last contacted from a previous campaign and 999 means client was not previously contacted. i would group the column into two, Contacted and Not contacted "
   ]
  },
  {
   "cell_type": "code",
   "execution_count": 34,
   "id": "b1878c02",
   "metadata": {},
   "outputs": [],
   "source": [
    "def inpute_pdays(pdays):\n",
    "    if pdays == 999:\n",
    "        return 'Not contacted'\n",
    "    else:\n",
    "        return 'Contacted'"
   ]
  },
  {
   "cell_type": "code",
   "execution_count": 35,
   "id": "834d678d",
   "metadata": {},
   "outputs": [],
   "source": [
    "df['pdayss'] = df['pdays'].apply(inpute_pdays) #implementing the change"
   ]
  },
  {
   "cell_type": "code",
   "execution_count": null,
   "id": "f328a39a",
   "metadata": {},
   "outputs": [],
   "source": []
  },
  {
   "cell_type": "code",
   "execution_count": 36,
   "id": "2954a1ff",
   "metadata": {},
   "outputs": [
    {
     "data": {
      "text/plain": [
       "<AxesSubplot:xlabel='pdayss', ylabel='count'>"
      ]
     },
     "execution_count": 36,
     "metadata": {},
     "output_type": "execute_result"
    },
    {
     "data": {
      "image/png": "[encoded data removed]",
      "text/plain": [
       "<Figure size 432x288 with 1 Axes>"
      ]
     },
     "metadata": {},
     "output_type": "display_data"
    }
   ],
   "source": [
    "sns.countplot(data = df, x = 'pdayss',hue='y')"
   ]
  },
  {
   "cell_type": "markdown",
   "id": "8e27b361",
   "metadata": {},
   "source": [
    "You can see those that were contacted, had a higher potential of subscribing than those that were not contacted"
   ]
  },
  {
   "cell_type": "markdown",
   "id": "c4de4265",
   "metadata": {},
   "source": [
    "Lets not forget we are dropping the duration column, reason being in the text file"
   ]
  },
  {
   "cell_type": "code",
   "execution_count": 37,
   "id": "f7631438",
   "metadata": {},
   "outputs": [],
   "source": [
    "df = df.drop(['pdays','duration'], axis = 1)"
   ]
  },
  {
   "cell_type": "markdown",
   "id": "5e20ed6f",
   "metadata": {},
   "source": [
    "Now back to the hightly correlated features. I will have to remove one of this columns because two highly correlated features are not good for the model"
   ]
  },
  {
   "cell_type": "code",
   "execution_count": 38,
   "id": "fcdfe472",
   "metadata": {},
   "outputs": [
    {
     "data": {
      "text/plain": [
       "<AxesSubplot:>"
      ]
     },
     "execution_count": 38,
     "metadata": {},
     "output_type": "execute_result"
    },
    {
     "data": {
      "image/png": "[encoded data removed]",
      "text/plain": [
       "<Figure size 864x432 with 2 Axes>"
      ]
     },
     "metadata": {},
     "output_type": "display_data"
    }
   ],
   "source": [
    "plt.figure(figsize=(12,6))\n",
    "sns.heatmap(df.corr(),cmap='coolwarm',annot=True)"
   ]
  },
  {
   "cell_type": "code",
   "execution_count": 39,
   "id": "9583a8dc",
   "metadata": {},
   "outputs": [],
   "source": [
    "df = df.drop(['euribor3m','nr.employed'], axis = 1)"
   ]
  },
  {
   "cell_type": "code",
   "execution_count": 40,
   "id": "6a85e878",
   "metadata": {
    "scrolled": false
   },
   "outputs": [
    {
     "data": {
      "text/html": [
       "<div>\n",
       "<style scoped>\n",
       "    .dataframe tbody tr th:only-of-type {\n",
       "        vertical-align: middle;\n",
       "    }\n",
       "\n",
       "    .dataframe tbody tr th {\n",
       "        vertical-align: top;\n",
       "    }\n",
       "\n",
       "    .dataframe thead th {\n",
       "        text-align: right;\n",
       "    }\n",
       "</style>\n",
       "<table border=\"1\" class=\"dataframe\">\n",
       "  <thead>\n",
       "    <tr style=\"text-align: right;\">\n",
       "      <th></th>\n",
       "      <th>age</th>\n",
       "      <th>job</th>\n",
       "      <th>marital</th>\n",
       "      <th>education</th>\n",
       "      <th>housing</th>\n",
       "      <th>loan</th>\n",
       "      <th>contact</th>\n",
       "      <th>month</th>\n",
       "      <th>campaign</th>\n",
       "      <th>previous</th>\n",
       "      <th>poutcome</th>\n",
       "      <th>emp.var.rate</th>\n",
       "      <th>cons.price.idx</th>\n",
       "      <th>cons.conf.idx</th>\n",
       "      <th>y</th>\n",
       "      <th>pdayss</th>\n",
       "    </tr>\n",
       "  </thead>\n",
       "  <tbody>\n",
       "    <tr>\n",
       "      <th>0</th>\n",
       "      <td>56</td>\n",
       "      <td>housemaid</td>\n",
       "      <td>married</td>\n",
       "      <td>basic.4y</td>\n",
       "      <td>no</td>\n",
       "      <td>no</td>\n",
       "      <td>telephone</td>\n",
       "      <td>may</td>\n",
       "      <td>1</td>\n",
       "      <td>0</td>\n",
       "      <td>nonexistent</td>\n",
       "      <td>1.1</td>\n",
       "      <td>93.994</td>\n",
       "      <td>-36.4</td>\n",
       "      <td>no</td>\n",
       "      <td>Not contacted</td>\n",
       "    </tr>\n",
       "    <tr>\n",
       "      <th>1</th>\n",
       "      <td>57</td>\n",
       "      <td>services</td>\n",
       "      <td>married</td>\n",
       "      <td>high.school</td>\n",
       "      <td>no</td>\n",
       "      <td>no</td>\n",
       "      <td>telephone</td>\n",
       "      <td>may</td>\n",
       "      <td>1</td>\n",
       "      <td>0</td>\n",
       "      <td>nonexistent</td>\n",
       "      <td>1.1</td>\n",
       "      <td>93.994</td>\n",
       "      <td>-36.4</td>\n",
       "      <td>no</td>\n",
       "      <td>Not contacted</td>\n",
       "    </tr>\n",
       "    <tr>\n",
       "      <th>2</th>\n",
       "      <td>37</td>\n",
       "      <td>services</td>\n",
       "      <td>married</td>\n",
       "      <td>high.school</td>\n",
       "      <td>yes</td>\n",
       "      <td>no</td>\n",
       "      <td>telephone</td>\n",
       "      <td>may</td>\n",
       "      <td>1</td>\n",
       "      <td>0</td>\n",
       "      <td>nonexistent</td>\n",
       "      <td>1.1</td>\n",
       "      <td>93.994</td>\n",
       "      <td>-36.4</td>\n",
       "      <td>no</td>\n",
       "      <td>Not contacted</td>\n",
       "    </tr>\n",
       "    <tr>\n",
       "      <th>3</th>\n",
       "      <td>40</td>\n",
       "      <td>admin.</td>\n",
       "      <td>married</td>\n",
       "      <td>basic.6y</td>\n",
       "      <td>no</td>\n",
       "      <td>no</td>\n",
       "      <td>telephone</td>\n",
       "      <td>may</td>\n",
       "      <td>1</td>\n",
       "      <td>0</td>\n",
       "      <td>nonexistent</td>\n",
       "      <td>1.1</td>\n",
       "      <td>93.994</td>\n",
       "      <td>-36.4</td>\n",
       "      <td>no</td>\n",
       "      <td>Not contacted</td>\n",
       "    </tr>\n",
       "    <tr>\n",
       "      <th>4</th>\n",
       "      <td>56</td>\n",
       "      <td>services</td>\n",
       "      <td>married</td>\n",
       "      <td>high.school</td>\n",
       "      <td>no</td>\n",
       "      <td>yes</td>\n",
       "      <td>telephone</td>\n",
       "      <td>may</td>\n",
       "      <td>1</td>\n",
       "      <td>0</td>\n",
       "      <td>nonexistent</td>\n",
       "      <td>1.1</td>\n",
       "      <td>93.994</td>\n",
       "      <td>-36.4</td>\n",
       "      <td>no</td>\n",
       "      <td>Not contacted</td>\n",
       "    </tr>\n",
       "    <tr>\n",
       "      <th>...</th>\n",
       "      <td>...</td>\n",
       "      <td>...</td>\n",
       "      <td>...</td>\n",
       "      <td>...</td>\n",
       "      <td>...</td>\n",
       "      <td>...</td>\n",
       "      <td>...</td>\n",
       "      <td>...</td>\n",
       "      <td>...</td>\n",
       "      <td>...</td>\n",
       "      <td>...</td>\n",
       "      <td>...</td>\n",
       "      <td>...</td>\n",
       "      <td>...</td>\n",
       "      <td>...</td>\n",
       "      <td>...</td>\n",
       "    </tr>\n",
       "    <tr>\n",
       "      <th>41183</th>\n",
       "      <td>73</td>\n",
       "      <td>retired</td>\n",
       "      <td>married</td>\n",
       "      <td>professional.course</td>\n",
       "      <td>yes</td>\n",
       "      <td>no</td>\n",
       "      <td>cellular</td>\n",
       "      <td>nov</td>\n",
       "      <td>1</td>\n",
       "      <td>0</td>\n",
       "      <td>nonexistent</td>\n",
       "      <td>-1.1</td>\n",
       "      <td>94.767</td>\n",
       "      <td>-50.8</td>\n",
       "      <td>yes</td>\n",
       "      <td>Not contacted</td>\n",
       "    </tr>\n",
       "    <tr>\n",
       "      <th>41184</th>\n",
       "      <td>46</td>\n",
       "      <td>blue-collar</td>\n",
       "      <td>married</td>\n",
       "      <td>professional.course</td>\n",
       "      <td>no</td>\n",
       "      <td>no</td>\n",
       "      <td>cellular</td>\n",
       "      <td>nov</td>\n",
       "      <td>1</td>\n",
       "      <td>0</td>\n",
       "      <td>nonexistent</td>\n",
       "      <td>-1.1</td>\n",
       "      <td>94.767</td>\n",
       "      <td>-50.8</td>\n",
       "      <td>no</td>\n",
       "      <td>Not contacted</td>\n",
       "    </tr>\n",
       "    <tr>\n",
       "      <th>41185</th>\n",
       "      <td>56</td>\n",
       "      <td>retired</td>\n",
       "      <td>married</td>\n",
       "      <td>university.degree</td>\n",
       "      <td>yes</td>\n",
       "      <td>no</td>\n",
       "      <td>cellular</td>\n",
       "      <td>nov</td>\n",
       "      <td>2</td>\n",
       "      <td>0</td>\n",
       "      <td>nonexistent</td>\n",
       "      <td>-1.1</td>\n",
       "      <td>94.767</td>\n",
       "      <td>-50.8</td>\n",
       "      <td>no</td>\n",
       "      <td>Not contacted</td>\n",
       "    </tr>\n",
       "    <tr>\n",
       "      <th>41186</th>\n",
       "      <td>44</td>\n",
       "      <td>technician</td>\n",
       "      <td>married</td>\n",
       "      <td>professional.course</td>\n",
       "      <td>no</td>\n",
       "      <td>no</td>\n",
       "      <td>cellular</td>\n",
       "      <td>nov</td>\n",
       "      <td>1</td>\n",
       "      <td>0</td>\n",
       "      <td>nonexistent</td>\n",
       "      <td>-1.1</td>\n",
       "      <td>94.767</td>\n",
       "      <td>-50.8</td>\n",
       "      <td>yes</td>\n",
       "      <td>Not contacted</td>\n",
       "    </tr>\n",
       "    <tr>\n",
       "      <th>41187</th>\n",
       "      <td>74</td>\n",
       "      <td>retired</td>\n",
       "      <td>married</td>\n",
       "      <td>professional.course</td>\n",
       "      <td>yes</td>\n",
       "      <td>no</td>\n",
       "      <td>cellular</td>\n",
       "      <td>nov</td>\n",
       "      <td>3</td>\n",
       "      <td>1</td>\n",
       "      <td>failure</td>\n",
       "      <td>-1.1</td>\n",
       "      <td>94.767</td>\n",
       "      <td>-50.8</td>\n",
       "      <td>no</td>\n",
       "      <td>Not contacted</td>\n",
       "    </tr>\n",
       "  </tbody>\n",
       "</table>\n",
       "<p>38245 rows × 16 columns</p>\n",
       "</div>"
      ],
      "text/plain": [
       "       age          job  marital            education housing loan    contact  \\\n",
       "0       56    housemaid  married             basic.4y      no   no  telephone   \n",
       "1       57     services  married          high.school      no   no  telephone   \n",
       "2       37     services  married          high.school     yes   no  telephone   \n",
       "3       40       admin.  married             basic.6y      no   no  telephone   \n",
       "4       56     services  married          high.school      no  yes  telephone   \n",
       "...    ...          ...      ...                  ...     ...  ...        ...   \n",
       "41183   73      retired  married  professional.course     yes   no   cellular   \n",
       "41184   46  blue-collar  married  professional.course      no   no   cellular   \n",
       "41185   56      retired  married    university.degree     yes   no   cellular   \n",
       "41186   44   technician  married  professional.course      no   no   cellular   \n",
       "41187   74      retired  married  professional.course     yes   no   cellular   \n",
       "\n",
       "      month  campaign  previous     poutcome  emp.var.rate  cons.price.idx  \\\n",
       "0       may         1         0  nonexistent           1.1          93.994   \n",
       "1       may         1         0  nonexistent           1.1          93.994   \n",
       "2       may         1         0  nonexistent           1.1          93.994   \n",
       "3       may         1         0  nonexistent           1.1          93.994   \n",
       "4       may         1         0  nonexistent           1.1          93.994   \n",
       "...     ...       ...       ...          ...           ...             ...   \n",
       "41183   nov         1         0  nonexistent          -1.1          94.767   \n",
       "41184   nov         1         0  nonexistent          -1.1          94.767   \n",
       "41185   nov         2         0  nonexistent          -1.1          94.767   \n",
       "41186   nov         1         0  nonexistent          -1.1          94.767   \n",
       "41187   nov         3         1      failure          -1.1          94.767   \n",
       "\n",
       "       cons.conf.idx    y         pdayss  \n",
       "0              -36.4   no  Not contacted  \n",
       "1              -36.4   no  Not contacted  \n",
       "2              -36.4   no  Not contacted  \n",
       "3              -36.4   no  Not contacted  \n",
       "4              -36.4   no  Not contacted  \n",
       "...              ...  ...            ...  \n",
       "41183          -50.8  yes  Not contacted  \n",
       "41184          -50.8   no  Not contacted  \n",
       "41185          -50.8   no  Not contacted  \n",
       "41186          -50.8  yes  Not contacted  \n",
       "41187          -50.8   no  Not contacted  \n",
       "\n",
       "[38245 rows x 16 columns]"
      ]
     },
     "execution_count": 40,
     "metadata": {},
     "output_type": "execute_result"
    }
   ],
   "source": [
    "df"
   ]
  },
  {
   "cell_type": "code",
   "execution_count": 41,
   "id": "a0a15bdf",
   "metadata": {},
   "outputs": [
    {
     "data": {
      "text/plain": [
       "0    33066\n",
       "1     4234\n",
       "2      672\n",
       "3      195\n",
       "4       57\n",
       "5       16\n",
       "6        4\n",
       "7        1\n",
       "Name: previous, dtype: int64"
      ]
     },
     "execution_count": 41,
     "metadata": {},
     "output_type": "execute_result"
    }
   ],
   "source": [
    "df['previous'].value_counts() #This also works in the same manner as pdays and would be treated the same way"
   ]
  },
  {
   "cell_type": "code",
   "execution_count": 42,
   "id": "40c511f8",
   "metadata": {},
   "outputs": [],
   "source": [
    "def inpute_previous(previous):\n",
    "    if previous == 0:\n",
    "        return 'Not contacted'\n",
    "    else:\n",
    "        return 'Contacted'"
   ]
  },
  {
   "cell_type": "code",
   "execution_count": 43,
   "id": "7f6b54ec",
   "metadata": {},
   "outputs": [],
   "source": [
    "df['previous'] = df['previous'].apply(inpute_previous)"
   ]
  },
  {
   "cell_type": "code",
   "execution_count": 44,
   "id": "00e52ddc",
   "metadata": {},
   "outputs": [
    {
     "data": {
      "text/html": [
       "<div>\n",
       "<style scoped>\n",
       "    .dataframe tbody tr th:only-of-type {\n",
       "        vertical-align: middle;\n",
       "    }\n",
       "\n",
       "    .dataframe tbody tr th {\n",
       "        vertical-align: top;\n",
       "    }\n",
       "\n",
       "    .dataframe thead th {\n",
       "        text-align: right;\n",
       "    }\n",
       "</style>\n",
       "<table border=\"1\" class=\"dataframe\">\n",
       "  <thead>\n",
       "    <tr style=\"text-align: right;\">\n",
       "      <th></th>\n",
       "      <th>age</th>\n",
       "      <th>job</th>\n",
       "      <th>marital</th>\n",
       "      <th>education</th>\n",
       "      <th>housing</th>\n",
       "      <th>loan</th>\n",
       "      <th>contact</th>\n",
       "      <th>month</th>\n",
       "      <th>campaign</th>\n",
       "      <th>previous</th>\n",
       "      <th>poutcome</th>\n",
       "      <th>emp.var.rate</th>\n",
       "      <th>cons.price.idx</th>\n",
       "      <th>cons.conf.idx</th>\n",
       "      <th>y</th>\n",
       "      <th>pdayss</th>\n",
       "    </tr>\n",
       "  </thead>\n",
       "  <tbody>\n",
       "    <tr>\n",
       "      <th>0</th>\n",
       "      <td>56</td>\n",
       "      <td>housemaid</td>\n",
       "      <td>married</td>\n",
       "      <td>basic.4y</td>\n",
       "      <td>no</td>\n",
       "      <td>no</td>\n",
       "      <td>telephone</td>\n",
       "      <td>may</td>\n",
       "      <td>1</td>\n",
       "      <td>Not contacted</td>\n",
       "      <td>nonexistent</td>\n",
       "      <td>1.1</td>\n",
       "      <td>93.994</td>\n",
       "      <td>-36.4</td>\n",
       "      <td>no</td>\n",
       "      <td>Not contacted</td>\n",
       "    </tr>\n",
       "    <tr>\n",
       "      <th>1</th>\n",
       "      <td>57</td>\n",
       "      <td>services</td>\n",
       "      <td>married</td>\n",
       "      <td>high.school</td>\n",
       "      <td>no</td>\n",
       "      <td>no</td>\n",
       "      <td>telephone</td>\n",
       "      <td>may</td>\n",
       "      <td>1</td>\n",
       "      <td>Not contacted</td>\n",
       "      <td>nonexistent</td>\n",
       "      <td>1.1</td>\n",
       "      <td>93.994</td>\n",
       "      <td>-36.4</td>\n",
       "      <td>no</td>\n",
       "      <td>Not contacted</td>\n",
       "    </tr>\n",
       "    <tr>\n",
       "      <th>2</th>\n",
       "      <td>37</td>\n",
       "      <td>services</td>\n",
       "      <td>married</td>\n",
       "      <td>high.school</td>\n",
       "      <td>yes</td>\n",
       "      <td>no</td>\n",
       "      <td>telephone</td>\n",
       "      <td>may</td>\n",
       "      <td>1</td>\n",
       "      <td>Not contacted</td>\n",
       "      <td>nonexistent</td>\n",
       "      <td>1.1</td>\n",
       "      <td>93.994</td>\n",
       "      <td>-36.4</td>\n",
       "      <td>no</td>\n",
       "      <td>Not contacted</td>\n",
       "    </tr>\n",
       "    <tr>\n",
       "      <th>3</th>\n",
       "      <td>40</td>\n",
       "      <td>admin.</td>\n",
       "      <td>married</td>\n",
       "      <td>basic.6y</td>\n",
       "      <td>no</td>\n",
       "      <td>no</td>\n",
       "      <td>telephone</td>\n",
       "      <td>may</td>\n",
       "      <td>1</td>\n",
       "      <td>Not contacted</td>\n",
       "      <td>nonexistent</td>\n",
       "      <td>1.1</td>\n",
       "      <td>93.994</td>\n",
       "      <td>-36.4</td>\n",
       "      <td>no</td>\n",
       "      <td>Not contacted</td>\n",
       "    </tr>\n",
       "    <tr>\n",
       "      <th>4</th>\n",
       "      <td>56</td>\n",
       "      <td>services</td>\n",
       "      <td>married</td>\n",
       "      <td>high.school</td>\n",
       "      <td>no</td>\n",
       "      <td>yes</td>\n",
       "      <td>telephone</td>\n",
       "      <td>may</td>\n",
       "      <td>1</td>\n",
       "      <td>Not contacted</td>\n",
       "      <td>nonexistent</td>\n",
       "      <td>1.1</td>\n",
       "      <td>93.994</td>\n",
       "      <td>-36.4</td>\n",
       "      <td>no</td>\n",
       "      <td>Not contacted</td>\n",
       "    </tr>\n",
       "    <tr>\n",
       "      <th>...</th>\n",
       "      <td>...</td>\n",
       "      <td>...</td>\n",
       "      <td>...</td>\n",
       "      <td>...</td>\n",
       "      <td>...</td>\n",
       "      <td>...</td>\n",
       "      <td>...</td>\n",
       "      <td>...</td>\n",
       "      <td>...</td>\n",
       "      <td>...</td>\n",
       "      <td>...</td>\n",
       "      <td>...</td>\n",
       "      <td>...</td>\n",
       "      <td>...</td>\n",
       "      <td>...</td>\n",
       "      <td>...</td>\n",
       "    </tr>\n",
       "    <tr>\n",
       "      <th>41183</th>\n",
       "      <td>73</td>\n",
       "      <td>retired</td>\n",
       "      <td>married</td>\n",
       "      <td>professional.course</td>\n",
       "      <td>yes</td>\n",
       "      <td>no</td>\n",
       "      <td>cellular</td>\n",
       "      <td>nov</td>\n",
       "      <td>1</td>\n",
       "      <td>Not contacted</td>\n",
       "      <td>nonexistent</td>\n",
       "      <td>-1.1</td>\n",
       "      <td>94.767</td>\n",
       "      <td>-50.8</td>\n",
       "      <td>yes</td>\n",
       "      <td>Not contacted</td>\n",
       "    </tr>\n",
       "    <tr>\n",
       "      <th>41184</th>\n",
       "      <td>46</td>\n",
       "      <td>blue-collar</td>\n",
       "      <td>married</td>\n",
       "      <td>professional.course</td>\n",
       "      <td>no</td>\n",
       "      <td>no</td>\n",
       "      <td>cellular</td>\n",
       "      <td>nov</td>\n",
       "      <td>1</td>\n",
       "      <td>Not contacted</td>\n",
       "      <td>nonexistent</td>\n",
       "      <td>-1.1</td>\n",
       "      <td>94.767</td>\n",
       "      <td>-50.8</td>\n",
       "      <td>no</td>\n",
       "      <td>Not contacted</td>\n",
       "    </tr>\n",
       "    <tr>\n",
       "      <th>41185</th>\n",
       "      <td>56</td>\n",
       "      <td>retired</td>\n",
       "      <td>married</td>\n",
       "      <td>university.degree</td>\n",
       "      <td>yes</td>\n",
       "      <td>no</td>\n",
       "      <td>cellular</td>\n",
       "      <td>nov</td>\n",
       "      <td>2</td>\n",
       "      <td>Not contacted</td>\n",
       "      <td>nonexistent</td>\n",
       "      <td>-1.1</td>\n",
       "      <td>94.767</td>\n",
       "      <td>-50.8</td>\n",
       "      <td>no</td>\n",
       "      <td>Not contacted</td>\n",
       "    </tr>\n",
       "    <tr>\n",
       "      <th>41186</th>\n",
       "      <td>44</td>\n",
       "      <td>technician</td>\n",
       "      <td>married</td>\n",
       "      <td>professional.course</td>\n",
       "      <td>no</td>\n",
       "      <td>no</td>\n",
       "      <td>cellular</td>\n",
       "      <td>nov</td>\n",
       "      <td>1</td>\n",
       "      <td>Not contacted</td>\n",
       "      <td>nonexistent</td>\n",
       "      <td>-1.1</td>\n",
       "      <td>94.767</td>\n",
       "      <td>-50.8</td>\n",
       "      <td>yes</td>\n",
       "      <td>Not contacted</td>\n",
       "    </tr>\n",
       "    <tr>\n",
       "      <th>41187</th>\n",
       "      <td>74</td>\n",
       "      <td>retired</td>\n",
       "      <td>married</td>\n",
       "      <td>professional.course</td>\n",
       "      <td>yes</td>\n",
       "      <td>no</td>\n",
       "      <td>cellular</td>\n",
       "      <td>nov</td>\n",
       "      <td>3</td>\n",
       "      <td>Contacted</td>\n",
       "      <td>failure</td>\n",
       "      <td>-1.1</td>\n",
       "      <td>94.767</td>\n",
       "      <td>-50.8</td>\n",
       "      <td>no</td>\n",
       "      <td>Not contacted</td>\n",
       "    </tr>\n",
       "  </tbody>\n",
       "</table>\n",
       "<p>38245 rows × 16 columns</p>\n",
       "</div>"
      ],
      "text/plain": [
       "       age          job  marital            education housing loan    contact  \\\n",
       "0       56    housemaid  married             basic.4y      no   no  telephone   \n",
       "1       57     services  married          high.school      no   no  telephone   \n",
       "2       37     services  married          high.school     yes   no  telephone   \n",
       "3       40       admin.  married             basic.6y      no   no  telephone   \n",
       "4       56     services  married          high.school      no  yes  telephone   \n",
       "...    ...          ...      ...                  ...     ...  ...        ...   \n",
       "41183   73      retired  married  professional.course     yes   no   cellular   \n",
       "41184   46  blue-collar  married  professional.course      no   no   cellular   \n",
       "41185   56      retired  married    university.degree     yes   no   cellular   \n",
       "41186   44   technician  married  professional.course      no   no   cellular   \n",
       "41187   74      retired  married  professional.course     yes   no   cellular   \n",
       "\n",
       "      month  campaign       previous     poutcome  emp.var.rate  \\\n",
       "0       may         1  Not contacted  nonexistent           1.1   \n",
       "1       may         1  Not contacted  nonexistent           1.1   \n",
       "2       may         1  Not contacted  nonexistent           1.1   \n",
       "3       may         1  Not contacted  nonexistent           1.1   \n",
       "4       may         1  Not contacted  nonexistent           1.1   \n",
       "...     ...       ...            ...          ...           ...   \n",
       "41183   nov         1  Not contacted  nonexistent          -1.1   \n",
       "41184   nov         1  Not contacted  nonexistent          -1.1   \n",
       "41185   nov         2  Not contacted  nonexistent          -1.1   \n",
       "41186   nov         1  Not contacted  nonexistent          -1.1   \n",
       "41187   nov         3      Contacted      failure          -1.1   \n",
       "\n",
       "       cons.price.idx  cons.conf.idx    y         pdayss  \n",
       "0              93.994          -36.4   no  Not contacted  \n",
       "1              93.994          -36.4   no  Not contacted  \n",
       "2              93.994          -36.4   no  Not contacted  \n",
       "3              93.994          -36.4   no  Not contacted  \n",
       "4              93.994          -36.4   no  Not contacted  \n",
       "...               ...            ...  ...            ...  \n",
       "41183          94.767          -50.8  yes  Not contacted  \n",
       "41184          94.767          -50.8   no  Not contacted  \n",
       "41185          94.767          -50.8   no  Not contacted  \n",
       "41186          94.767          -50.8  yes  Not contacted  \n",
       "41187          94.767          -50.8   no  Not contacted  \n",
       "\n",
       "[38245 rows x 16 columns]"
      ]
     },
     "execution_count": 44,
     "metadata": {},
     "output_type": "execute_result"
    }
   ],
   "source": [
    "df"
   ]
  },
  {
   "cell_type": "code",
   "execution_count": 45,
   "id": "a50b3641",
   "metadata": {},
   "outputs": [
    {
     "data": {
      "text/plain": [
       "<AxesSubplot:xlabel='previous', ylabel='count'>"
      ]
     },
     "execution_count": 45,
     "metadata": {},
     "output_type": "execute_result"
    },
    {
     "data": {
      "image/png": "[encoded data removed]",
      "text/plain": [
       "<Figure size 432x288 with 1 Axes>"
      ]
     },
     "metadata": {},
     "output_type": "display_data"
    }
   ],
   "source": [
    "sns.countplot(data = df, x = 'previous',hue='y')"
   ]
  },
  {
   "cell_type": "markdown",
   "id": "a47e6dfd",
   "metadata": {},
   "source": [
    "I will replace the 'yes' and 'no' in 'housing','loan' and 'y' to 1 and 0 using get_dummies because that is what the model understands"
   ]
  },
  {
   "cell_type": "code",
   "execution_count": 46,
   "id": "db9bea9c",
   "metadata": {},
   "outputs": [],
   "source": [
    "df['y']=df['y'].replace(['no', 'yes'],[0,1])\n",
    "df['housing']=df['housing'].replace(['no', 'yes'],[0,1])\n",
    "df['loan']=df['loan'].replace(['no', 'yes'],[0,1])"
   ]
  },
  {
   "cell_type": "code",
   "execution_count": 47,
   "id": "58453090",
   "metadata": {},
   "outputs": [],
   "source": [
    "dummies = pd.get_dummies(df[['job', 'marital','education','contact','month','previous','poutcome','pdayss']],drop_first=True)\n",
    "df = df.drop(['job', 'marital','education','contact','month','previous','poutcome','pdayss'],axis=1)\n",
    "df = pd.concat([df,dummies],axis=1)"
   ]
  },
  {
   "cell_type": "code",
   "execution_count": 48,
   "id": "30295980",
   "metadata": {},
   "outputs": [
    {
     "data": {
      "text/html": [
       "<div>\n",
       "<style scoped>\n",
       "    .dataframe tbody tr th:only-of-type {\n",
       "        vertical-align: middle;\n",
       "    }\n",
       "\n",
       "    .dataframe tbody tr th {\n",
       "        vertical-align: top;\n",
       "    }\n",
       "\n",
       "    .dataframe thead th {\n",
       "        text-align: right;\n",
       "    }\n",
       "</style>\n",
       "<table border=\"1\" class=\"dataframe\">\n",
       "  <thead>\n",
       "    <tr style=\"text-align: right;\">\n",
       "      <th></th>\n",
       "      <th>age</th>\n",
       "      <th>housing</th>\n",
       "      <th>loan</th>\n",
       "      <th>campaign</th>\n",
       "      <th>emp.var.rate</th>\n",
       "      <th>cons.price.idx</th>\n",
       "      <th>cons.conf.idx</th>\n",
       "      <th>y</th>\n",
       "      <th>job_blue-collar</th>\n",
       "      <th>job_entrepreneur</th>\n",
       "      <th>...</th>\n",
       "      <th>month_jun</th>\n",
       "      <th>month_mar</th>\n",
       "      <th>month_may</th>\n",
       "      <th>month_nov</th>\n",
       "      <th>month_oct</th>\n",
       "      <th>month_sep</th>\n",
       "      <th>previous_Not contacted</th>\n",
       "      <th>poutcome_nonexistent</th>\n",
       "      <th>poutcome_success</th>\n",
       "      <th>pdayss_Not contacted</th>\n",
       "    </tr>\n",
       "  </thead>\n",
       "  <tbody>\n",
       "    <tr>\n",
       "      <th>0</th>\n",
       "      <td>56</td>\n",
       "      <td>0</td>\n",
       "      <td>0</td>\n",
       "      <td>1</td>\n",
       "      <td>1.1</td>\n",
       "      <td>93.994</td>\n",
       "      <td>-36.4</td>\n",
       "      <td>0</td>\n",
       "      <td>0</td>\n",
       "      <td>0</td>\n",
       "      <td>...</td>\n",
       "      <td>0</td>\n",
       "      <td>0</td>\n",
       "      <td>1</td>\n",
       "      <td>0</td>\n",
       "      <td>0</td>\n",
       "      <td>0</td>\n",
       "      <td>1</td>\n",
       "      <td>1</td>\n",
       "      <td>0</td>\n",
       "      <td>1</td>\n",
       "    </tr>\n",
       "    <tr>\n",
       "      <th>1</th>\n",
       "      <td>57</td>\n",
       "      <td>0</td>\n",
       "      <td>0</td>\n",
       "      <td>1</td>\n",
       "      <td>1.1</td>\n",
       "      <td>93.994</td>\n",
       "      <td>-36.4</td>\n",
       "      <td>0</td>\n",
       "      <td>0</td>\n",
       "      <td>0</td>\n",
       "      <td>...</td>\n",
       "      <td>0</td>\n",
       "      <td>0</td>\n",
       "      <td>1</td>\n",
       "      <td>0</td>\n",
       "      <td>0</td>\n",
       "      <td>0</td>\n",
       "      <td>1</td>\n",
       "      <td>1</td>\n",
       "      <td>0</td>\n",
       "      <td>1</td>\n",
       "    </tr>\n",
       "    <tr>\n",
       "      <th>2</th>\n",
       "      <td>37</td>\n",
       "      <td>1</td>\n",
       "      <td>0</td>\n",
       "      <td>1</td>\n",
       "      <td>1.1</td>\n",
       "      <td>93.994</td>\n",
       "      <td>-36.4</td>\n",
       "      <td>0</td>\n",
       "      <td>0</td>\n",
       "      <td>0</td>\n",
       "      <td>...</td>\n",
       "      <td>0</td>\n",
       "      <td>0</td>\n",
       "      <td>1</td>\n",
       "      <td>0</td>\n",
       "      <td>0</td>\n",
       "      <td>0</td>\n",
       "      <td>1</td>\n",
       "      <td>1</td>\n",
       "      <td>0</td>\n",
       "      <td>1</td>\n",
       "    </tr>\n",
       "    <tr>\n",
       "      <th>3</th>\n",
       "      <td>40</td>\n",
       "      <td>0</td>\n",
       "      <td>0</td>\n",
       "      <td>1</td>\n",
       "      <td>1.1</td>\n",
       "      <td>93.994</td>\n",
       "      <td>-36.4</td>\n",
       "      <td>0</td>\n",
       "      <td>0</td>\n",
       "      <td>0</td>\n",
       "      <td>...</td>\n",
       "      <td>0</td>\n",
       "      <td>0</td>\n",
       "      <td>1</td>\n",
       "      <td>0</td>\n",
       "      <td>0</td>\n",
       "      <td>0</td>\n",
       "      <td>1</td>\n",
       "      <td>1</td>\n",
       "      <td>0</td>\n",
       "      <td>1</td>\n",
       "    </tr>\n",
       "    <tr>\n",
       "      <th>4</th>\n",
       "      <td>56</td>\n",
       "      <td>0</td>\n",
       "      <td>1</td>\n",
       "      <td>1</td>\n",
       "      <td>1.1</td>\n",
       "      <td>93.994</td>\n",
       "      <td>-36.4</td>\n",
       "      <td>0</td>\n",
       "      <td>0</td>\n",
       "      <td>0</td>\n",
       "      <td>...</td>\n",
       "      <td>0</td>\n",
       "      <td>0</td>\n",
       "      <td>1</td>\n",
       "      <td>0</td>\n",
       "      <td>0</td>\n",
       "      <td>0</td>\n",
       "      <td>1</td>\n",
       "      <td>1</td>\n",
       "      <td>0</td>\n",
       "      <td>1</td>\n",
       "    </tr>\n",
       "    <tr>\n",
       "      <th>...</th>\n",
       "      <td>...</td>\n",
       "      <td>...</td>\n",
       "      <td>...</td>\n",
       "      <td>...</td>\n",
       "      <td>...</td>\n",
       "      <td>...</td>\n",
       "      <td>...</td>\n",
       "      <td>...</td>\n",
       "      <td>...</td>\n",
       "      <td>...</td>\n",
       "      <td>...</td>\n",
       "      <td>...</td>\n",
       "      <td>...</td>\n",
       "      <td>...</td>\n",
       "      <td>...</td>\n",
       "      <td>...</td>\n",
       "      <td>...</td>\n",
       "      <td>...</td>\n",
       "      <td>...</td>\n",
       "      <td>...</td>\n",
       "      <td>...</td>\n",
       "    </tr>\n",
       "    <tr>\n",
       "      <th>41183</th>\n",
       "      <td>73</td>\n",
       "      <td>1</td>\n",
       "      <td>0</td>\n",
       "      <td>1</td>\n",
       "      <td>-1.1</td>\n",
       "      <td>94.767</td>\n",
       "      <td>-50.8</td>\n",
       "      <td>1</td>\n",
       "      <td>0</td>\n",
       "      <td>0</td>\n",
       "      <td>...</td>\n",
       "      <td>0</td>\n",
       "      <td>0</td>\n",
       "      <td>0</td>\n",
       "      <td>1</td>\n",
       "      <td>0</td>\n",
       "      <td>0</td>\n",
       "      <td>1</td>\n",
       "      <td>1</td>\n",
       "      <td>0</td>\n",
       "      <td>1</td>\n",
       "    </tr>\n",
       "    <tr>\n",
       "      <th>41184</th>\n",
       "      <td>46</td>\n",
       "      <td>0</td>\n",
       "      <td>0</td>\n",
       "      <td>1</td>\n",
       "      <td>-1.1</td>\n",
       "      <td>94.767</td>\n",
       "      <td>-50.8</td>\n",
       "      <td>0</td>\n",
       "      <td>1</td>\n",
       "      <td>0</td>\n",
       "      <td>...</td>\n",
       "      <td>0</td>\n",
       "      <td>0</td>\n",
       "      <td>0</td>\n",
       "      <td>1</td>\n",
       "      <td>0</td>\n",
       "      <td>0</td>\n",
       "      <td>1</td>\n",
       "      <td>1</td>\n",
       "      <td>0</td>\n",
       "      <td>1</td>\n",
       "    </tr>\n",
       "    <tr>\n",
       "      <th>41185</th>\n",
       "      <td>56</td>\n",
       "      <td>1</td>\n",
       "      <td>0</td>\n",
       "      <td>2</td>\n",
       "      <td>-1.1</td>\n",
       "      <td>94.767</td>\n",
       "      <td>-50.8</td>\n",
       "      <td>0</td>\n",
       "      <td>0</td>\n",
       "      <td>0</td>\n",
       "      <td>...</td>\n",
       "      <td>0</td>\n",
       "      <td>0</td>\n",
       "      <td>0</td>\n",
       "      <td>1</td>\n",
       "      <td>0</td>\n",
       "      <td>0</td>\n",
       "      <td>1</td>\n",
       "      <td>1</td>\n",
       "      <td>0</td>\n",
       "      <td>1</td>\n",
       "    </tr>\n",
       "    <tr>\n",
       "      <th>41186</th>\n",
       "      <td>44</td>\n",
       "      <td>0</td>\n",
       "      <td>0</td>\n",
       "      <td>1</td>\n",
       "      <td>-1.1</td>\n",
       "      <td>94.767</td>\n",
       "      <td>-50.8</td>\n",
       "      <td>1</td>\n",
       "      <td>0</td>\n",
       "      <td>0</td>\n",
       "      <td>...</td>\n",
       "      <td>0</td>\n",
       "      <td>0</td>\n",
       "      <td>0</td>\n",
       "      <td>1</td>\n",
       "      <td>0</td>\n",
       "      <td>0</td>\n",
       "      <td>1</td>\n",
       "      <td>1</td>\n",
       "      <td>0</td>\n",
       "      <td>1</td>\n",
       "    </tr>\n",
       "    <tr>\n",
       "      <th>41187</th>\n",
       "      <td>74</td>\n",
       "      <td>1</td>\n",
       "      <td>0</td>\n",
       "      <td>3</td>\n",
       "      <td>-1.1</td>\n",
       "      <td>94.767</td>\n",
       "      <td>-50.8</td>\n",
       "      <td>0</td>\n",
       "      <td>0</td>\n",
       "      <td>0</td>\n",
       "      <td>...</td>\n",
       "      <td>0</td>\n",
       "      <td>0</td>\n",
       "      <td>0</td>\n",
       "      <td>1</td>\n",
       "      <td>0</td>\n",
       "      <td>0</td>\n",
       "      <td>0</td>\n",
       "      <td>0</td>\n",
       "      <td>0</td>\n",
       "      <td>1</td>\n",
       "    </tr>\n",
       "  </tbody>\n",
       "</table>\n",
       "<p>38245 rows × 40 columns</p>\n",
       "</div>"
      ],
      "text/plain": [
       "       age  housing  loan  campaign  emp.var.rate  cons.price.idx  \\\n",
       "0       56        0     0         1           1.1          93.994   \n",
       "1       57        0     0         1           1.1          93.994   \n",
       "2       37        1     0         1           1.1          93.994   \n",
       "3       40        0     0         1           1.1          93.994   \n",
       "4       56        0     1         1           1.1          93.994   \n",
       "...    ...      ...   ...       ...           ...             ...   \n",
       "41183   73        1     0         1          -1.1          94.767   \n",
       "41184   46        0     0         1          -1.1          94.767   \n",
       "41185   56        1     0         2          -1.1          94.767   \n",
       "41186   44        0     0         1          -1.1          94.767   \n",
       "41187   74        1     0         3          -1.1          94.767   \n",
       "\n",
       "       cons.conf.idx  y  job_blue-collar  job_entrepreneur  ...  month_jun  \\\n",
       "0              -36.4  0                0                 0  ...          0   \n",
       "1              -36.4  0                0                 0  ...          0   \n",
       "2              -36.4  0                0                 0  ...          0   \n",
       "3              -36.4  0                0                 0  ...          0   \n",
       "4              -36.4  0                0                 0  ...          0   \n",
       "...              ... ..              ...               ...  ...        ...   \n",
       "41183          -50.8  1                0                 0  ...          0   \n",
       "41184          -50.8  0                1                 0  ...          0   \n",
       "41185          -50.8  0                0                 0  ...          0   \n",
       "41186          -50.8  1                0                 0  ...          0   \n",
       "41187          -50.8  0                0                 0  ...          0   \n",
       "\n",
       "       month_mar  month_may  month_nov  month_oct  month_sep  \\\n",
       "0              0          1          0          0          0   \n",
       "1              0          1          0          0          0   \n",
       "2              0          1          0          0          0   \n",
       "3              0          1          0          0          0   \n",
       "4              0          1          0          0          0   \n",
       "...          ...        ...        ...        ...        ...   \n",
       "41183          0          0          1          0          0   \n",
       "41184          0          0          1          0          0   \n",
       "41185          0          0          1          0          0   \n",
       "41186          0          0          1          0          0   \n",
       "41187          0          0          1          0          0   \n",
       "\n",
       "       previous_Not contacted  poutcome_nonexistent  poutcome_success  \\\n",
       "0                           1                     1                 0   \n",
       "1                           1                     1                 0   \n",
       "2                           1                     1                 0   \n",
       "3                           1                     1                 0   \n",
       "4                           1                     1                 0   \n",
       "...                       ...                   ...               ...   \n",
       "41183                       1                     1                 0   \n",
       "41184                       1                     1                 0   \n",
       "41185                       1                     1                 0   \n",
       "41186                       1                     1                 0   \n",
       "41187                       0                     0                 0   \n",
       "\n",
       "       pdayss_Not contacted  \n",
       "0                         1  \n",
       "1                         1  \n",
       "2                         1  \n",
       "3                         1  \n",
       "4                         1  \n",
       "...                     ...  \n",
       "41183                     1  \n",
       "41184                     1  \n",
       "41185                     1  \n",
       "41186                     1  \n",
       "41187                     1  \n",
       "\n",
       "[38245 rows x 40 columns]"
      ]
     },
     "execution_count": 48,
     "metadata": {},
     "output_type": "execute_result"
    }
   ],
   "source": [
    "df"
   ]
  },
  {
   "cell_type": "markdown",
   "id": "e05d8c12",
   "metadata": {},
   "source": [
    "#### I might want to try a different model on this dataset, so i like to have several copies for different models"
   ]
  },
  {
   "cell_type": "code",
   "execution_count": 49,
   "id": "3895baad",
   "metadata": {},
   "outputs": [],
   "source": [
    "dfc = df.copy()"
   ]
  },
  {
   "cell_type": "code",
   "execution_count": 50,
   "id": "9a861596",
   "metadata": {},
   "outputs": [
    {
     "data": {
      "text/html": [
       "<div>\n",
       "<style scoped>\n",
       "    .dataframe tbody tr th:only-of-type {\n",
       "        vertical-align: middle;\n",
       "    }\n",
       "\n",
       "    .dataframe tbody tr th {\n",
       "        vertical-align: top;\n",
       "    }\n",
       "\n",
       "    .dataframe thead th {\n",
       "        text-align: right;\n",
       "    }\n",
       "</style>\n",
       "<table border=\"1\" class=\"dataframe\">\n",
       "  <thead>\n",
       "    <tr style=\"text-align: right;\">\n",
       "      <th></th>\n",
       "      <th>age</th>\n",
       "      <th>housing</th>\n",
       "      <th>loan</th>\n",
       "      <th>campaign</th>\n",
       "      <th>emp.var.rate</th>\n",
       "      <th>cons.price.idx</th>\n",
       "      <th>cons.conf.idx</th>\n",
       "      <th>y</th>\n",
       "      <th>job_blue-collar</th>\n",
       "      <th>job_entrepreneur</th>\n",
       "      <th>...</th>\n",
       "      <th>month_jun</th>\n",
       "      <th>month_mar</th>\n",
       "      <th>month_may</th>\n",
       "      <th>month_nov</th>\n",
       "      <th>month_oct</th>\n",
       "      <th>month_sep</th>\n",
       "      <th>previous_Not contacted</th>\n",
       "      <th>poutcome_nonexistent</th>\n",
       "      <th>poutcome_success</th>\n",
       "      <th>pdayss_Not contacted</th>\n",
       "    </tr>\n",
       "  </thead>\n",
       "  <tbody>\n",
       "    <tr>\n",
       "      <th>0</th>\n",
       "      <td>56</td>\n",
       "      <td>0</td>\n",
       "      <td>0</td>\n",
       "      <td>1</td>\n",
       "      <td>1.1</td>\n",
       "      <td>93.994</td>\n",
       "      <td>-36.4</td>\n",
       "      <td>0</td>\n",
       "      <td>0</td>\n",
       "      <td>0</td>\n",
       "      <td>...</td>\n",
       "      <td>0</td>\n",
       "      <td>0</td>\n",
       "      <td>1</td>\n",
       "      <td>0</td>\n",
       "      <td>0</td>\n",
       "      <td>0</td>\n",
       "      <td>1</td>\n",
       "      <td>1</td>\n",
       "      <td>0</td>\n",
       "      <td>1</td>\n",
       "    </tr>\n",
       "    <tr>\n",
       "      <th>1</th>\n",
       "      <td>57</td>\n",
       "      <td>0</td>\n",
       "      <td>0</td>\n",
       "      <td>1</td>\n",
       "      <td>1.1</td>\n",
       "      <td>93.994</td>\n",
       "      <td>-36.4</td>\n",
       "      <td>0</td>\n",
       "      <td>0</td>\n",
       "      <td>0</td>\n",
       "      <td>...</td>\n",
       "      <td>0</td>\n",
       "      <td>0</td>\n",
       "      <td>1</td>\n",
       "      <td>0</td>\n",
       "      <td>0</td>\n",
       "      <td>0</td>\n",
       "      <td>1</td>\n",
       "      <td>1</td>\n",
       "      <td>0</td>\n",
       "      <td>1</td>\n",
       "    </tr>\n",
       "    <tr>\n",
       "      <th>2</th>\n",
       "      <td>37</td>\n",
       "      <td>1</td>\n",
       "      <td>0</td>\n",
       "      <td>1</td>\n",
       "      <td>1.1</td>\n",
       "      <td>93.994</td>\n",
       "      <td>-36.4</td>\n",
       "      <td>0</td>\n",
       "      <td>0</td>\n",
       "      <td>0</td>\n",
       "      <td>...</td>\n",
       "      <td>0</td>\n",
       "      <td>0</td>\n",
       "      <td>1</td>\n",
       "      <td>0</td>\n",
       "      <td>0</td>\n",
       "      <td>0</td>\n",
       "      <td>1</td>\n",
       "      <td>1</td>\n",
       "      <td>0</td>\n",
       "      <td>1</td>\n",
       "    </tr>\n",
       "    <tr>\n",
       "      <th>3</th>\n",
       "      <td>40</td>\n",
       "      <td>0</td>\n",
       "      <td>0</td>\n",
       "      <td>1</td>\n",
       "      <td>1.1</td>\n",
       "      <td>93.994</td>\n",
       "      <td>-36.4</td>\n",
       "      <td>0</td>\n",
       "      <td>0</td>\n",
       "      <td>0</td>\n",
       "      <td>...</td>\n",
       "      <td>0</td>\n",
       "      <td>0</td>\n",
       "      <td>1</td>\n",
       "      <td>0</td>\n",
       "      <td>0</td>\n",
       "      <td>0</td>\n",
       "      <td>1</td>\n",
       "      <td>1</td>\n",
       "      <td>0</td>\n",
       "      <td>1</td>\n",
       "    </tr>\n",
       "    <tr>\n",
       "      <th>4</th>\n",
       "      <td>56</td>\n",
       "      <td>0</td>\n",
       "      <td>1</td>\n",
       "      <td>1</td>\n",
       "      <td>1.1</td>\n",
       "      <td>93.994</td>\n",
       "      <td>-36.4</td>\n",
       "      <td>0</td>\n",
       "      <td>0</td>\n",
       "      <td>0</td>\n",
       "      <td>...</td>\n",
       "      <td>0</td>\n",
       "      <td>0</td>\n",
       "      <td>1</td>\n",
       "      <td>0</td>\n",
       "      <td>0</td>\n",
       "      <td>0</td>\n",
       "      <td>1</td>\n",
       "      <td>1</td>\n",
       "      <td>0</td>\n",
       "      <td>1</td>\n",
       "    </tr>\n",
       "    <tr>\n",
       "      <th>...</th>\n",
       "      <td>...</td>\n",
       "      <td>...</td>\n",
       "      <td>...</td>\n",
       "      <td>...</td>\n",
       "      <td>...</td>\n",
       "      <td>...</td>\n",
       "      <td>...</td>\n",
       "      <td>...</td>\n",
       "      <td>...</td>\n",
       "      <td>...</td>\n",
       "      <td>...</td>\n",
       "      <td>...</td>\n",
       "      <td>...</td>\n",
       "      <td>...</td>\n",
       "      <td>...</td>\n",
       "      <td>...</td>\n",
       "      <td>...</td>\n",
       "      <td>...</td>\n",
       "      <td>...</td>\n",
       "      <td>...</td>\n",
       "      <td>...</td>\n",
       "    </tr>\n",
       "    <tr>\n",
       "      <th>41183</th>\n",
       "      <td>73</td>\n",
       "      <td>1</td>\n",
       "      <td>0</td>\n",
       "      <td>1</td>\n",
       "      <td>-1.1</td>\n",
       "      <td>94.767</td>\n",
       "      <td>-50.8</td>\n",
       "      <td>1</td>\n",
       "      <td>0</td>\n",
       "      <td>0</td>\n",
       "      <td>...</td>\n",
       "      <td>0</td>\n",
       "      <td>0</td>\n",
       "      <td>0</td>\n",
       "      <td>1</td>\n",
       "      <td>0</td>\n",
       "      <td>0</td>\n",
       "      <td>1</td>\n",
       "      <td>1</td>\n",
       "      <td>0</td>\n",
       "      <td>1</td>\n",
       "    </tr>\n",
       "    <tr>\n",
       "      <th>41184</th>\n",
       "      <td>46</td>\n",
       "      <td>0</td>\n",
       "      <td>0</td>\n",
       "      <td>1</td>\n",
       "      <td>-1.1</td>\n",
       "      <td>94.767</td>\n",
       "      <td>-50.8</td>\n",
       "      <td>0</td>\n",
       "      <td>1</td>\n",
       "      <td>0</td>\n",
       "      <td>...</td>\n",
       "      <td>0</td>\n",
       "      <td>0</td>\n",
       "      <td>0</td>\n",
       "      <td>1</td>\n",
       "      <td>0</td>\n",
       "      <td>0</td>\n",
       "      <td>1</td>\n",
       "      <td>1</td>\n",
       "      <td>0</td>\n",
       "      <td>1</td>\n",
       "    </tr>\n",
       "    <tr>\n",
       "      <th>41185</th>\n",
       "      <td>56</td>\n",
       "      <td>1</td>\n",
       "      <td>0</td>\n",
       "      <td>2</td>\n",
       "      <td>-1.1</td>\n",
       "      <td>94.767</td>\n",
       "      <td>-50.8</td>\n",
       "      <td>0</td>\n",
       "      <td>0</td>\n",
       "      <td>0</td>\n",
       "      <td>...</td>\n",
       "      <td>0</td>\n",
       "      <td>0</td>\n",
       "      <td>0</td>\n",
       "      <td>1</td>\n",
       "      <td>0</td>\n",
       "      <td>0</td>\n",
       "      <td>1</td>\n",
       "      <td>1</td>\n",
       "      <td>0</td>\n",
       "      <td>1</td>\n",
       "    </tr>\n",
       "    <tr>\n",
       "      <th>41186</th>\n",
       "      <td>44</td>\n",
       "      <td>0</td>\n",
       "      <td>0</td>\n",
       "      <td>1</td>\n",
       "      <td>-1.1</td>\n",
       "      <td>94.767</td>\n",
       "      <td>-50.8</td>\n",
       "      <td>1</td>\n",
       "      <td>0</td>\n",
       "      <td>0</td>\n",
       "      <td>...</td>\n",
       "      <td>0</td>\n",
       "      <td>0</td>\n",
       "      <td>0</td>\n",
       "      <td>1</td>\n",
       "      <td>0</td>\n",
       "      <td>0</td>\n",
       "      <td>1</td>\n",
       "      <td>1</td>\n",
       "      <td>0</td>\n",
       "      <td>1</td>\n",
       "    </tr>\n",
       "    <tr>\n",
       "      <th>41187</th>\n",
       "      <td>74</td>\n",
       "      <td>1</td>\n",
       "      <td>0</td>\n",
       "      <td>3</td>\n",
       "      <td>-1.1</td>\n",
       "      <td>94.767</td>\n",
       "      <td>-50.8</td>\n",
       "      <td>0</td>\n",
       "      <td>0</td>\n",
       "      <td>0</td>\n",
       "      <td>...</td>\n",
       "      <td>0</td>\n",
       "      <td>0</td>\n",
       "      <td>0</td>\n",
       "      <td>1</td>\n",
       "      <td>0</td>\n",
       "      <td>0</td>\n",
       "      <td>0</td>\n",
       "      <td>0</td>\n",
       "      <td>0</td>\n",
       "      <td>1</td>\n",
       "    </tr>\n",
       "  </tbody>\n",
       "</table>\n",
       "<p>38245 rows × 40 columns</p>\n",
       "</div>"
      ],
      "text/plain": [
       "       age  housing  loan  campaign  emp.var.rate  cons.price.idx  \\\n",
       "0       56        0     0         1           1.1          93.994   \n",
       "1       57        0     0         1           1.1          93.994   \n",
       "2       37        1     0         1           1.1          93.994   \n",
       "3       40        0     0         1           1.1          93.994   \n",
       "4       56        0     1         1           1.1          93.994   \n",
       "...    ...      ...   ...       ...           ...             ...   \n",
       "41183   73        1     0         1          -1.1          94.767   \n",
       "41184   46        0     0         1          -1.1          94.767   \n",
       "41185   56        1     0         2          -1.1          94.767   \n",
       "41186   44        0     0         1          -1.1          94.767   \n",
       "41187   74        1     0         3          -1.1          94.767   \n",
       "\n",
       "       cons.conf.idx  y  job_blue-collar  job_entrepreneur  ...  month_jun  \\\n",
       "0              -36.4  0                0                 0  ...          0   \n",
       "1              -36.4  0                0                 0  ...          0   \n",
       "2              -36.4  0                0                 0  ...          0   \n",
       "3              -36.4  0                0                 0  ...          0   \n",
       "4              -36.4  0                0                 0  ...          0   \n",
       "...              ... ..              ...               ...  ...        ...   \n",
       "41183          -50.8  1                0                 0  ...          0   \n",
       "41184          -50.8  0                1                 0  ...          0   \n",
       "41185          -50.8  0                0                 0  ...          0   \n",
       "41186          -50.8  1                0                 0  ...          0   \n",
       "41187          -50.8  0                0                 0  ...          0   \n",
       "\n",
       "       month_mar  month_may  month_nov  month_oct  month_sep  \\\n",
       "0              0          1          0          0          0   \n",
       "1              0          1          0          0          0   \n",
       "2              0          1          0          0          0   \n",
       "3              0          1          0          0          0   \n",
       "4              0          1          0          0          0   \n",
       "...          ...        ...        ...        ...        ...   \n",
       "41183          0          0          1          0          0   \n",
       "41184          0          0          1          0          0   \n",
       "41185          0          0          1          0          0   \n",
       "41186          0          0          1          0          0   \n",
       "41187          0          0          1          0          0   \n",
       "\n",
       "       previous_Not contacted  poutcome_nonexistent  poutcome_success  \\\n",
       "0                           1                     1                 0   \n",
       "1                           1                     1                 0   \n",
       "2                           1                     1                 0   \n",
       "3                           1                     1                 0   \n",
       "4                           1                     1                 0   \n",
       "...                       ...                   ...               ...   \n",
       "41183                       1                     1                 0   \n",
       "41184                       1                     1                 0   \n",
       "41185                       1                     1                 0   \n",
       "41186                       1                     1                 0   \n",
       "41187                       0                     0                 0   \n",
       "\n",
       "       pdayss_Not contacted  \n",
       "0                         1  \n",
       "1                         1  \n",
       "2                         1  \n",
       "3                         1  \n",
       "4                         1  \n",
       "...                     ...  \n",
       "41183                     1  \n",
       "41184                     1  \n",
       "41185                     1  \n",
       "41186                     1  \n",
       "41187                     1  \n",
       "\n",
       "[38245 rows x 40 columns]"
      ]
     },
     "execution_count": 50,
     "metadata": {},
     "output_type": "execute_result"
    }
   ],
   "source": [
    "dfc"
   ]
  },
  {
   "cell_type": "markdown",
   "id": "ef235e5b",
   "metadata": {},
   "source": [
    "# Importing train test split"
   ]
  },
  {
   "cell_type": "code",
   "execution_count": 51,
   "id": "aad8a8f8",
   "metadata": {},
   "outputs": [],
   "source": [
    "from sklearn.model_selection import train_test_split"
   ]
  },
  {
   "cell_type": "code",
   "execution_count": 107,
   "id": "db4868ad",
   "metadata": {},
   "outputs": [],
   "source": [
    "X = dfc.drop('y',axis=1).values\n",
    "Y = dfc['y'].values"
   ]
  },
  {
   "cell_type": "code",
   "execution_count": 87,
   "id": "ce23478b",
   "metadata": {},
   "outputs": [],
   "source": [
    "X_train, X_test, y_train, y_test = train_test_split(X, Y, test_size=0.20, random_state=101)"
   ]
  },
  {
   "cell_type": "code",
   "execution_count": 52,
   "id": "8890fe8c",
   "metadata": {},
   "outputs": [],
   "source": [
    "#Scaling the data, this improves the model\n",
    "from sklearn.preprocessing import MinMaxScaler"
   ]
  },
  {
   "cell_type": "code",
   "execution_count": 110,
   "id": "940f309e",
   "metadata": {},
   "outputs": [],
   "source": [
    "scaler = MinMaxScaler()"
   ]
  },
  {
   "cell_type": "code",
   "execution_count": 111,
   "id": "57d3246f",
   "metadata": {},
   "outputs": [],
   "source": [
    "X_train = scaler.fit_transform(X_train)"
   ]
  },
  {
   "cell_type": "code",
   "execution_count": 112,
   "id": "aa15e810",
   "metadata": {},
   "outputs": [],
   "source": [
    "X_test = scaler.transform(X_test)"
   ]
  },
  {
   "cell_type": "markdown",
   "id": "84ccfb02",
   "metadata": {},
   "source": [
    "# Building a neural network model"
   ]
  },
  {
   "cell_type": "code",
   "execution_count": 53,
   "id": "7f3ae0cf",
   "metadata": {},
   "outputs": [],
   "source": [
    "import tensorflow as tf\n",
    "from tensorflow.keras.models import Sequential\n",
    "from tensorflow.keras.layers import Dense, Activation,Dropout\n",
    "from tensorflow.keras.constraints import max_norm"
   ]
  },
  {
   "cell_type": "code",
   "execution_count": 86,
   "id": "bb5830b4",
   "metadata": {},
   "outputs": [],
   "source": [
    "model = Sequential()\n",
    "\n",
    "model.add(Dense(40,  activation='relu'))\n",
    "model.add(Dropout(0.2))\n",
    "\n",
    "model.add(Dense(40, activation='relu'))\n",
    "model.add(Dropout(0.2))\n",
    "\n",
    "model.add(Dense(20, activation='relu'))\n",
    "model.add(Dropout(0.2))\n",
    "\n",
    "\n",
    "model.add(Dense(10, activation='relu'))\n",
    "model.add(Dropout(0.2))\n",
    "\n",
    "\n",
    "model.add(Dense(5, activation='relu'))\n",
    "\n",
    "model.add(Dense(units=1,activation='sigmoid'))\n",
    "\n",
    "model.compile(loss='binary_crossentropy', optimizer='adam')"
   ]
  },
  {
   "cell_type": "code",
   "execution_count": 54,
   "id": "3d62549b",
   "metadata": {},
   "outputs": [],
   "source": [
    "from tensorflow.keras.callbacks import EarlyStopping"
   ]
  },
  {
   "cell_type": "code",
   "execution_count": 87,
   "id": "61d966f2",
   "metadata": {},
   "outputs": [],
   "source": [
    "early_stop = EarlyStopping(monitor='val_loss', mode='min', verbose=1, patience=25)"
   ]
  },
  {
   "cell_type": "code",
   "execution_count": 88,
   "id": "01b4fd11",
   "metadata": {
    "scrolled": true
   },
   "outputs": [
    {
     "name": "stdout",
     "output_type": "stream",
     "text": [
      "Epoch 1/600\n",
      "123/123 [==============================] - 1s 5ms/step - loss: 0.3881 - val_loss: 0.3000\n",
      "Epoch 2/600\n",
      "123/123 [==============================] - 0s 4ms/step - loss: 0.3225 - val_loss: 0.2806\n",
      "Epoch 3/600\n",
      "123/123 [==============================] - 0s 4ms/step - loss: 0.3111 - val_loss: 0.2782\n",
      "Epoch 4/600\n",
      "123/123 [==============================] - 0s 4ms/step - loss: 0.3049 - val_loss: 0.2755\n",
      "Epoch 5/600\n",
      "123/123 [==============================] - 0s 4ms/step - loss: 0.2997 - val_loss: 0.2745\n",
      "Epoch 6/600\n",
      "123/123 [==============================] - 0s 4ms/step - loss: 0.3014 - val_loss: 0.2742\n",
      "Epoch 7/600\n",
      "123/123 [==============================] - 0s 4ms/step - loss: 0.2977 - val_loss: 0.2742\n",
      "Epoch 8/600\n",
      "123/123 [==============================] - 0s 4ms/step - loss: 0.2960 - val_loss: 0.2742\n",
      "Epoch 9/600\n",
      "123/123 [==============================] - 0s 4ms/step - loss: 0.2951 - val_loss: 0.2727\n",
      "Epoch 10/600\n",
      "123/123 [==============================] - 0s 4ms/step - loss: 0.2913 - val_loss: 0.2732\n",
      "Epoch 11/600\n",
      "123/123 [==============================] - 0s 4ms/step - loss: 0.2888 - val_loss: 0.2718\n",
      "Epoch 12/600\n",
      "123/123 [==============================] - 0s 4ms/step - loss: 0.2884 - val_loss: 0.2727\n",
      "Epoch 13/600\n",
      "123/123 [==============================] - 0s 4ms/step - loss: 0.2891 - val_loss: 0.2711\n",
      "Epoch 14/600\n",
      "123/123 [==============================] - 0s 4ms/step - loss: 0.2875 - val_loss: 0.2704\n",
      "Epoch 15/600\n",
      "123/123 [==============================] - 1s 4ms/step - loss: 0.2862 - val_loss: 0.2717\n",
      "Epoch 16/600\n",
      "123/123 [==============================] - 0s 4ms/step - loss: 0.2848 - val_loss: 0.2710\n",
      "Epoch 17/600\n",
      "123/123 [==============================] - 0s 4ms/step - loss: 0.2842 - val_loss: 0.2701\n",
      "Epoch 18/600\n",
      "123/123 [==============================] - 0s 4ms/step - loss: 0.2829 - val_loss: 0.2698\n",
      "Epoch 19/600\n",
      "123/123 [==============================] - 0s 4ms/step - loss: 0.2820 - val_loss: 0.2702\n",
      "Epoch 20/600\n",
      "123/123 [==============================] - 0s 4ms/step - loss: 0.2813 - val_loss: 0.2688\n",
      "Epoch 21/600\n",
      "123/123 [==============================] - 0s 4ms/step - loss: 0.2812 - val_loss: 0.2686\n",
      "Epoch 22/600\n",
      "123/123 [==============================] - 0s 4ms/step - loss: 0.2814 - val_loss: 0.2700\n",
      "Epoch 23/600\n",
      "123/123 [==============================] - 0s 4ms/step - loss: 0.2785 - val_loss: 0.2688\n",
      "Epoch 24/600\n",
      "123/123 [==============================] - 0s 4ms/step - loss: 0.2800 - val_loss: 0.2702\n",
      "Epoch 25/600\n",
      "123/123 [==============================] - 0s 4ms/step - loss: 0.2792 - val_loss: 0.2686\n",
      "Epoch 26/600\n",
      "123/123 [==============================] - 0s 4ms/step - loss: 0.2785 - val_loss: 0.2689\n",
      "Epoch 27/600\n",
      "123/123 [==============================] - 0s 4ms/step - loss: 0.2786 - val_loss: 0.2679\n",
      "Epoch 28/600\n",
      "123/123 [==============================] - 0s 4ms/step - loss: 0.2787 - val_loss: 0.2673\n",
      "Epoch 29/600\n",
      "123/123 [==============================] - 0s 4ms/step - loss: 0.2776 - val_loss: 0.2679\n",
      "Epoch 30/600\n",
      "123/123 [==============================] - 0s 4ms/step - loss: 0.2773 - val_loss: 0.2673\n",
      "Epoch 31/600\n",
      "123/123 [==============================] - 1s 4ms/step - loss: 0.2773 - val_loss: 0.2696\n",
      "Epoch 32/600\n",
      "123/123 [==============================] - 0s 4ms/step - loss: 0.2765 - val_loss: 0.2678\n",
      "Epoch 33/600\n",
      "123/123 [==============================] - 0s 4ms/step - loss: 0.2756 - val_loss: 0.2686\n",
      "Epoch 34/600\n",
      "123/123 [==============================] - 0s 4ms/step - loss: 0.2752 - val_loss: 0.2678\n",
      "Epoch 35/600\n",
      "123/123 [==============================] - 1s 4ms/step - loss: 0.2743 - val_loss: 0.2675\n",
      "Epoch 36/600\n",
      "123/123 [==============================] - 0s 4ms/step - loss: 0.2748 - val_loss: 0.2689\n",
      "Epoch 37/600\n",
      "123/123 [==============================] - 0s 4ms/step - loss: 0.2749 - val_loss: 0.2678\n",
      "Epoch 38/600\n",
      "123/123 [==============================] - 0s 4ms/step - loss: 0.2744 - val_loss: 0.2687\n",
      "Epoch 39/600\n",
      "123/123 [==============================] - 0s 4ms/step - loss: 0.2748 - val_loss: 0.2680\n",
      "Epoch 40/600\n",
      "123/123 [==============================] - 0s 4ms/step - loss: 0.2744 - val_loss: 0.2683\n",
      "Epoch 41/600\n",
      "123/123 [==============================] - 0s 4ms/step - loss: 0.2741 - val_loss: 0.2680\n",
      "Epoch 42/600\n",
      "123/123 [==============================] - 0s 4ms/step - loss: 0.2731 - val_loss: 0.2677\n",
      "Epoch 43/600\n",
      "123/123 [==============================] - 1s 4ms/step - loss: 0.2735 - val_loss: 0.2687\n",
      "Epoch 44/600\n",
      "123/123 [==============================] - 1s 4ms/step - loss: 0.2723 - val_loss: 0.2679\n",
      "Epoch 45/600\n",
      "123/123 [==============================] - 1s 5ms/step - loss: 0.2719 - val_loss: 0.2680\n",
      "Epoch 46/600\n",
      "123/123 [==============================] - 1s 5ms/step - loss: 0.2734 - val_loss: 0.2678\n",
      "Epoch 47/600\n",
      "123/123 [==============================] - 1s 5ms/step - loss: 0.2728 - val_loss: 0.2683\n",
      "Epoch 48/600\n",
      "123/123 [==============================] - 1s 5ms/step - loss: 0.2725 - val_loss: 0.2691\n",
      "Epoch 49/600\n",
      "123/123 [==============================] - 1s 4ms/step - loss: 0.2719 - val_loss: 0.2687\n",
      "Epoch 50/600\n",
      "123/123 [==============================] - 1s 5ms/step - loss: 0.2718 - val_loss: 0.2680\n",
      "Epoch 51/600\n",
      "123/123 [==============================] - 1s 4ms/step - loss: 0.2715 - val_loss: 0.2690\n",
      "Epoch 52/600\n",
      "123/123 [==============================] - 1s 4ms/step - loss: 0.2717 - val_loss: 0.2683\n",
      "Epoch 53/600\n",
      "123/123 [==============================] - 1s 5ms/step - loss: 0.2711 - val_loss: 0.2677\n",
      "Epoch 53: early stopping\n"
     ]
    },
    {
     "data": {
      "text/plain": [
       "<keras.callbacks.History at 0x22075214bb0>"
      ]
     },
     "execution_count": 88,
     "metadata": {},
     "output_type": "execute_result"
    }
   ],
   "source": [
    "model.fit(x=X_train, \n",
    "          y=y_train, \n",
    "          epochs=600,\n",
    "          batch_size=250,\n",
    "          validation_data=(X_test, y_test),callbacks=[early_stop]\n",
    "          )"
   ]
  },
  {
   "cell_type": "code",
   "execution_count": 89,
   "id": "51676c45",
   "metadata": {},
   "outputs": [],
   "source": [
    "losses = pd.DataFrame(model.history.history)"
   ]
  },
  {
   "cell_type": "code",
   "execution_count": 90,
   "id": "1a76d54f",
   "metadata": {},
   "outputs": [
    {
     "data": {
      "text/plain": [
       "<AxesSubplot:>"
      ]
     },
     "execution_count": 90,
     "metadata": {},
     "output_type": "execute_result"
    },
    {
     "data": {
      "image/png": "[encoded data removed]",
      "text/plain": [
       "<Figure size 432x288 with 1 Axes>"
      ]
     },
     "metadata": {},
     "output_type": "display_data"
    }
   ],
   "source": [
    "losses[['loss','val_loss']].plot()"
   ]
  },
  {
   "cell_type": "code",
   "execution_count": 55,
   "id": "19a67c9d",
   "metadata": {},
   "outputs": [],
   "source": [
    "from sklearn.metrics import classification_report,confusion_matrix"
   ]
  },
  {
   "cell_type": "code",
   "execution_count": 91,
   "id": "c615aa0c",
   "metadata": {},
   "outputs": [
    {
     "name": "stdout",
     "output_type": "stream",
     "text": [
      "240/240 [==============================] - 0s 1ms/step\n"
     ]
    }
   ],
   "source": [
    "predictions =  (model.predict(X_test)>0.4).astype('int32')"
   ]
  },
  {
   "cell_type": "code",
   "execution_count": 92,
   "id": "9aa468b6",
   "metadata": {},
   "outputs": [
    {
     "name": "stdout",
     "output_type": "stream",
     "text": [
      "              precision    recall  f1-score   support\n",
      "\n",
      "           0       0.93      0.96      0.94      6816\n",
      "           1       0.54      0.36      0.44       833\n",
      "\n",
      "    accuracy                           0.90      7649\n",
      "   macro avg       0.73      0.66      0.69      7649\n",
      "weighted avg       0.88      0.90      0.89      7649\n",
      "\n"
     ]
    }
   ],
   "source": [
    "print(classification_report(y_test,predictions))"
   ]
  },
  {
   "cell_type": "markdown",
   "id": "d8f25f84",
   "metadata": {},
   "source": [
    "The result is as expected. Predicting the 1's would be tough because we don't have much information and enough data on them."
   ]
  },
  {
   "cell_type": "markdown",
   "id": "9505fa88",
   "metadata": {},
   "source": [
    "#### Now i would try different other models to compare and see if i get a better result"
   ]
  },
  {
   "cell_type": "markdown",
   "id": "339db8ae",
   "metadata": {},
   "source": [
    "#### Random Forest Classifier"
   ]
  },
  {
   "cell_type": "code",
   "execution_count": 104,
   "id": "4fd0fe85",
   "metadata": {},
   "outputs": [
    {
     "data": {
      "text/html": [
       "<style>#sk-container-id-3 {color: black;background-color: white;}#sk-container-id-3 pre{padding: 0;}#sk-container-id-3 div.sk-toggleable {background-color: white;}#sk-container-id-3 label.sk-toggleable__label {cursor: pointer;display: block;width: 100%;margin-bottom: 0;padding: 0.3em;box-sizing: border-box;text-align: center;}#sk-container-id-3 label.sk-toggleable__label-arrow:before {content: \"▸\";float: left;margin-right: 0.25em;color: #696969;}#sk-container-id-3 label.sk-toggleable__label-arrow:hover:before {color: black;}#sk-container-id-3 div.sk-estimator:hover label.sk-toggleable__label-arrow:before {color: black;}#sk-container-id-3 div.sk-toggleable__content {max-height: 0;max-width: 0;overflow: hidden;text-align: left;background-color: #f0f8ff;}#sk-container-id-3 div.sk-toggleable__content pre {margin: 0.2em;color: black;border-radius: 0.25em;background-color: #f0f8ff;}#sk-container-id-3 input.sk-toggleable__control:checked~div.sk-toggleable__content {max-height: 200px;max-width: 100%;overflow: auto;}#sk-container-id-3 input.sk-toggleable__control:checked~label.sk-toggleable__label-arrow:before {content: \"▾\";}#sk-container-id-3 div.sk-estimator input.sk-toggleable__control:checked~label.sk-toggleable__label {background-color: #d4ebff;}#sk-container-id-3 div.sk-label input.sk-toggleable__control:checked~label.sk-toggleable__label {background-color: #d4ebff;}#sk-container-id-3 input.sk-hidden--visually {border: 0;clip: rect(1px 1px 1px 1px);clip: rect(1px, 1px, 1px, 1px);height: 1px;margin: -1px;overflow: hidden;padding: 0;position: absolute;width: 1px;}#sk-container-id-3 div.sk-estimator {font-family: monospace;background-color: #f0f8ff;border: 1px dotted black;border-radius: 0.25em;box-sizing: border-box;margin-bottom: 0.5em;}#sk-container-id-3 div.sk-estimator:hover {background-color: #d4ebff;}#sk-container-id-3 div.sk-parallel-item::after {content: \"\";width: 100%;border-bottom: 1px solid gray;flex-grow: 1;}#sk-container-id-3 div.sk-label:hover label.sk-toggleable__label {background-color: #d4ebff;}#sk-container-id-3 div.sk-serial::before {content: \"\";position: absolute;border-left: 1px solid gray;box-sizing: border-box;top: 0;bottom: 0;left: 50%;z-index: 0;}#sk-container-id-3 div.sk-serial {display: flex;flex-direction: column;align-items: center;background-color: white;padding-right: 0.2em;padding-left: 0.2em;position: relative;}#sk-container-id-3 div.sk-item {position: relative;z-index: 1;}#sk-container-id-3 div.sk-parallel {display: flex;align-items: stretch;justify-content: center;background-color: white;position: relative;}#sk-container-id-3 div.sk-item::before, #sk-container-id-3 div.sk-parallel-item::before {content: \"\";position: absolute;border-left: 1px solid gray;box-sizing: border-box;top: 0;bottom: 0;left: 50%;z-index: -1;}#sk-container-id-3 div.sk-parallel-item {display: flex;flex-direction: column;z-index: 1;position: relative;background-color: white;}#sk-container-id-3 div.sk-parallel-item:first-child::after {align-self: flex-end;width: 50%;}#sk-container-id-3 div.sk-parallel-item:last-child::after {align-self: flex-start;width: 50%;}#sk-container-id-3 div.sk-parallel-item:only-child::after {width: 0;}#sk-container-id-3 div.sk-dashed-wrapped {border: 1px dashed gray;margin: 0 0.4em 0.5em 0.4em;box-sizing: border-box;padding-bottom: 0.4em;background-color: white;}#sk-container-id-3 div.sk-label label {font-family: monospace;font-weight: bold;display: inline-block;line-height: 1.2em;}#sk-container-id-3 div.sk-label-container {text-align: center;}#sk-container-id-3 div.sk-container {/* jupyter's `normalize.less` sets `[hidden] { display: none; }` but bootstrap.min.css set `[hidden] { display: none !important; }` so we also need the `!important` here to be able to override the default hidden behavior on the sphinx rendered scikit-learn.org. See: https://github.com/scikit-learn/scikit-learn/issues/21755 */display: inline-block !important;position: relative;}#sk-container-id-3 div.sk-text-repr-fallback {display: none;}</style><div id=\"sk-container-id-3\" class=\"sk-top-container\"><div class=\"sk-text-repr-fallback\"><pre>RandomForestClassifier(n_estimators=150)</pre><b>In a Jupyter environment, please rerun this cell to show the HTML representation or trust the notebook. <br />On GitHub, the HTML representation is unable to render, please try loading this page with nbviewer.org.</b></div><div class=\"sk-container\" hidden><div class=\"sk-item\"><div class=\"sk-estimator sk-toggleable\"><input class=\"sk-toggleable__control sk-hidden--visually\" id=\"sk-estimator-id-3\" type=\"checkbox\" checked><label for=\"sk-estimator-id-3\" class=\"sk-toggleable__label sk-toggleable__label-arrow\">RandomForestClassifier</label><div class=\"sk-toggleable__content\"><pre>RandomForestClassifier(n_estimators=150)</pre></div></div></div></div></div>"
      ],
      "text/plain": [
       "RandomForestClassifier(n_estimators=150)"
      ]
     },
     "execution_count": 104,
     "metadata": {},
     "output_type": "execute_result"
    }
   ],
   "source": [
    "from sklearn.ensemble import RandomForestClassifier\n",
    "rfc = RandomForestClassifier(n_estimators=150)\n",
    "rfc.fit(X_train, y_train)"
   ]
  },
  {
   "cell_type": "code",
   "execution_count": 105,
   "id": "7284d61d",
   "metadata": {},
   "outputs": [],
   "source": [
    "rfc_pred = rfc.predict(X_test)"
   ]
  },
  {
   "cell_type": "code",
   "execution_count": 106,
   "id": "640cf91d",
   "metadata": {},
   "outputs": [
    {
     "name": "stdout",
     "output_type": "stream",
     "text": [
      "              precision    recall  f1-score   support\n",
      "\n",
      "           0       0.91      0.96      0.94      6816\n",
      "           1       0.45      0.26      0.33       833\n",
      "\n",
      "    accuracy                           0.88      7649\n",
      "   macro avg       0.68      0.61      0.63      7649\n",
      "weighted avg       0.86      0.88      0.87      7649\n",
      "\n"
     ]
    }
   ],
   "source": [
    "print(classification_report(y_test,rfc_pred))"
   ]
  },
  {
   "cell_type": "markdown",
   "id": "b437bbd4",
   "metadata": {},
   "source": [
    "It performed poorly"
   ]
  },
  {
   "cell_type": "markdown",
   "id": "ef6b98c2",
   "metadata": {},
   "source": [
    "#### KNN Classifier "
   ]
  },
  {
   "cell_type": "code",
   "execution_count": 113,
   "id": "12f38f7f",
   "metadata": {},
   "outputs": [],
   "source": [
    "from sklearn.neighbors import KNeighborsClassifier"
   ]
  },
  {
   "cell_type": "code",
   "execution_count": 114,
   "id": "83d99a25",
   "metadata": {},
   "outputs": [],
   "source": [
    "knn = KNeighborsClassifier(n_neighbors=1)"
   ]
  },
  {
   "cell_type": "code",
   "execution_count": 115,
   "id": "8e0ca598",
   "metadata": {},
   "outputs": [
    {
     "data": {
      "text/html": [
       "<style>#sk-container-id-4 {color: black;background-color: white;}#sk-container-id-4 pre{padding: 0;}#sk-container-id-4 div.sk-toggleable {background-color: white;}#sk-container-id-4 label.sk-toggleable__label {cursor: pointer;display: block;width: 100%;margin-bottom: 0;padding: 0.3em;box-sizing: border-box;text-align: center;}#sk-container-id-4 label.sk-toggleable__label-arrow:before {content: \"▸\";float: left;margin-right: 0.25em;color: #696969;}#sk-container-id-4 label.sk-toggleable__label-arrow:hover:before {color: black;}#sk-container-id-4 div.sk-estimator:hover label.sk-toggleable__label-arrow:before {color: black;}#sk-container-id-4 div.sk-toggleable__content {max-height: 0;max-width: 0;overflow: hidden;text-align: left;background-color: #f0f8ff;}#sk-container-id-4 div.sk-toggleable__content pre {margin: 0.2em;color: black;border-radius: 0.25em;background-color: #f0f8ff;}#sk-container-id-4 input.sk-toggleable__control:checked~div.sk-toggleable__content {max-height: 200px;max-width: 100%;overflow: auto;}#sk-container-id-4 input.sk-toggleable__control:checked~label.sk-toggleable__label-arrow:before {content: \"▾\";}#sk-container-id-4 div.sk-estimator input.sk-toggleable__control:checked~label.sk-toggleable__label {background-color: #d4ebff;}#sk-container-id-4 div.sk-label input.sk-toggleable__control:checked~label.sk-toggleable__label {background-color: #d4ebff;}#sk-container-id-4 input.sk-hidden--visually {border: 0;clip: rect(1px 1px 1px 1px);clip: rect(1px, 1px, 1px, 1px);height: 1px;margin: -1px;overflow: hidden;padding: 0;position: absolute;width: 1px;}#sk-container-id-4 div.sk-estimator {font-family: monospace;background-color: #f0f8ff;border: 1px dotted black;border-radius: 0.25em;box-sizing: border-box;margin-bottom: 0.5em;}#sk-container-id-4 div.sk-estimator:hover {background-color: #d4ebff;}#sk-container-id-4 div.sk-parallel-item::after {content: \"\";width: 100%;border-bottom: 1px solid gray;flex-grow: 1;}#sk-container-id-4 div.sk-label:hover label.sk-toggleable__label {background-color: #d4ebff;}#sk-container-id-4 div.sk-serial::before {content: \"\";position: absolute;border-left: 1px solid gray;box-sizing: border-box;top: 0;bottom: 0;left: 50%;z-index: 0;}#sk-container-id-4 div.sk-serial {display: flex;flex-direction: column;align-items: center;background-color: white;padding-right: 0.2em;padding-left: 0.2em;position: relative;}#sk-container-id-4 div.sk-item {position: relative;z-index: 1;}#sk-container-id-4 div.sk-parallel {display: flex;align-items: stretch;justify-content: center;background-color: white;position: relative;}#sk-container-id-4 div.sk-item::before, #sk-container-id-4 div.sk-parallel-item::before {content: \"\";position: absolute;border-left: 1px solid gray;box-sizing: border-box;top: 0;bottom: 0;left: 50%;z-index: -1;}#sk-container-id-4 div.sk-parallel-item {display: flex;flex-direction: column;z-index: 1;position: relative;background-color: white;}#sk-container-id-4 div.sk-parallel-item:first-child::after {align-self: flex-end;width: 50%;}#sk-container-id-4 div.sk-parallel-item:last-child::after {align-self: flex-start;width: 50%;}#sk-container-id-4 div.sk-parallel-item:only-child::after {width: 0;}#sk-container-id-4 div.sk-dashed-wrapped {border: 1px dashed gray;margin: 0 0.4em 0.5em 0.4em;box-sizing: border-box;padding-bottom: 0.4em;background-color: white;}#sk-container-id-4 div.sk-label label {font-family: monospace;font-weight: bold;display: inline-block;line-height: 1.2em;}#sk-container-id-4 div.sk-label-container {text-align: center;}#sk-container-id-4 div.sk-container {/* jupyter's `normalize.less` sets `[hidden] { display: none; }` but bootstrap.min.css set `[hidden] { display: none !important; }` so we also need the `!important` here to be able to override the default hidden behavior on the sphinx rendered scikit-learn.org. See: https://github.com/scikit-learn/scikit-learn/issues/21755 */display: inline-block !important;position: relative;}#sk-container-id-4 div.sk-text-repr-fallback {display: none;}</style><div id=\"sk-container-id-4\" class=\"sk-top-container\"><div class=\"sk-text-repr-fallback\"><pre>KNeighborsClassifier(n_neighbors=1)</pre><b>In a Jupyter environment, please rerun this cell to show the HTML representation or trust the notebook. <br />On GitHub, the HTML representation is unable to render, please try loading this page with nbviewer.org.</b></div><div class=\"sk-container\" hidden><div class=\"sk-item\"><div class=\"sk-estimator sk-toggleable\"><input class=\"sk-toggleable__control sk-hidden--visually\" id=\"sk-estimator-id-4\" type=\"checkbox\" checked><label for=\"sk-estimator-id-4\" class=\"sk-toggleable__label sk-toggleable__label-arrow\">KNeighborsClassifier</label><div class=\"sk-toggleable__content\"><pre>KNeighborsClassifier(n_neighbors=1)</pre></div></div></div></div></div>"
      ],
      "text/plain": [
       "KNeighborsClassifier(n_neighbors=1)"
      ]
     },
     "execution_count": 115,
     "metadata": {},
     "output_type": "execute_result"
    }
   ],
   "source": [
    "knn.fit(X_train,y_train)"
   ]
  },
  {
   "cell_type": "code",
   "execution_count": 116,
   "id": "4e532944",
   "metadata": {},
   "outputs": [],
   "source": [
    "pred = knn.predict(X_test)"
   ]
  },
  {
   "cell_type": "code",
   "execution_count": 117,
   "id": "b0105d4d",
   "metadata": {},
   "outputs": [
    {
     "name": "stdout",
     "output_type": "stream",
     "text": [
      "              precision    recall  f1-score   support\n",
      "\n",
      "           0       0.91      0.91      0.91      6816\n",
      "           1       0.29      0.29      0.29       833\n",
      "\n",
      "    accuracy                           0.84      7649\n",
      "   macro avg       0.60      0.60      0.60      7649\n",
      "weighted avg       0.84      0.84      0.84      7649\n",
      "\n"
     ]
    }
   ],
   "source": [
    "print(classification_report(y_test,pred))"
   ]
  },
  {
   "cell_type": "markdown",
   "id": "1fe0021b",
   "metadata": {},
   "source": [
    "This didn't do any better. But let me iterate different values of K to optimize the model"
   ]
  },
  {
   "cell_type": "code",
   "execution_count": 118,
   "id": "f29680df",
   "metadata": {},
   "outputs": [],
   "source": [
    "error_rate = []\n",
    "\n",
    "# Will take some time\n",
    "for i in range(1,40):\n",
    "    \n",
    "    knn = KNeighborsClassifier(n_neighbors=i)\n",
    "    knn.fit(X_train,y_train)\n",
    "    pred_i = knn.predict(X_test)\n",
    "    error_rate.append(np.mean(pred_i != y_test))"
   ]
  },
  {
   "cell_type": "code",
   "execution_count": 119,
   "id": "f6645b22",
   "metadata": {},
   "outputs": [
    {
     "data": {
      "text/plain": [
       "Text(0, 0.5, 'Error Rate')"
      ]
     },
     "execution_count": 119,
     "metadata": {},
     "output_type": "execute_result"
    },
    {
     "data": {
      "image/png": "[encoded data removed]",
      "text/plain": [
       "<Figure size 720x432 with 1 Axes>"
      ]
     },
     "metadata": {},
     "output_type": "display_data"
    }
   ],
   "source": [
    "plt.figure(figsize=(10,6))\n",
    "plt.plot(range(1,40),error_rate,color='blue', linestyle='dashed', marker='o',\n",
    "         markerfacecolor='red', markersize=10)\n",
    "plt.title('Error Rate vs. K Value')\n",
    "plt.xlabel('K')\n",
    "plt.ylabel('Error Rate')"
   ]
  },
  {
   "cell_type": "code",
   "execution_count": 120,
   "id": "736aa01b",
   "metadata": {},
   "outputs": [],
   "source": [
    "knn = KNeighborsClassifier(n_neighbors=15)"
   ]
  },
  {
   "cell_type": "code",
   "execution_count": 121,
   "id": "5433ce1f",
   "metadata": {},
   "outputs": [
    {
     "data": {
      "text/html": [
       "<style>#sk-container-id-5 {color: black;background-color: white;}#sk-container-id-5 pre{padding: 0;}#sk-container-id-5 div.sk-toggleable {background-color: white;}#sk-container-id-5 label.sk-toggleable__label {cursor: pointer;display: block;width: 100%;margin-bottom: 0;padding: 0.3em;box-sizing: border-box;text-align: center;}#sk-container-id-5 label.sk-toggleable__label-arrow:before {content: \"▸\";float: left;margin-right: 0.25em;color: #696969;}#sk-container-id-5 label.sk-toggleable__label-arrow:hover:before {color: black;}#sk-container-id-5 div.sk-estimator:hover label.sk-toggleable__label-arrow:before {color: black;}#sk-container-id-5 div.sk-toggleable__content {max-height: 0;max-width: 0;overflow: hidden;text-align: left;background-color: #f0f8ff;}#sk-container-id-5 div.sk-toggleable__content pre {margin: 0.2em;color: black;border-radius: 0.25em;background-color: #f0f8ff;}#sk-container-id-5 input.sk-toggleable__control:checked~div.sk-toggleable__content {max-height: 200px;max-width: 100%;overflow: auto;}#sk-container-id-5 input.sk-toggleable__control:checked~label.sk-toggleable__label-arrow:before {content: \"▾\";}#sk-container-id-5 div.sk-estimator input.sk-toggleable__control:checked~label.sk-toggleable__label {background-color: #d4ebff;}#sk-container-id-5 div.sk-label input.sk-toggleable__control:checked~label.sk-toggleable__label {background-color: #d4ebff;}#sk-container-id-5 input.sk-hidden--visually {border: 0;clip: rect(1px 1px 1px 1px);clip: rect(1px, 1px, 1px, 1px);height: 1px;margin: -1px;overflow: hidden;padding: 0;position: absolute;width: 1px;}#sk-container-id-5 div.sk-estimator {font-family: monospace;background-color: #f0f8ff;border: 1px dotted black;border-radius: 0.25em;box-sizing: border-box;margin-bottom: 0.5em;}#sk-container-id-5 div.sk-estimator:hover {background-color: #d4ebff;}#sk-container-id-5 div.sk-parallel-item::after {content: \"\";width: 100%;border-bottom: 1px solid gray;flex-grow: 1;}#sk-container-id-5 div.sk-label:hover label.sk-toggleable__label {background-color: #d4ebff;}#sk-container-id-5 div.sk-serial::before {content: \"\";position: absolute;border-left: 1px solid gray;box-sizing: border-box;top: 0;bottom: 0;left: 50%;z-index: 0;}#sk-container-id-5 div.sk-serial {display: flex;flex-direction: column;align-items: center;background-color: white;padding-right: 0.2em;padding-left: 0.2em;position: relative;}#sk-container-id-5 div.sk-item {position: relative;z-index: 1;}#sk-container-id-5 div.sk-parallel {display: flex;align-items: stretch;justify-content: center;background-color: white;position: relative;}#sk-container-id-5 div.sk-item::before, #sk-container-id-5 div.sk-parallel-item::before {content: \"\";position: absolute;border-left: 1px solid gray;box-sizing: border-box;top: 0;bottom: 0;left: 50%;z-index: -1;}#sk-container-id-5 div.sk-parallel-item {display: flex;flex-direction: column;z-index: 1;position: relative;background-color: white;}#sk-container-id-5 div.sk-parallel-item:first-child::after {align-self: flex-end;width: 50%;}#sk-container-id-5 div.sk-parallel-item:last-child::after {align-self: flex-start;width: 50%;}#sk-container-id-5 div.sk-parallel-item:only-child::after {width: 0;}#sk-container-id-5 div.sk-dashed-wrapped {border: 1px dashed gray;margin: 0 0.4em 0.5em 0.4em;box-sizing: border-box;padding-bottom: 0.4em;background-color: white;}#sk-container-id-5 div.sk-label label {font-family: monospace;font-weight: bold;display: inline-block;line-height: 1.2em;}#sk-container-id-5 div.sk-label-container {text-align: center;}#sk-container-id-5 div.sk-container {/* jupyter's `normalize.less` sets `[hidden] { display: none; }` but bootstrap.min.css set `[hidden] { display: none !important; }` so we also need the `!important` here to be able to override the default hidden behavior on the sphinx rendered scikit-learn.org. See: https://github.com/scikit-learn/scikit-learn/issues/21755 */display: inline-block !important;position: relative;}#sk-container-id-5 div.sk-text-repr-fallback {display: none;}</style><div id=\"sk-container-id-5\" class=\"sk-top-container\"><div class=\"sk-text-repr-fallback\"><pre>KNeighborsClassifier(n_neighbors=15)</pre><b>In a Jupyter environment, please rerun this cell to show the HTML representation or trust the notebook. <br />On GitHub, the HTML representation is unable to render, please try loading this page with nbviewer.org.</b></div><div class=\"sk-container\" hidden><div class=\"sk-item\"><div class=\"sk-estimator sk-toggleable\"><input class=\"sk-toggleable__control sk-hidden--visually\" id=\"sk-estimator-id-5\" type=\"checkbox\" checked><label for=\"sk-estimator-id-5\" class=\"sk-toggleable__label sk-toggleable__label-arrow\">KNeighborsClassifier</label><div class=\"sk-toggleable__content\"><pre>KNeighborsClassifier(n_neighbors=15)</pre></div></div></div></div></div>"
      ],
      "text/plain": [
       "KNeighborsClassifier(n_neighbors=15)"
      ]
     },
     "execution_count": 121,
     "metadata": {},
     "output_type": "execute_result"
    }
   ],
   "source": [
    "knn.fit(X_train,y_train)"
   ]
  },
  {
   "cell_type": "code",
   "execution_count": 122,
   "id": "a0cd8ac9",
   "metadata": {},
   "outputs": [],
   "source": [
    "pred = knn.predict(X_test)"
   ]
  },
  {
   "cell_type": "code",
   "execution_count": 123,
   "id": "88d8703e",
   "metadata": {},
   "outputs": [
    {
     "name": "stdout",
     "output_type": "stream",
     "text": [
      "              precision    recall  f1-score   support\n",
      "\n",
      "           0       0.91      0.98      0.94      6816\n",
      "           1       0.56      0.19      0.29       833\n",
      "\n",
      "    accuracy                           0.90      7649\n",
      "   macro avg       0.74      0.59      0.61      7649\n",
      "weighted avg       0.87      0.90      0.87      7649\n",
      "\n"
     ]
    }
   ],
   "source": [
    "print(classification_report(y_test,pred))"
   ]
  },
  {
   "cell_type": "markdown",
   "id": "58f0c5fd",
   "metadata": {},
   "source": [
    "Still isn't any better"
   ]
  },
  {
   "cell_type": "code",
   "execution_count": 124,
   "id": "52d88221",
   "metadata": {},
   "outputs": [
    {
     "data": {
      "text/html": [
       "<div>\n",
       "<style scoped>\n",
       "    .dataframe tbody tr th:only-of-type {\n",
       "        vertical-align: middle;\n",
       "    }\n",
       "\n",
       "    .dataframe tbody tr th {\n",
       "        vertical-align: top;\n",
       "    }\n",
       "\n",
       "    .dataframe thead th {\n",
       "        text-align: right;\n",
       "    }\n",
       "</style>\n",
       "<table border=\"1\" class=\"dataframe\">\n",
       "  <thead>\n",
       "    <tr style=\"text-align: right;\">\n",
       "      <th></th>\n",
       "      <th>age</th>\n",
       "      <th>housing</th>\n",
       "      <th>loan</th>\n",
       "      <th>campaign</th>\n",
       "      <th>emp.var.rate</th>\n",
       "      <th>cons.price.idx</th>\n",
       "      <th>cons.conf.idx</th>\n",
       "      <th>y</th>\n",
       "      <th>job_blue-collar</th>\n",
       "      <th>job_entrepreneur</th>\n",
       "      <th>...</th>\n",
       "      <th>month_jun</th>\n",
       "      <th>month_mar</th>\n",
       "      <th>month_may</th>\n",
       "      <th>month_nov</th>\n",
       "      <th>month_oct</th>\n",
       "      <th>month_sep</th>\n",
       "      <th>previous_Not contacted</th>\n",
       "      <th>poutcome_nonexistent</th>\n",
       "      <th>poutcome_success</th>\n",
       "      <th>pdayss_Not contacted</th>\n",
       "    </tr>\n",
       "  </thead>\n",
       "  <tbody>\n",
       "    <tr>\n",
       "      <th>0</th>\n",
       "      <td>56</td>\n",
       "      <td>0</td>\n",
       "      <td>0</td>\n",
       "      <td>1</td>\n",
       "      <td>1.1</td>\n",
       "      <td>93.994</td>\n",
       "      <td>-36.4</td>\n",
       "      <td>0</td>\n",
       "      <td>0</td>\n",
       "      <td>0</td>\n",
       "      <td>...</td>\n",
       "      <td>0</td>\n",
       "      <td>0</td>\n",
       "      <td>1</td>\n",
       "      <td>0</td>\n",
       "      <td>0</td>\n",
       "      <td>0</td>\n",
       "      <td>1</td>\n",
       "      <td>1</td>\n",
       "      <td>0</td>\n",
       "      <td>1</td>\n",
       "    </tr>\n",
       "    <tr>\n",
       "      <th>1</th>\n",
       "      <td>57</td>\n",
       "      <td>0</td>\n",
       "      <td>0</td>\n",
       "      <td>1</td>\n",
       "      <td>1.1</td>\n",
       "      <td>93.994</td>\n",
       "      <td>-36.4</td>\n",
       "      <td>0</td>\n",
       "      <td>0</td>\n",
       "      <td>0</td>\n",
       "      <td>...</td>\n",
       "      <td>0</td>\n",
       "      <td>0</td>\n",
       "      <td>1</td>\n",
       "      <td>0</td>\n",
       "      <td>0</td>\n",
       "      <td>0</td>\n",
       "      <td>1</td>\n",
       "      <td>1</td>\n",
       "      <td>0</td>\n",
       "      <td>1</td>\n",
       "    </tr>\n",
       "    <tr>\n",
       "      <th>2</th>\n",
       "      <td>37</td>\n",
       "      <td>1</td>\n",
       "      <td>0</td>\n",
       "      <td>1</td>\n",
       "      <td>1.1</td>\n",
       "      <td>93.994</td>\n",
       "      <td>-36.4</td>\n",
       "      <td>0</td>\n",
       "      <td>0</td>\n",
       "      <td>0</td>\n",
       "      <td>...</td>\n",
       "      <td>0</td>\n",
       "      <td>0</td>\n",
       "      <td>1</td>\n",
       "      <td>0</td>\n",
       "      <td>0</td>\n",
       "      <td>0</td>\n",
       "      <td>1</td>\n",
       "      <td>1</td>\n",
       "      <td>0</td>\n",
       "      <td>1</td>\n",
       "    </tr>\n",
       "    <tr>\n",
       "      <th>3</th>\n",
       "      <td>40</td>\n",
       "      <td>0</td>\n",
       "      <td>0</td>\n",
       "      <td>1</td>\n",
       "      <td>1.1</td>\n",
       "      <td>93.994</td>\n",
       "      <td>-36.4</td>\n",
       "      <td>0</td>\n",
       "      <td>0</td>\n",
       "      <td>0</td>\n",
       "      <td>...</td>\n",
       "      <td>0</td>\n",
       "      <td>0</td>\n",
       "      <td>1</td>\n",
       "      <td>0</td>\n",
       "      <td>0</td>\n",
       "      <td>0</td>\n",
       "      <td>1</td>\n",
       "      <td>1</td>\n",
       "      <td>0</td>\n",
       "      <td>1</td>\n",
       "    </tr>\n",
       "    <tr>\n",
       "      <th>4</th>\n",
       "      <td>56</td>\n",
       "      <td>0</td>\n",
       "      <td>1</td>\n",
       "      <td>1</td>\n",
       "      <td>1.1</td>\n",
       "      <td>93.994</td>\n",
       "      <td>-36.4</td>\n",
       "      <td>0</td>\n",
       "      <td>0</td>\n",
       "      <td>0</td>\n",
       "      <td>...</td>\n",
       "      <td>0</td>\n",
       "      <td>0</td>\n",
       "      <td>1</td>\n",
       "      <td>0</td>\n",
       "      <td>0</td>\n",
       "      <td>0</td>\n",
       "      <td>1</td>\n",
       "      <td>1</td>\n",
       "      <td>0</td>\n",
       "      <td>1</td>\n",
       "    </tr>\n",
       "    <tr>\n",
       "      <th>...</th>\n",
       "      <td>...</td>\n",
       "      <td>...</td>\n",
       "      <td>...</td>\n",
       "      <td>...</td>\n",
       "      <td>...</td>\n",
       "      <td>...</td>\n",
       "      <td>...</td>\n",
       "      <td>...</td>\n",
       "      <td>...</td>\n",
       "      <td>...</td>\n",
       "      <td>...</td>\n",
       "      <td>...</td>\n",
       "      <td>...</td>\n",
       "      <td>...</td>\n",
       "      <td>...</td>\n",
       "      <td>...</td>\n",
       "      <td>...</td>\n",
       "      <td>...</td>\n",
       "      <td>...</td>\n",
       "      <td>...</td>\n",
       "      <td>...</td>\n",
       "    </tr>\n",
       "    <tr>\n",
       "      <th>41183</th>\n",
       "      <td>73</td>\n",
       "      <td>1</td>\n",
       "      <td>0</td>\n",
       "      <td>1</td>\n",
       "      <td>-1.1</td>\n",
       "      <td>94.767</td>\n",
       "      <td>-50.8</td>\n",
       "      <td>1</td>\n",
       "      <td>0</td>\n",
       "      <td>0</td>\n",
       "      <td>...</td>\n",
       "      <td>0</td>\n",
       "      <td>0</td>\n",
       "      <td>0</td>\n",
       "      <td>1</td>\n",
       "      <td>0</td>\n",
       "      <td>0</td>\n",
       "      <td>1</td>\n",
       "      <td>1</td>\n",
       "      <td>0</td>\n",
       "      <td>1</td>\n",
       "    </tr>\n",
       "    <tr>\n",
       "      <th>41184</th>\n",
       "      <td>46</td>\n",
       "      <td>0</td>\n",
       "      <td>0</td>\n",
       "      <td>1</td>\n",
       "      <td>-1.1</td>\n",
       "      <td>94.767</td>\n",
       "      <td>-50.8</td>\n",
       "      <td>0</td>\n",
       "      <td>1</td>\n",
       "      <td>0</td>\n",
       "      <td>...</td>\n",
       "      <td>0</td>\n",
       "      <td>0</td>\n",
       "      <td>0</td>\n",
       "      <td>1</td>\n",
       "      <td>0</td>\n",
       "      <td>0</td>\n",
       "      <td>1</td>\n",
       "      <td>1</td>\n",
       "      <td>0</td>\n",
       "      <td>1</td>\n",
       "    </tr>\n",
       "    <tr>\n",
       "      <th>41185</th>\n",
       "      <td>56</td>\n",
       "      <td>1</td>\n",
       "      <td>0</td>\n",
       "      <td>2</td>\n",
       "      <td>-1.1</td>\n",
       "      <td>94.767</td>\n",
       "      <td>-50.8</td>\n",
       "      <td>0</td>\n",
       "      <td>0</td>\n",
       "      <td>0</td>\n",
       "      <td>...</td>\n",
       "      <td>0</td>\n",
       "      <td>0</td>\n",
       "      <td>0</td>\n",
       "      <td>1</td>\n",
       "      <td>0</td>\n",
       "      <td>0</td>\n",
       "      <td>1</td>\n",
       "      <td>1</td>\n",
       "      <td>0</td>\n",
       "      <td>1</td>\n",
       "    </tr>\n",
       "    <tr>\n",
       "      <th>41186</th>\n",
       "      <td>44</td>\n",
       "      <td>0</td>\n",
       "      <td>0</td>\n",
       "      <td>1</td>\n",
       "      <td>-1.1</td>\n",
       "      <td>94.767</td>\n",
       "      <td>-50.8</td>\n",
       "      <td>1</td>\n",
       "      <td>0</td>\n",
       "      <td>0</td>\n",
       "      <td>...</td>\n",
       "      <td>0</td>\n",
       "      <td>0</td>\n",
       "      <td>0</td>\n",
       "      <td>1</td>\n",
       "      <td>0</td>\n",
       "      <td>0</td>\n",
       "      <td>1</td>\n",
       "      <td>1</td>\n",
       "      <td>0</td>\n",
       "      <td>1</td>\n",
       "    </tr>\n",
       "    <tr>\n",
       "      <th>41187</th>\n",
       "      <td>74</td>\n",
       "      <td>1</td>\n",
       "      <td>0</td>\n",
       "      <td>3</td>\n",
       "      <td>-1.1</td>\n",
       "      <td>94.767</td>\n",
       "      <td>-50.8</td>\n",
       "      <td>0</td>\n",
       "      <td>0</td>\n",
       "      <td>0</td>\n",
       "      <td>...</td>\n",
       "      <td>0</td>\n",
       "      <td>0</td>\n",
       "      <td>0</td>\n",
       "      <td>1</td>\n",
       "      <td>0</td>\n",
       "      <td>0</td>\n",
       "      <td>0</td>\n",
       "      <td>0</td>\n",
       "      <td>0</td>\n",
       "      <td>1</td>\n",
       "    </tr>\n",
       "  </tbody>\n",
       "</table>\n",
       "<p>38245 rows × 40 columns</p>\n",
       "</div>"
      ],
      "text/plain": [
       "       age  housing  loan  campaign  emp.var.rate  cons.price.idx  \\\n",
       "0       56        0     0         1           1.1          93.994   \n",
       "1       57        0     0         1           1.1          93.994   \n",
       "2       37        1     0         1           1.1          93.994   \n",
       "3       40        0     0         1           1.1          93.994   \n",
       "4       56        0     1         1           1.1          93.994   \n",
       "...    ...      ...   ...       ...           ...             ...   \n",
       "41183   73        1     0         1          -1.1          94.767   \n",
       "41184   46        0     0         1          -1.1          94.767   \n",
       "41185   56        1     0         2          -1.1          94.767   \n",
       "41186   44        0     0         1          -1.1          94.767   \n",
       "41187   74        1     0         3          -1.1          94.767   \n",
       "\n",
       "       cons.conf.idx  y  job_blue-collar  job_entrepreneur  ...  month_jun  \\\n",
       "0              -36.4  0                0                 0  ...          0   \n",
       "1              -36.4  0                0                 0  ...          0   \n",
       "2              -36.4  0                0                 0  ...          0   \n",
       "3              -36.4  0                0                 0  ...          0   \n",
       "4              -36.4  0                0                 0  ...          0   \n",
       "...              ... ..              ...               ...  ...        ...   \n",
       "41183          -50.8  1                0                 0  ...          0   \n",
       "41184          -50.8  0                1                 0  ...          0   \n",
       "41185          -50.8  0                0                 0  ...          0   \n",
       "41186          -50.8  1                0                 0  ...          0   \n",
       "41187          -50.8  0                0                 0  ...          0   \n",
       "\n",
       "       month_mar  month_may  month_nov  month_oct  month_sep  \\\n",
       "0              0          1          0          0          0   \n",
       "1              0          1          0          0          0   \n",
       "2              0          1          0          0          0   \n",
       "3              0          1          0          0          0   \n",
       "4              0          1          0          0          0   \n",
       "...          ...        ...        ...        ...        ...   \n",
       "41183          0          0          1          0          0   \n",
       "41184          0          0          1          0          0   \n",
       "41185          0          0          1          0          0   \n",
       "41186          0          0          1          0          0   \n",
       "41187          0          0          1          0          0   \n",
       "\n",
       "       previous_Not contacted  poutcome_nonexistent  poutcome_success  \\\n",
       "0                           1                     1                 0   \n",
       "1                           1                     1                 0   \n",
       "2                           1                     1                 0   \n",
       "3                           1                     1                 0   \n",
       "4                           1                     1                 0   \n",
       "...                       ...                   ...               ...   \n",
       "41183                       1                     1                 0   \n",
       "41184                       1                     1                 0   \n",
       "41185                       1                     1                 0   \n",
       "41186                       1                     1                 0   \n",
       "41187                       0                     0                 0   \n",
       "\n",
       "       pdayss_Not contacted  \n",
       "0                         1  \n",
       "1                         1  \n",
       "2                         1  \n",
       "3                         1  \n",
       "4                         1  \n",
       "...                     ...  \n",
       "41183                     1  \n",
       "41184                     1  \n",
       "41185                     1  \n",
       "41186                     1  \n",
       "41187                     1  \n",
       "\n",
       "[38245 rows x 40 columns]"
      ]
     },
     "execution_count": 124,
     "metadata": {},
     "output_type": "execute_result"
    }
   ],
   "source": [
    "dfc"
   ]
  },
  {
   "cell_type": "markdown",
   "id": "26ed080b",
   "metadata": {},
   "source": [
    "# Resampling Techniques\n"
   ]
  },
  {
   "cell_type": "markdown",
   "id": "b4605ba1",
   "metadata": {},
   "source": [
    "#### Now i want to try to balance the classes using smote to create synthetic inputs and balance up the classes, hopefully it yields something better "
   ]
  },
  {
   "cell_type": "markdown",
   "id": "7cbcbcef",
   "metadata": {},
   "source": [
    "Import required libraries"
   ]
  },
  {
   "cell_type": "code",
   "execution_count": 56,
   "id": "9ff6e915",
   "metadata": {},
   "outputs": [],
   "source": [
    "from imblearn.over_sampling import SMOTE"
   ]
  },
  {
   "cell_type": "code",
   "execution_count": 57,
   "id": "654ea8ea",
   "metadata": {},
   "outputs": [],
   "source": [
    "from imblearn.under_sampling import RandomUnderSampler"
   ]
  },
  {
   "cell_type": "code",
   "execution_count": 58,
   "id": "fd3a43cd",
   "metadata": {},
   "outputs": [],
   "source": [
    "from imblearn.combine import SMOTEENN"
   ]
  },
  {
   "cell_type": "code",
   "execution_count": 74,
   "id": "ac2b8b5f",
   "metadata": {},
   "outputs": [],
   "source": [
    "X = dfc.drop('y',axis=1)\n",
    "Y = dfc['y'] \n",
    "#separate feature and target variables"
   ]
  },
  {
   "cell_type": "code",
   "execution_count": 99,
   "id": "a264d807",
   "metadata": {},
   "outputs": [],
   "source": [
    "#split into training and test sets\n",
    "X_train, X_test, y_train, y_test = train_test_split(X, Y, test_size=0.20, random_state=101, stratify=Y)"
   ]
  },
  {
   "cell_type": "code",
   "execution_count": 100,
   "id": "3a041be4",
   "metadata": {},
   "outputs": [],
   "source": [
    "smote = SMOTE(random_state = 42)"
   ]
  },
  {
   "cell_type": "code",
   "execution_count": 101,
   "id": "730de974",
   "metadata": {},
   "outputs": [
    {
     "name": "stdout",
     "output_type": "stream",
     "text": [
      "Before SMOTE: [27190  3406]\n",
      "After SMOTE: [27190 27190]\n"
     ]
    }
   ],
   "source": [
    "#Fit and resample the training data\n",
    "X_train_smote, y_train_smote = smote.fit_resample(X_train, y_train)\n",
    "\n",
    "print(\"Before SMOTE:\", np.bincount(y_train))\n",
    "print(\"After SMOTE:\", np.bincount(y_train_smote))"
   ]
  },
  {
   "cell_type": "markdown",
   "id": "f96f1804",
   "metadata": {},
   "source": [
    "Smote has been applied and we can see the figures before and after, now let's try all the techniques againas we did earlier"
   ]
  },
  {
   "cell_type": "markdown",
   "id": "8596d468",
   "metadata": {},
   "source": [
    "Runnng a neural network again on the new data"
   ]
  },
  {
   "cell_type": "code",
   "execution_count": 78,
   "id": "a54da1ba",
   "metadata": {},
   "outputs": [],
   "source": [
    "#Scaling the data, this improves the model\n",
    "from sklearn.preprocessing import MinMaxScaler"
   ]
  },
  {
   "cell_type": "code",
   "execution_count": 102,
   "id": "c894203b",
   "metadata": {},
   "outputs": [],
   "source": [
    "scaler = MinMaxScaler()"
   ]
  },
  {
   "cell_type": "code",
   "execution_count": 103,
   "id": "36cccd01",
   "metadata": {},
   "outputs": [],
   "source": [
    "X_train_smote = scaler.fit_transform(X_train_smote)"
   ]
  },
  {
   "cell_type": "code",
   "execution_count": 104,
   "id": "b7368f63",
   "metadata": {},
   "outputs": [],
   "source": [
    "X_test = scaler.transform(X_test)"
   ]
  },
  {
   "cell_type": "code",
   "execution_count": 105,
   "id": "ee55fbb2",
   "metadata": {},
   "outputs": [],
   "source": [
    "model = Sequential()\n",
    "\n",
    "model.add(Dense(40,  activation='relu'))\n",
    "model.add(Dropout(0.3))\n",
    "\n",
    "model.add(Dense(40, activation='relu'))\n",
    "model.add(Dropout(0.3))\n",
    "\n",
    "model.add(Dense(20, activation='relu'))\n",
    "\n",
    "\n",
    "\n",
    "\n",
    "model.add(Dense(10, activation='relu'))\n",
    "\n",
    "\n",
    "\n",
    "model.add(Dense(5, activation='relu'))\n",
    "\n",
    "model.add(Dense(units=1,activation='sigmoid'))\n",
    "\n",
    "model.compile(loss='binary_crossentropy', optimizer='adam')"
   ]
  },
  {
   "cell_type": "code",
   "execution_count": 106,
   "id": "8d89a68c",
   "metadata": {},
   "outputs": [],
   "source": [
    "early_stop = EarlyStopping(monitor='val_loss', mode='min', verbose=1, patience=25)"
   ]
  },
  {
   "cell_type": "code",
   "execution_count": 107,
   "id": "3e8de0e0",
   "metadata": {
    "scrolled": true
   },
   "outputs": [
    {
     "name": "stdout",
     "output_type": "stream",
     "text": [
      "Epoch 1/600\n",
      "272/272 [==============================] - 4s 8ms/step - loss: 0.5487 - val_loss: 0.4642\n",
      "Epoch 2/600\n",
      "272/272 [==============================] - 1s 4ms/step - loss: 0.4202 - val_loss: 0.4308\n",
      "Epoch 3/600\n",
      "272/272 [==============================] - 1s 4ms/step - loss: 0.3925 - val_loss: 0.4288\n",
      "Epoch 4/600\n",
      "272/272 [==============================] - 1s 4ms/step - loss: 0.3791 - val_loss: 0.4282\n",
      "Epoch 5/600\n",
      "272/272 [==============================] - 1s 4ms/step - loss: 0.3694 - val_loss: 0.4316\n",
      "Epoch 6/600\n",
      "272/272 [==============================] - 1s 4ms/step - loss: 0.3645 - val_loss: 0.4199\n",
      "Epoch 7/600\n",
      "272/272 [==============================] - 1s 5ms/step - loss: 0.3604 - val_loss: 0.4281\n",
      "Epoch 8/600\n",
      "272/272 [==============================] - 1s 4ms/step - loss: 0.3574 - val_loss: 0.4096\n",
      "Epoch 9/600\n",
      "272/272 [==============================] - 1s 5ms/step - loss: 0.3538 - val_loss: 0.4101\n",
      "Epoch 10/600\n",
      "272/272 [==============================] - 1s 4ms/step - loss: 0.3514 - val_loss: 0.4302\n",
      "Epoch 11/600\n",
      "272/272 [==============================] - 1s 4ms/step - loss: 0.3489 - val_loss: 0.4050\n",
      "Epoch 12/600\n",
      "272/272 [==============================] - 1s 4ms/step - loss: 0.3488 - val_loss: 0.4294\n",
      "Epoch 13/600\n",
      "272/272 [==============================] - 1s 4ms/step - loss: 0.3467 - val_loss: 0.3835\n",
      "Epoch 14/600\n",
      "272/272 [==============================] - 1s 4ms/step - loss: 0.3453 - val_loss: 0.4251\n",
      "Epoch 15/600\n",
      "272/272 [==============================] - 1s 4ms/step - loss: 0.3430 - val_loss: 0.3708\n",
      "Epoch 16/600\n",
      "272/272 [==============================] - 1s 4ms/step - loss: 0.3431 - val_loss: 0.4009\n",
      "Epoch 17/600\n",
      "272/272 [==============================] - 1s 4ms/step - loss: 0.3418 - val_loss: 0.4263\n",
      "Epoch 18/600\n",
      "272/272 [==============================] - 1s 5ms/step - loss: 0.3415 - val_loss: 0.4072\n",
      "Epoch 19/600\n",
      "272/272 [==============================] - 1s 5ms/step - loss: 0.3411 - val_loss: 0.3947\n",
      "Epoch 20/600\n",
      "272/272 [==============================] - 1s 5ms/step - loss: 0.3409 - val_loss: 0.4096\n",
      "Epoch 21/600\n",
      "272/272 [==============================] - 1s 4ms/step - loss: 0.3400 - val_loss: 0.4159\n",
      "Epoch 22/600\n",
      "272/272 [==============================] - 1s 4ms/step - loss: 0.3402 - val_loss: 0.4097\n",
      "Epoch 23/600\n",
      "272/272 [==============================] - 1s 4ms/step - loss: 0.3397 - val_loss: 0.3986\n",
      "Epoch 24/600\n",
      "272/272 [==============================] - 1s 4ms/step - loss: 0.3369 - val_loss: 0.3948\n",
      "Epoch 25/600\n",
      "272/272 [==============================] - 1s 5ms/step - loss: 0.3362 - val_loss: 0.4039\n",
      "Epoch 26/600\n",
      "272/272 [==============================] - 1s 4ms/step - loss: 0.3364 - val_loss: 0.4173\n",
      "Epoch 27/600\n",
      "272/272 [==============================] - 1s 4ms/step - loss: 0.3366 - val_loss: 0.4113\n",
      "Epoch 28/600\n",
      "272/272 [==============================] - 1s 4ms/step - loss: 0.3356 - val_loss: 0.3935\n",
      "Epoch 29/600\n",
      "272/272 [==============================] - 1s 4ms/step - loss: 0.3359 - val_loss: 0.4143\n",
      "Epoch 30/600\n",
      "272/272 [==============================] - 1s 4ms/step - loss: 0.3353 - val_loss: 0.4246\n",
      "Epoch 31/600\n",
      "272/272 [==============================] - 1s 4ms/step - loss: 0.3336 - val_loss: 0.4015\n",
      "Epoch 32/600\n",
      "272/272 [==============================] - 1s 4ms/step - loss: 0.3344 - val_loss: 0.3878\n",
      "Epoch 33/600\n",
      "272/272 [==============================] - 1s 4ms/step - loss: 0.3336 - val_loss: 0.4246\n",
      "Epoch 34/600\n",
      "272/272 [==============================] - 1s 4ms/step - loss: 0.3332 - val_loss: 0.4023\n",
      "Epoch 35/600\n",
      "272/272 [==============================] - 1s 5ms/step - loss: 0.3330 - val_loss: 0.4139\n",
      "Epoch 36/600\n",
      "272/272 [==============================] - 1s 5ms/step - loss: 0.3322 - val_loss: 0.3877\n",
      "Epoch 37/600\n",
      "272/272 [==============================] - 1s 5ms/step - loss: 0.3328 - val_loss: 0.4170\n",
      "Epoch 38/600\n",
      "272/272 [==============================] - 1s 5ms/step - loss: 0.3334 - val_loss: 0.3900\n",
      "Epoch 39/600\n",
      "272/272 [==============================] - 1s 5ms/step - loss: 0.3319 - val_loss: 0.3958\n",
      "Epoch 40/600\n",
      "272/272 [==============================] - 1s 4ms/step - loss: 0.3313 - val_loss: 0.4156\n",
      "Epoch 40: early stopping\n"
     ]
    },
    {
     "data": {
      "text/plain": [
       "<keras.callbacks.History at 0x24d932edb50>"
      ]
     },
     "execution_count": 107,
     "metadata": {},
     "output_type": "execute_result"
    }
   ],
   "source": [
    "model.fit(x=X_train_smote, \n",
    "          y=y_train_smote, \n",
    "          epochs=600,\n",
    "          batch_size=200,\n",
    "          validation_data=(X_test, y_test),callbacks=[early_stop]\n",
    "          )"
   ]
  },
  {
   "cell_type": "code",
   "execution_count": 108,
   "id": "662d37b6",
   "metadata": {},
   "outputs": [],
   "source": [
    "losses = pd.DataFrame(model.history.history)"
   ]
  },
  {
   "cell_type": "code",
   "execution_count": 109,
   "id": "3aeb23c5",
   "metadata": {},
   "outputs": [
    {
     "data": {
      "text/plain": [
       "<AxesSubplot:>"
      ]
     },
     "execution_count": 109,
     "metadata": {},
     "output_type": "execute_result"
    },
    {
     "data": {
      "image/png": "[encoded data removed]",
      "text/plain": [
       "<Figure size 432x288 with 1 Axes>"
      ]
     },
     "metadata": {},
     "output_type": "display_data"
    }
   ],
   "source": [
    "losses[['loss','val_loss']].plot()"
   ]
  },
  {
   "cell_type": "code",
   "execution_count": 110,
   "id": "81417385",
   "metadata": {},
   "outputs": [
    {
     "name": "stdout",
     "output_type": "stream",
     "text": [
      "240/240 [==============================] - 1s 2ms/step\n"
     ]
    }
   ],
   "source": [
    "predictions =  (model.predict(X_test)>0.4).astype('int32')"
   ]
  },
  {
   "cell_type": "code",
   "execution_count": 111,
   "id": "b97c3c08",
   "metadata": {},
   "outputs": [
    {
     "name": "stdout",
     "output_type": "stream",
     "text": [
      "              precision    recall  f1-score   support\n",
      "\n",
      "           0       0.94      0.79      0.86      6797\n",
      "           1       0.27      0.61      0.37       852\n",
      "\n",
      "    accuracy                           0.77      7649\n",
      "   macro avg       0.60      0.70      0.62      7649\n",
      "weighted avg       0.87      0.77      0.80      7649\n",
      "\n"
     ]
    }
   ],
   "source": [
    "print(classification_report(y_test,predictions))"
   ]
  },
  {
   "cell_type": "markdown",
   "id": "ab9c194b",
   "metadata": {},
   "source": [
    "Still doesn't make any positive impact"
   ]
  },
  {
   "cell_type": "markdown",
   "id": "b196e9d9",
   "metadata": {},
   "source": [
    "# XGBoost"
   ]
  },
  {
   "cell_type": "markdown",
   "id": "123cad35",
   "metadata": {},
   "source": [
    "Now i'm gonna introduce XGBoost to fine tune the model "
   ]
  },
  {
   "cell_type": "code",
   "execution_count": 73,
   "id": "54cbd7f8",
   "metadata": {},
   "outputs": [],
   "source": [
    "from xgboost import XGBClassifier"
   ]
  },
  {
   "cell_type": "code",
   "execution_count": 82,
   "id": "0df65ee0",
   "metadata": {},
   "outputs": [],
   "source": [
    "#Compute scale_pos_weight\n",
    "ratio = y_train_smote.value_counts()[0]/y_train_smote.value_counts()[1] "
   ]
  },
  {
   "cell_type": "code",
   "execution_count": 83,
   "id": "85d99392",
   "metadata": {},
   "outputs": [],
   "source": [
    "#Initialize the XGBoost classifier\n",
    "xgb_model = XGBClassifier(\n",
    "    objective = 'binary:logistic',\n",
    "    scale_pos_weight = ratio,  #Address class imbalance\n",
    "    learning_rate = 0.1,\n",
    "    max_depth = 6,\n",
    "    n_estimators = 100,\n",
    "    random_state = 42)"
   ]
  },
  {
   "cell_type": "code",
   "execution_count": 84,
   "id": "63721de4",
   "metadata": {},
   "outputs": [
    {
     "data": {
      "text/html": [
       "<style>#sk-container-id-1 {color: black;background-color: white;}#sk-container-id-1 pre{padding: 0;}#sk-container-id-1 div.sk-toggleable {background-color: white;}#sk-container-id-1 label.sk-toggleable__label {cursor: pointer;display: block;width: 100%;margin-bottom: 0;padding: 0.3em;box-sizing: border-box;text-align: center;}#sk-container-id-1 label.sk-toggleable__label-arrow:before {content: \"▸\";float: left;margin-right: 0.25em;color: #696969;}#sk-container-id-1 label.sk-toggleable__label-arrow:hover:before {color: black;}#sk-container-id-1 div.sk-estimator:hover label.sk-toggleable__label-arrow:before {color: black;}#sk-container-id-1 div.sk-toggleable__content {max-height: 0;max-width: 0;overflow: hidden;text-align: left;background-color: #f0f8ff;}#sk-container-id-1 div.sk-toggleable__content pre {margin: 0.2em;color: black;border-radius: 0.25em;background-color: #f0f8ff;}#sk-container-id-1 input.sk-toggleable__control:checked~div.sk-toggleable__content {max-height: 200px;max-width: 100%;overflow: auto;}#sk-container-id-1 input.sk-toggleable__control:checked~label.sk-toggleable__label-arrow:before {content: \"▾\";}#sk-container-id-1 div.sk-estimator input.sk-toggleable__control:checked~label.sk-toggleable__label {background-color: #d4ebff;}#sk-container-id-1 div.sk-label input.sk-toggleable__control:checked~label.sk-toggleable__label {background-color: #d4ebff;}#sk-container-id-1 input.sk-hidden--visually {border: 0;clip: rect(1px 1px 1px 1px);clip: rect(1px, 1px, 1px, 1px);height: 1px;margin: -1px;overflow: hidden;padding: 0;position: absolute;width: 1px;}#sk-container-id-1 div.sk-estimator {font-family: monospace;background-color: #f0f8ff;border: 1px dotted black;border-radius: 0.25em;box-sizing: border-box;margin-bottom: 0.5em;}#sk-container-id-1 div.sk-estimator:hover {background-color: #d4ebff;}#sk-container-id-1 div.sk-parallel-item::after {content: \"\";width: 100%;border-bottom: 1px solid gray;flex-grow: 1;}#sk-container-id-1 div.sk-label:hover label.sk-toggleable__label {background-color: #d4ebff;}#sk-container-id-1 div.sk-serial::before {content: \"\";position: absolute;border-left: 1px solid gray;box-sizing: border-box;top: 0;bottom: 0;left: 50%;z-index: 0;}#sk-container-id-1 div.sk-serial {display: flex;flex-direction: column;align-items: center;background-color: white;padding-right: 0.2em;padding-left: 0.2em;position: relative;}#sk-container-id-1 div.sk-item {position: relative;z-index: 1;}#sk-container-id-1 div.sk-parallel {display: flex;align-items: stretch;justify-content: center;background-color: white;position: relative;}#sk-container-id-1 div.sk-item::before, #sk-container-id-1 div.sk-parallel-item::before {content: \"\";position: absolute;border-left: 1px solid gray;box-sizing: border-box;top: 0;bottom: 0;left: 50%;z-index: -1;}#sk-container-id-1 div.sk-parallel-item {display: flex;flex-direction: column;z-index: 1;position: relative;background-color: white;}#sk-container-id-1 div.sk-parallel-item:first-child::after {align-self: flex-end;width: 50%;}#sk-container-id-1 div.sk-parallel-item:last-child::after {align-self: flex-start;width: 50%;}#sk-container-id-1 div.sk-parallel-item:only-child::after {width: 0;}#sk-container-id-1 div.sk-dashed-wrapped {border: 1px dashed gray;margin: 0 0.4em 0.5em 0.4em;box-sizing: border-box;padding-bottom: 0.4em;background-color: white;}#sk-container-id-1 div.sk-label label {font-family: monospace;font-weight: bold;display: inline-block;line-height: 1.2em;}#sk-container-id-1 div.sk-label-container {text-align: center;}#sk-container-id-1 div.sk-container {/* jupyter's `normalize.less` sets `[hidden] { display: none; }` but bootstrap.min.css set `[hidden] { display: none !important; }` so we also need the `!important` here to be able to override the default hidden behavior on the sphinx rendered scikit-learn.org. See: https://github.com/scikit-learn/scikit-learn/issues/21755 */display: inline-block !important;position: relative;}#sk-container-id-1 div.sk-text-repr-fallback {display: none;}</style><div id=\"sk-container-id-1\" class=\"sk-top-container\"><div class=\"sk-text-repr-fallback\"><pre>XGBClassifier(base_score=None, booster=None, callbacks=None,\n",
       "              colsample_bylevel=None, colsample_bynode=None,\n",
       "              colsample_bytree=None, device=None, early_stopping_rounds=None,\n",
       "              enable_categorical=False, eval_metric=None, feature_types=None,\n",
       "              gamma=None, grow_policy=None, importance_type=None,\n",
       "              interaction_constraints=None, learning_rate=0.1, max_bin=None,\n",
       "              max_cat_threshold=None, max_cat_to_onehot=None,\n",
       "              max_delta_step=None, max_depth=6, max_leaves=None,\n",
       "              min_child_weight=None, missing=nan, monotone_constraints=None,\n",
       "              multi_strategy=None, n_estimators=100, n_jobs=None,\n",
       "              num_parallel_tree=None, random_state=42, ...)</pre><b>In a Jupyter environment, please rerun this cell to show the HTML representation or trust the notebook. <br />On GitHub, the HTML representation is unable to render, please try loading this page with nbviewer.org.</b></div><div class=\"sk-container\" hidden><div class=\"sk-item\"><div class=\"sk-estimator sk-toggleable\"><input class=\"sk-toggleable__control sk-hidden--visually\" id=\"sk-estimator-id-1\" type=\"checkbox\" checked><label for=\"sk-estimator-id-1\" class=\"sk-toggleable__label sk-toggleable__label-arrow\">XGBClassifier</label><div class=\"sk-toggleable__content\"><pre>XGBClassifier(base_score=None, booster=None, callbacks=None,\n",
       "              colsample_bylevel=None, colsample_bynode=None,\n",
       "              colsample_bytree=None, device=None, early_stopping_rounds=None,\n",
       "              enable_categorical=False, eval_metric=None, feature_types=None,\n",
       "              gamma=None, grow_policy=None, importance_type=None,\n",
       "              interaction_constraints=None, learning_rate=0.1, max_bin=None,\n",
       "              max_cat_threshold=None, max_cat_to_onehot=None,\n",
       "              max_delta_step=None, max_depth=6, max_leaves=None,\n",
       "              min_child_weight=None, missing=nan, monotone_constraints=None,\n",
       "              multi_strategy=None, n_estimators=100, n_jobs=None,\n",
       "              num_parallel_tree=None, random_state=42, ...)</pre></div></div></div></div></div>"
      ],
      "text/plain": [
       "XGBClassifier(base_score=None, booster=None, callbacks=None,\n",
       "              colsample_bylevel=None, colsample_bynode=None,\n",
       "              colsample_bytree=None, device=None, early_stopping_rounds=None,\n",
       "              enable_categorical=False, eval_metric=None, feature_types=None,\n",
       "              gamma=None, grow_policy=None, importance_type=None,\n",
       "              interaction_constraints=None, learning_rate=0.1, max_bin=None,\n",
       "              max_cat_threshold=None, max_cat_to_onehot=None,\n",
       "              max_delta_step=None, max_depth=6, max_leaves=None,\n",
       "              min_child_weight=None, missing=nan, monotone_constraints=None,\n",
       "              multi_strategy=None, n_estimators=100, n_jobs=None,\n",
       "              num_parallel_tree=None, random_state=42, ...)"
      ]
     },
     "execution_count": 84,
     "metadata": {},
     "output_type": "execute_result"
    }
   ],
   "source": [
    "#Train the model on SMOTE-resampled data\n",
    "xgb_model.fit(X_train_smote, y_train_smote)"
   ]
  },
  {
   "cell_type": "code",
   "execution_count": 85,
   "id": "57c51c7a",
   "metadata": {},
   "outputs": [],
   "source": [
    "#predict on the test set\n",
    "y_pred = xgb_model.predict(X_test)"
   ]
  },
  {
   "cell_type": "code",
   "execution_count": 86,
   "id": "d2cb36e8",
   "metadata": {},
   "outputs": [
    {
     "name": "stdout",
     "output_type": "stream",
     "text": [
      "              precision    recall  f1-score   support\n",
      "\n",
      "           0       0.93      0.89      0.91      6797\n",
      "           1       0.34      0.48      0.40       852\n",
      "\n",
      "    accuracy                           0.84      7649\n",
      "   macro avg       0.64      0.68      0.65      7649\n",
      "weighted avg       0.87      0.84      0.85      7649\n",
      "\n"
     ]
    }
   ],
   "source": [
    "print(classification_report(y_test,y_pred))"
   ]
  },
  {
   "cell_type": "markdown",
   "id": "85317e5e",
   "metadata": {},
   "source": [
    "Good result but not up to expectations yet"
   ]
  },
  {
   "cell_type": "markdown",
   "id": "ed97b0d6",
   "metadata": {},
   "source": [
    "Now lemme try XGBoost on the data before smote"
   ]
  },
  {
   "cell_type": "code",
   "execution_count": 122,
   "id": "db1c0b89",
   "metadata": {},
   "outputs": [],
   "source": [
    "X = dfc.drop('y',axis=1)\n",
    "Y = dfc['y']"
   ]
  },
  {
   "cell_type": "code",
   "execution_count": 123,
   "id": "6f284ac7",
   "metadata": {},
   "outputs": [],
   "source": [
    "X_train, X_test, y_train, y_test = train_test_split(X, Y, test_size=0.20, random_state=101)"
   ]
  },
  {
   "cell_type": "code",
   "execution_count": 124,
   "id": "bcca9373",
   "metadata": {},
   "outputs": [],
   "source": [
    "scaler = MinMaxScaler()"
   ]
  },
  {
   "cell_type": "code",
   "execution_count": 125,
   "id": "d6fe0b69",
   "metadata": {},
   "outputs": [],
   "source": [
    "X_train = scaler.fit_transform(X_train)"
   ]
  },
  {
   "cell_type": "code",
   "execution_count": 126,
   "id": "5742df92",
   "metadata": {},
   "outputs": [],
   "source": [
    "X_test = scaler.transform(X_test)"
   ]
  },
  {
   "cell_type": "code",
   "execution_count": 117,
   "id": "7f938ba8",
   "metadata": {},
   "outputs": [],
   "source": [
    "ratio = y_train.value_counts()[0]/y_train.value_counts()[1] "
   ]
  },
  {
   "cell_type": "code",
   "execution_count": 118,
   "id": "00e0fb4f",
   "metadata": {},
   "outputs": [],
   "source": [
    "xgb_model = XGBClassifier(\n",
    "    objective = 'binary:logistic',\n",
    "    scale_pos_weight = ratio,  #Address class imbalance\n",
    "    learning_rate = 0.1,\n",
    "    max_depth = 6,\n",
    "    n_estimators = 100,\n",
    "    random_state = 42)"
   ]
  },
  {
   "cell_type": "code",
   "execution_count": 119,
   "id": "d90c2560",
   "metadata": {},
   "outputs": [
    {
     "data": {
      "text/html": [
       "<style>#sk-container-id-3 {color: black;background-color: white;}#sk-container-id-3 pre{padding: 0;}#sk-container-id-3 div.sk-toggleable {background-color: white;}#sk-container-id-3 label.sk-toggleable__label {cursor: pointer;display: block;width: 100%;margin-bottom: 0;padding: 0.3em;box-sizing: border-box;text-align: center;}#sk-container-id-3 label.sk-toggleable__label-arrow:before {content: \"▸\";float: left;margin-right: 0.25em;color: #696969;}#sk-container-id-3 label.sk-toggleable__label-arrow:hover:before {color: black;}#sk-container-id-3 div.sk-estimator:hover label.sk-toggleable__label-arrow:before {color: black;}#sk-container-id-3 div.sk-toggleable__content {max-height: 0;max-width: 0;overflow: hidden;text-align: left;background-color: #f0f8ff;}#sk-container-id-3 div.sk-toggleable__content pre {margin: 0.2em;color: black;border-radius: 0.25em;background-color: #f0f8ff;}#sk-container-id-3 input.sk-toggleable__control:checked~div.sk-toggleable__content {max-height: 200px;max-width: 100%;overflow: auto;}#sk-container-id-3 input.sk-toggleable__control:checked~label.sk-toggleable__label-arrow:before {content: \"▾\";}#sk-container-id-3 div.sk-estimator input.sk-toggleable__control:checked~label.sk-toggleable__label {background-color: #d4ebff;}#sk-container-id-3 div.sk-label input.sk-toggleable__control:checked~label.sk-toggleable__label {background-color: #d4ebff;}#sk-container-id-3 input.sk-hidden--visually {border: 0;clip: rect(1px 1px 1px 1px);clip: rect(1px, 1px, 1px, 1px);height: 1px;margin: -1px;overflow: hidden;padding: 0;position: absolute;width: 1px;}#sk-container-id-3 div.sk-estimator {font-family: monospace;background-color: #f0f8ff;border: 1px dotted black;border-radius: 0.25em;box-sizing: border-box;margin-bottom: 0.5em;}#sk-container-id-3 div.sk-estimator:hover {background-color: #d4ebff;}#sk-container-id-3 div.sk-parallel-item::after {content: \"\";width: 100%;border-bottom: 1px solid gray;flex-grow: 1;}#sk-container-id-3 div.sk-label:hover label.sk-toggleable__label {background-color: #d4ebff;}#sk-container-id-3 div.sk-serial::before {content: \"\";position: absolute;border-left: 1px solid gray;box-sizing: border-box;top: 0;bottom: 0;left: 50%;z-index: 0;}#sk-container-id-3 div.sk-serial {display: flex;flex-direction: column;align-items: center;background-color: white;padding-right: 0.2em;padding-left: 0.2em;position: relative;}#sk-container-id-3 div.sk-item {position: relative;z-index: 1;}#sk-container-id-3 div.sk-parallel {display: flex;align-items: stretch;justify-content: center;background-color: white;position: relative;}#sk-container-id-3 div.sk-item::before, #sk-container-id-3 div.sk-parallel-item::before {content: \"\";position: absolute;border-left: 1px solid gray;box-sizing: border-box;top: 0;bottom: 0;left: 50%;z-index: -1;}#sk-container-id-3 div.sk-parallel-item {display: flex;flex-direction: column;z-index: 1;position: relative;background-color: white;}#sk-container-id-3 div.sk-parallel-item:first-child::after {align-self: flex-end;width: 50%;}#sk-container-id-3 div.sk-parallel-item:last-child::after {align-self: flex-start;width: 50%;}#sk-container-id-3 div.sk-parallel-item:only-child::after {width: 0;}#sk-container-id-3 div.sk-dashed-wrapped {border: 1px dashed gray;margin: 0 0.4em 0.5em 0.4em;box-sizing: border-box;padding-bottom: 0.4em;background-color: white;}#sk-container-id-3 div.sk-label label {font-family: monospace;font-weight: bold;display: inline-block;line-height: 1.2em;}#sk-container-id-3 div.sk-label-container {text-align: center;}#sk-container-id-3 div.sk-container {/* jupyter's `normalize.less` sets `[hidden] { display: none; }` but bootstrap.min.css set `[hidden] { display: none !important; }` so we also need the `!important` here to be able to override the default hidden behavior on the sphinx rendered scikit-learn.org. See: https://github.com/scikit-learn/scikit-learn/issues/21755 */display: inline-block !important;position: relative;}#sk-container-id-3 div.sk-text-repr-fallback {display: none;}</style><div id=\"sk-container-id-3\" class=\"sk-top-container\"><div class=\"sk-text-repr-fallback\"><pre>XGBClassifier(base_score=None, booster=None, callbacks=None,\n",
       "              colsample_bylevel=None, colsample_bynode=None,\n",
       "              colsample_bytree=None, device=None, early_stopping_rounds=None,\n",
       "              enable_categorical=False, eval_metric=None, feature_types=None,\n",
       "              gamma=None, grow_policy=None, importance_type=None,\n",
       "              interaction_constraints=None, learning_rate=0.1, max_bin=None,\n",
       "              max_cat_threshold=None, max_cat_to_onehot=None,\n",
       "              max_delta_step=None, max_depth=6, max_leaves=None,\n",
       "              min_child_weight=None, missing=nan, monotone_constraints=None,\n",
       "              multi_strategy=None, n_estimators=100, n_jobs=None,\n",
       "              num_parallel_tree=None, random_state=42, ...)</pre><b>In a Jupyter environment, please rerun this cell to show the HTML representation or trust the notebook. <br />On GitHub, the HTML representation is unable to render, please try loading this page with nbviewer.org.</b></div><div class=\"sk-container\" hidden><div class=\"sk-item\"><div class=\"sk-estimator sk-toggleable\"><input class=\"sk-toggleable__control sk-hidden--visually\" id=\"sk-estimator-id-3\" type=\"checkbox\" checked><label for=\"sk-estimator-id-3\" class=\"sk-toggleable__label sk-toggleable__label-arrow\">XGBClassifier</label><div class=\"sk-toggleable__content\"><pre>XGBClassifier(base_score=None, booster=None, callbacks=None,\n",
       "              colsample_bylevel=None, colsample_bynode=None,\n",
       "              colsample_bytree=None, device=None, early_stopping_rounds=None,\n",
       "              enable_categorical=False, eval_metric=None, feature_types=None,\n",
       "              gamma=None, grow_policy=None, importance_type=None,\n",
       "              interaction_constraints=None, learning_rate=0.1, max_bin=None,\n",
       "              max_cat_threshold=None, max_cat_to_onehot=None,\n",
       "              max_delta_step=None, max_depth=6, max_leaves=None,\n",
       "              min_child_weight=None, missing=nan, monotone_constraints=None,\n",
       "              multi_strategy=None, n_estimators=100, n_jobs=None,\n",
       "              num_parallel_tree=None, random_state=42, ...)</pre></div></div></div></div></div>"
      ],
      "text/plain": [
       "XGBClassifier(base_score=None, booster=None, callbacks=None,\n",
       "              colsample_bylevel=None, colsample_bynode=None,\n",
       "              colsample_bytree=None, device=None, early_stopping_rounds=None,\n",
       "              enable_categorical=False, eval_metric=None, feature_types=None,\n",
       "              gamma=None, grow_policy=None, importance_type=None,\n",
       "              interaction_constraints=None, learning_rate=0.1, max_bin=None,\n",
       "              max_cat_threshold=None, max_cat_to_onehot=None,\n",
       "              max_delta_step=None, max_depth=6, max_leaves=None,\n",
       "              min_child_weight=None, missing=nan, monotone_constraints=None,\n",
       "              multi_strategy=None, n_estimators=100, n_jobs=None,\n",
       "              num_parallel_tree=None, random_state=42, ...)"
      ]
     },
     "execution_count": 119,
     "metadata": {},
     "output_type": "execute_result"
    }
   ],
   "source": [
    "xgb_model.fit(X_train, y_train)"
   ]
  },
  {
   "cell_type": "code",
   "execution_count": 120,
   "id": "e29e0022",
   "metadata": {},
   "outputs": [],
   "source": [
    "y_pred = xgb_model.predict(X_test)"
   ]
  },
  {
   "cell_type": "code",
   "execution_count": 121,
   "id": "fbdca589",
   "metadata": {},
   "outputs": [
    {
     "name": "stdout",
     "output_type": "stream",
     "text": [
      "              precision    recall  f1-score   support\n",
      "\n",
      "           0       0.95      0.86      0.90      6816\n",
      "           1       0.36      0.63      0.46       833\n",
      "\n",
      "    accuracy                           0.84      7649\n",
      "   macro avg       0.65      0.75      0.68      7649\n",
      "weighted avg       0.89      0.84      0.86      7649\n",
      "\n"
     ]
    }
   ],
   "source": [
    "print(classification_report(y_test,y_pred))"
   ]
  },
  {
   "cell_type": "markdown",
   "id": "49e85365",
   "metadata": {},
   "source": [
    "Hmm it looks like the Data without Smote is responding better to these models"
   ]
  },
  {
   "cell_type": "markdown",
   "id": "51d3d99b",
   "metadata": {},
   "source": [
    "#### Now i want to create a more sensitive Neural network to the initial dataset"
   ]
  },
  {
   "cell_type": "code",
   "execution_count": 127,
   "id": "e7a41a8f",
   "metadata": {},
   "outputs": [],
   "source": [
    "from sklearn.utils.class_weight import compute_class_weight"
   ]
  },
  {
   "cell_type": "code",
   "execution_count": 128,
   "id": "2da3d556",
   "metadata": {},
   "outputs": [],
   "source": [
    "#I'm introducing class weights to give more weight to the minority class and less weight to the majority class during training\n",
    "class_weights = compute_class_weight(\n",
    "    class_weight = 'balanced',          \n",
    "    classes = np.unique(y_train),\n",
    "    y=y_train) "
   ]
  },
  {
   "cell_type": "code",
   "execution_count": 129,
   "id": "5834c4bd",
   "metadata": {},
   "outputs": [
    {
     "name": "stdout",
     "output_type": "stream",
     "text": [
      "Class Weights: {0: 0.5630267564682934, 1: 4.466569343065694}\n"
     ]
    }
   ],
   "source": [
    "class_weights_dict = {0: class_weights[0], 1: class_weights[1]}\n",
    "print(\"Class Weights:\", class_weights_dict)"
   ]
  },
  {
   "cell_type": "code",
   "execution_count": 130,
   "id": "a3518c3a",
   "metadata": {},
   "outputs": [],
   "source": [
    "INPUT_DIM = X_train.shape[1]"
   ]
  },
  {
   "cell_type": "code",
   "execution_count": 131,
   "id": "d1d8979a",
   "metadata": {},
   "outputs": [],
   "source": [
    "def create_model(input_dim):\n",
    "    model = Sequential([\n",
    "        Dense(128, activation = 'relu', input_dim = input_dim),\n",
    "        Dropout(0.3),\n",
    "        Dense(64, activation = 'relu'),\n",
    "        Dense(32, activation = 'relu'),\n",
    "        Dense(1, activation = 'sigmoid')\n",
    "    ])\n",
    "    model.compile(optimizer = 'adam',\n",
    "                  loss = 'binary_crossentropy',\n",
    "                  metrics = ['accuracy'])\n",
    "    return model"
   ]
  },
  {
   "cell_type": "code",
   "execution_count": 132,
   "id": "8476fd1c",
   "metadata": {},
   "outputs": [],
   "source": [
    "model = create_model(INPUT_DIM)"
   ]
  },
  {
   "cell_type": "code",
   "execution_count": 133,
   "id": "e8b83b70",
   "metadata": {
    "scrolled": true
   },
   "outputs": [
    {
     "name": "stdout",
     "output_type": "stream",
     "text": [
      "Epoch 1/30\n",
      "957/957 [==============================] - 6s 5ms/step - loss: 0.5795 - accuracy: 0.7850 - val_loss: 0.5703 - val_accuracy: 0.8249\n",
      "Epoch 2/30\n",
      "957/957 [==============================] - 4s 4ms/step - loss: 0.5536 - accuracy: 0.8082 - val_loss: 0.4981 - val_accuracy: 0.8414\n",
      "Epoch 3/30\n",
      "957/957 [==============================] - 4s 4ms/step - loss: 0.5483 - accuracy: 0.8195 - val_loss: 0.5841 - val_accuracy: 0.8025\n",
      "Epoch 4/30\n",
      "957/957 [==============================] - 4s 4ms/step - loss: 0.5459 - accuracy: 0.8275 - val_loss: 0.5256 - val_accuracy: 0.8178\n",
      "Epoch 5/30\n",
      "957/957 [==============================] - 4s 4ms/step - loss: 0.5439 - accuracy: 0.8286 - val_loss: 0.4840 - val_accuracy: 0.8567\n",
      "Epoch 6/30\n",
      "957/957 [==============================] - 4s 4ms/step - loss: 0.5401 - accuracy: 0.8332 - val_loss: 0.5194 - val_accuracy: 0.8225\n",
      "Epoch 7/30\n",
      "957/957 [==============================] - 4s 4ms/step - loss: 0.5392 - accuracy: 0.8302 - val_loss: 0.5121 - val_accuracy: 0.8470\n",
      "Epoch 8/30\n",
      "957/957 [==============================] - 4s 4ms/step - loss: 0.5384 - accuracy: 0.8316 - val_loss: 0.4661 - val_accuracy: 0.8472\n",
      "Epoch 9/30\n",
      "957/957 [==============================] - 4s 4ms/step - loss: 0.5338 - accuracy: 0.8325 - val_loss: 0.4848 - val_accuracy: 0.8686\n",
      "Epoch 10/30\n",
      "957/957 [==============================] - 4s 4ms/step - loss: 0.5324 - accuracy: 0.8353 - val_loss: 0.5454 - val_accuracy: 0.8389\n",
      "Epoch 11/30\n",
      "957/957 [==============================] - 4s 4ms/step - loss: 0.5312 - accuracy: 0.8363 - val_loss: 0.4966 - val_accuracy: 0.8656\n",
      "Epoch 12/30\n",
      "957/957 [==============================] - 4s 4ms/step - loss: 0.5308 - accuracy: 0.8374 - val_loss: 0.4906 - val_accuracy: 0.8460\n",
      "Epoch 13/30\n",
      "957/957 [==============================] - 4s 4ms/step - loss: 0.5299 - accuracy: 0.8328 - val_loss: 0.5529 - val_accuracy: 0.8179\n",
      "Epoch 14/30\n",
      "957/957 [==============================] - 4s 4ms/step - loss: 0.5271 - accuracy: 0.8278 - val_loss: 0.5218 - val_accuracy: 0.8418\n",
      "Epoch 15/30\n",
      "957/957 [==============================] - 4s 4ms/step - loss: 0.5256 - accuracy: 0.8342 - val_loss: 0.5371 - val_accuracy: 0.8349\n",
      "Epoch 16/30\n",
      "957/957 [==============================] - 4s 4ms/step - loss: 0.5252 - accuracy: 0.8312 - val_loss: 0.5037 - val_accuracy: 0.8510\n",
      "Epoch 17/30\n",
      "957/957 [==============================] - 4s 4ms/step - loss: 0.5232 - accuracy: 0.8347 - val_loss: 0.5502 - val_accuracy: 0.8176\n",
      "Epoch 18/30\n",
      "957/957 [==============================] - 4s 4ms/step - loss: 0.5215 - accuracy: 0.8370 - val_loss: 0.5209 - val_accuracy: 0.8359\n",
      "Epoch 19/30\n",
      "957/957 [==============================] - 4s 4ms/step - loss: 0.5189 - accuracy: 0.8359 - val_loss: 0.5215 - val_accuracy: 0.8489\n",
      "Epoch 20/30\n",
      "957/957 [==============================] - 4s 4ms/step - loss: 0.5211 - accuracy: 0.8330 - val_loss: 0.5487 - val_accuracy: 0.8387\n",
      "Epoch 21/30\n",
      "957/957 [==============================] - 4s 4ms/step - loss: 0.5175 - accuracy: 0.8360 - val_loss: 0.5047 - val_accuracy: 0.8483\n",
      "Epoch 22/30\n",
      "957/957 [==============================] - 4s 4ms/step - loss: 0.5178 - accuracy: 0.8362 - val_loss: 0.5006 - val_accuracy: 0.8605\n",
      "Epoch 23/30\n",
      "957/957 [==============================] - 4s 4ms/step - loss: 0.5146 - accuracy: 0.8410 - val_loss: 0.5382 - val_accuracy: 0.8137\n",
      "Epoch 24/30\n",
      "957/957 [==============================] - 4s 5ms/step - loss: 0.5137 - accuracy: 0.8394 - val_loss: 0.4961 - val_accuracy: 0.8442\n",
      "Epoch 25/30\n",
      "957/957 [==============================] - 4s 4ms/step - loss: 0.5122 - accuracy: 0.8397 - val_loss: 0.4908 - val_accuracy: 0.8533\n",
      "Epoch 26/30\n",
      "957/957 [==============================] - 4s 4ms/step - loss: 0.5118 - accuracy: 0.8437 - val_loss: 0.5291 - val_accuracy: 0.8464\n",
      "Epoch 27/30\n",
      "957/957 [==============================] - 4s 4ms/step - loss: 0.5098 - accuracy: 0.8435 - val_loss: 0.5282 - val_accuracy: 0.8349\n",
      "Epoch 28/30\n",
      "957/957 [==============================] - 4s 4ms/step - loss: 0.5089 - accuracy: 0.8398 - val_loss: 0.4995 - val_accuracy: 0.8551\n",
      "Epoch 29/30\n",
      "957/957 [==============================] - 4s 4ms/step - loss: 0.5077 - accuracy: 0.8471 - val_loss: 0.5505 - val_accuracy: 0.8336\n",
      "Epoch 30/30\n",
      "957/957 [==============================] - 4s 4ms/step - loss: 0.5061 - accuracy: 0.8409 - val_loss: 0.5284 - val_accuracy: 0.8354\n"
     ]
    }
   ],
   "source": [
    "history = model.fit(\n",
    "    X_train, y_train,\n",
    "    validation_data = (X_test, y_test),\n",
    "    epochs = 30,\n",
    "    batch_size = 32,\n",
    "    class_weight = class_weights_dict)"
   ]
  },
  {
   "cell_type": "code",
   "execution_count": 134,
   "id": "1b044cb5",
   "metadata": {},
   "outputs": [
    {
     "name": "stdout",
     "output_type": "stream",
     "text": [
      "240/240 [==============================] - 1s 2ms/step\n"
     ]
    }
   ],
   "source": [
    "y_pred = (model.predict(X_test)>0.5).astype('int32')"
   ]
  },
  {
   "cell_type": "code",
   "execution_count": 135,
   "id": "2f46cc4c",
   "metadata": {},
   "outputs": [
    {
     "name": "stdout",
     "output_type": "stream",
     "text": [
      "              precision    recall  f1-score   support\n",
      "\n",
      "           0       0.95      0.86      0.90      6816\n",
      "           1       0.35      0.61      0.45       833\n",
      "\n",
      "    accuracy                           0.84      7649\n",
      "   macro avg       0.65      0.74      0.68      7649\n",
      "weighted avg       0.88      0.84      0.85      7649\n",
      "\n"
     ]
    }
   ],
   "source": [
    "print(classification_report(y_test,y_pred))"
   ]
  },
  {
   "cell_type": "markdown",
   "id": "7662f393",
   "metadata": {},
   "source": [
    "This is a good result but still in the range of what we've been getting"
   ]
  },
  {
   "cell_type": "markdown",
   "id": "96b1bbda",
   "metadata": {},
   "source": [
    "### Lemme do a little more Feature engineering"
   ]
  },
  {
   "cell_type": "markdown",
   "id": "0b1d46a4",
   "metadata": {},
   "source": [
    "Our initial dataset"
   ]
  },
  {
   "cell_type": "code",
   "execution_count": 51,
   "id": "1b52b406",
   "metadata": {},
   "outputs": [
    {
     "data": {
      "text/html": [
       "<div>\n",
       "<style scoped>\n",
       "    .dataframe tbody tr th:only-of-type {\n",
       "        vertical-align: middle;\n",
       "    }\n",
       "\n",
       "    .dataframe tbody tr th {\n",
       "        vertical-align: top;\n",
       "    }\n",
       "\n",
       "    .dataframe thead th {\n",
       "        text-align: right;\n",
       "    }\n",
       "</style>\n",
       "<table border=\"1\" class=\"dataframe\">\n",
       "  <thead>\n",
       "    <tr style=\"text-align: right;\">\n",
       "      <th></th>\n",
       "      <th>age</th>\n",
       "      <th>housing</th>\n",
       "      <th>loan</th>\n",
       "      <th>campaign</th>\n",
       "      <th>emp.var.rate</th>\n",
       "      <th>cons.price.idx</th>\n",
       "      <th>cons.conf.idx</th>\n",
       "      <th>y</th>\n",
       "      <th>job_blue-collar</th>\n",
       "      <th>job_entrepreneur</th>\n",
       "      <th>...</th>\n",
       "      <th>month_jun</th>\n",
       "      <th>month_mar</th>\n",
       "      <th>month_may</th>\n",
       "      <th>month_nov</th>\n",
       "      <th>month_oct</th>\n",
       "      <th>month_sep</th>\n",
       "      <th>previous_Not contacted</th>\n",
       "      <th>poutcome_nonexistent</th>\n",
       "      <th>poutcome_success</th>\n",
       "      <th>pdayss_Not contacted</th>\n",
       "    </tr>\n",
       "  </thead>\n",
       "  <tbody>\n",
       "    <tr>\n",
       "      <th>0</th>\n",
       "      <td>56</td>\n",
       "      <td>0</td>\n",
       "      <td>0</td>\n",
       "      <td>1</td>\n",
       "      <td>1.1</td>\n",
       "      <td>93.994</td>\n",
       "      <td>-36.4</td>\n",
       "      <td>0</td>\n",
       "      <td>0</td>\n",
       "      <td>0</td>\n",
       "      <td>...</td>\n",
       "      <td>0</td>\n",
       "      <td>0</td>\n",
       "      <td>1</td>\n",
       "      <td>0</td>\n",
       "      <td>0</td>\n",
       "      <td>0</td>\n",
       "      <td>1</td>\n",
       "      <td>1</td>\n",
       "      <td>0</td>\n",
       "      <td>1</td>\n",
       "    </tr>\n",
       "    <tr>\n",
       "      <th>1</th>\n",
       "      <td>57</td>\n",
       "      <td>0</td>\n",
       "      <td>0</td>\n",
       "      <td>1</td>\n",
       "      <td>1.1</td>\n",
       "      <td>93.994</td>\n",
       "      <td>-36.4</td>\n",
       "      <td>0</td>\n",
       "      <td>0</td>\n",
       "      <td>0</td>\n",
       "      <td>...</td>\n",
       "      <td>0</td>\n",
       "      <td>0</td>\n",
       "      <td>1</td>\n",
       "      <td>0</td>\n",
       "      <td>0</td>\n",
       "      <td>0</td>\n",
       "      <td>1</td>\n",
       "      <td>1</td>\n",
       "      <td>0</td>\n",
       "      <td>1</td>\n",
       "    </tr>\n",
       "    <tr>\n",
       "      <th>2</th>\n",
       "      <td>37</td>\n",
       "      <td>1</td>\n",
       "      <td>0</td>\n",
       "      <td>1</td>\n",
       "      <td>1.1</td>\n",
       "      <td>93.994</td>\n",
       "      <td>-36.4</td>\n",
       "      <td>0</td>\n",
       "      <td>0</td>\n",
       "      <td>0</td>\n",
       "      <td>...</td>\n",
       "      <td>0</td>\n",
       "      <td>0</td>\n",
       "      <td>1</td>\n",
       "      <td>0</td>\n",
       "      <td>0</td>\n",
       "      <td>0</td>\n",
       "      <td>1</td>\n",
       "      <td>1</td>\n",
       "      <td>0</td>\n",
       "      <td>1</td>\n",
       "    </tr>\n",
       "    <tr>\n",
       "      <th>3</th>\n",
       "      <td>40</td>\n",
       "      <td>0</td>\n",
       "      <td>0</td>\n",
       "      <td>1</td>\n",
       "      <td>1.1</td>\n",
       "      <td>93.994</td>\n",
       "      <td>-36.4</td>\n",
       "      <td>0</td>\n",
       "      <td>0</td>\n",
       "      <td>0</td>\n",
       "      <td>...</td>\n",
       "      <td>0</td>\n",
       "      <td>0</td>\n",
       "      <td>1</td>\n",
       "      <td>0</td>\n",
       "      <td>0</td>\n",
       "      <td>0</td>\n",
       "      <td>1</td>\n",
       "      <td>1</td>\n",
       "      <td>0</td>\n",
       "      <td>1</td>\n",
       "    </tr>\n",
       "    <tr>\n",
       "      <th>4</th>\n",
       "      <td>56</td>\n",
       "      <td>0</td>\n",
       "      <td>1</td>\n",
       "      <td>1</td>\n",
       "      <td>1.1</td>\n",
       "      <td>93.994</td>\n",
       "      <td>-36.4</td>\n",
       "      <td>0</td>\n",
       "      <td>0</td>\n",
       "      <td>0</td>\n",
       "      <td>...</td>\n",
       "      <td>0</td>\n",
       "      <td>0</td>\n",
       "      <td>1</td>\n",
       "      <td>0</td>\n",
       "      <td>0</td>\n",
       "      <td>0</td>\n",
       "      <td>1</td>\n",
       "      <td>1</td>\n",
       "      <td>0</td>\n",
       "      <td>1</td>\n",
       "    </tr>\n",
       "    <tr>\n",
       "      <th>...</th>\n",
       "      <td>...</td>\n",
       "      <td>...</td>\n",
       "      <td>...</td>\n",
       "      <td>...</td>\n",
       "      <td>...</td>\n",
       "      <td>...</td>\n",
       "      <td>...</td>\n",
       "      <td>...</td>\n",
       "      <td>...</td>\n",
       "      <td>...</td>\n",
       "      <td>...</td>\n",
       "      <td>...</td>\n",
       "      <td>...</td>\n",
       "      <td>...</td>\n",
       "      <td>...</td>\n",
       "      <td>...</td>\n",
       "      <td>...</td>\n",
       "      <td>...</td>\n",
       "      <td>...</td>\n",
       "      <td>...</td>\n",
       "      <td>...</td>\n",
       "    </tr>\n",
       "    <tr>\n",
       "      <th>41183</th>\n",
       "      <td>73</td>\n",
       "      <td>1</td>\n",
       "      <td>0</td>\n",
       "      <td>1</td>\n",
       "      <td>-1.1</td>\n",
       "      <td>94.767</td>\n",
       "      <td>-50.8</td>\n",
       "      <td>1</td>\n",
       "      <td>0</td>\n",
       "      <td>0</td>\n",
       "      <td>...</td>\n",
       "      <td>0</td>\n",
       "      <td>0</td>\n",
       "      <td>0</td>\n",
       "      <td>1</td>\n",
       "      <td>0</td>\n",
       "      <td>0</td>\n",
       "      <td>1</td>\n",
       "      <td>1</td>\n",
       "      <td>0</td>\n",
       "      <td>1</td>\n",
       "    </tr>\n",
       "    <tr>\n",
       "      <th>41184</th>\n",
       "      <td>46</td>\n",
       "      <td>0</td>\n",
       "      <td>0</td>\n",
       "      <td>1</td>\n",
       "      <td>-1.1</td>\n",
       "      <td>94.767</td>\n",
       "      <td>-50.8</td>\n",
       "      <td>0</td>\n",
       "      <td>1</td>\n",
       "      <td>0</td>\n",
       "      <td>...</td>\n",
       "      <td>0</td>\n",
       "      <td>0</td>\n",
       "      <td>0</td>\n",
       "      <td>1</td>\n",
       "      <td>0</td>\n",
       "      <td>0</td>\n",
       "      <td>1</td>\n",
       "      <td>1</td>\n",
       "      <td>0</td>\n",
       "      <td>1</td>\n",
       "    </tr>\n",
       "    <tr>\n",
       "      <th>41185</th>\n",
       "      <td>56</td>\n",
       "      <td>1</td>\n",
       "      <td>0</td>\n",
       "      <td>2</td>\n",
       "      <td>-1.1</td>\n",
       "      <td>94.767</td>\n",
       "      <td>-50.8</td>\n",
       "      <td>0</td>\n",
       "      <td>0</td>\n",
       "      <td>0</td>\n",
       "      <td>...</td>\n",
       "      <td>0</td>\n",
       "      <td>0</td>\n",
       "      <td>0</td>\n",
       "      <td>1</td>\n",
       "      <td>0</td>\n",
       "      <td>0</td>\n",
       "      <td>1</td>\n",
       "      <td>1</td>\n",
       "      <td>0</td>\n",
       "      <td>1</td>\n",
       "    </tr>\n",
       "    <tr>\n",
       "      <th>41186</th>\n",
       "      <td>44</td>\n",
       "      <td>0</td>\n",
       "      <td>0</td>\n",
       "      <td>1</td>\n",
       "      <td>-1.1</td>\n",
       "      <td>94.767</td>\n",
       "      <td>-50.8</td>\n",
       "      <td>1</td>\n",
       "      <td>0</td>\n",
       "      <td>0</td>\n",
       "      <td>...</td>\n",
       "      <td>0</td>\n",
       "      <td>0</td>\n",
       "      <td>0</td>\n",
       "      <td>1</td>\n",
       "      <td>0</td>\n",
       "      <td>0</td>\n",
       "      <td>1</td>\n",
       "      <td>1</td>\n",
       "      <td>0</td>\n",
       "      <td>1</td>\n",
       "    </tr>\n",
       "    <tr>\n",
       "      <th>41187</th>\n",
       "      <td>74</td>\n",
       "      <td>1</td>\n",
       "      <td>0</td>\n",
       "      <td>3</td>\n",
       "      <td>-1.1</td>\n",
       "      <td>94.767</td>\n",
       "      <td>-50.8</td>\n",
       "      <td>0</td>\n",
       "      <td>0</td>\n",
       "      <td>0</td>\n",
       "      <td>...</td>\n",
       "      <td>0</td>\n",
       "      <td>0</td>\n",
       "      <td>0</td>\n",
       "      <td>1</td>\n",
       "      <td>0</td>\n",
       "      <td>0</td>\n",
       "      <td>0</td>\n",
       "      <td>0</td>\n",
       "      <td>0</td>\n",
       "      <td>1</td>\n",
       "    </tr>\n",
       "  </tbody>\n",
       "</table>\n",
       "<p>38245 rows × 40 columns</p>\n",
       "</div>"
      ],
      "text/plain": [
       "       age  housing  loan  campaign  emp.var.rate  cons.price.idx  \\\n",
       "0       56        0     0         1           1.1          93.994   \n",
       "1       57        0     0         1           1.1          93.994   \n",
       "2       37        1     0         1           1.1          93.994   \n",
       "3       40        0     0         1           1.1          93.994   \n",
       "4       56        0     1         1           1.1          93.994   \n",
       "...    ...      ...   ...       ...           ...             ...   \n",
       "41183   73        1     0         1          -1.1          94.767   \n",
       "41184   46        0     0         1          -1.1          94.767   \n",
       "41185   56        1     0         2          -1.1          94.767   \n",
       "41186   44        0     0         1          -1.1          94.767   \n",
       "41187   74        1     0         3          -1.1          94.767   \n",
       "\n",
       "       cons.conf.idx  y  job_blue-collar  job_entrepreneur  ...  month_jun  \\\n",
       "0              -36.4  0                0                 0  ...          0   \n",
       "1              -36.4  0                0                 0  ...          0   \n",
       "2              -36.4  0                0                 0  ...          0   \n",
       "3              -36.4  0                0                 0  ...          0   \n",
       "4              -36.4  0                0                 0  ...          0   \n",
       "...              ... ..              ...               ...  ...        ...   \n",
       "41183          -50.8  1                0                 0  ...          0   \n",
       "41184          -50.8  0                1                 0  ...          0   \n",
       "41185          -50.8  0                0                 0  ...          0   \n",
       "41186          -50.8  1                0                 0  ...          0   \n",
       "41187          -50.8  0                0                 0  ...          0   \n",
       "\n",
       "       month_mar  month_may  month_nov  month_oct  month_sep  \\\n",
       "0              0          1          0          0          0   \n",
       "1              0          1          0          0          0   \n",
       "2              0          1          0          0          0   \n",
       "3              0          1          0          0          0   \n",
       "4              0          1          0          0          0   \n",
       "...          ...        ...        ...        ...        ...   \n",
       "41183          0          0          1          0          0   \n",
       "41184          0          0          1          0          0   \n",
       "41185          0          0          1          0          0   \n",
       "41186          0          0          1          0          0   \n",
       "41187          0          0          1          0          0   \n",
       "\n",
       "       previous_Not contacted  poutcome_nonexistent  poutcome_success  \\\n",
       "0                           1                     1                 0   \n",
       "1                           1                     1                 0   \n",
       "2                           1                     1                 0   \n",
       "3                           1                     1                 0   \n",
       "4                           1                     1                 0   \n",
       "...                       ...                   ...               ...   \n",
       "41183                       1                     1                 0   \n",
       "41184                       1                     1                 0   \n",
       "41185                       1                     1                 0   \n",
       "41186                       1                     1                 0   \n",
       "41187                       0                     0                 0   \n",
       "\n",
       "       pdayss_Not contacted  \n",
       "0                         1  \n",
       "1                         1  \n",
       "2                         1  \n",
       "3                         1  \n",
       "4                         1  \n",
       "...                     ...  \n",
       "41183                     1  \n",
       "41184                     1  \n",
       "41185                     1  \n",
       "41186                     1  \n",
       "41187                     1  \n",
       "\n",
       "[38245 rows x 40 columns]"
      ]
     },
     "execution_count": 51,
     "metadata": {},
     "output_type": "execute_result"
    }
   ],
   "source": [
    "df"
   ]
  },
  {
   "cell_type": "code",
   "execution_count": 52,
   "id": "df6447b3",
   "metadata": {},
   "outputs": [
    {
     "name": "stderr",
     "output_type": "stream",
     "text": [
      "C:\\Users\\EBUKA ONUOHA\\anaconda3\\lib\\site-packages\\seaborn\\distributions.py:2619: FutureWarning: `distplot` is a deprecated function and will be removed in a future version. Please adapt your code to use either `displot` (a figure-level function with similar flexibility) or `histplot` (an axes-level function for histograms).\n",
      "  warnings.warn(msg, FutureWarning)\n"
     ]
    },
    {
     "data": {
      "text/plain": [
       "<AxesSubplot:xlabel='age'>"
      ]
     },
     "execution_count": 52,
     "metadata": {},
     "output_type": "execute_result"
    },
    {
     "data": {
      "image/png": "[encoded data removed]",
      "text/plain": [
       "<Figure size 864x288 with 1 Axes>"
      ]
     },
     "metadata": {},
     "output_type": "display_data"
    }
   ],
   "source": [
    "plt.figure(figsize=(12,4))\n",
    "sns.distplot(df['age']**0.6,bins = 70, kde=False)"
   ]
  },
  {
   "cell_type": "markdown",
   "id": "790a4c38",
   "metadata": {},
   "source": [
    "I'm performing a power transform on the Age column to give it a Gausian distribution, which is generally prefered by most models"
   ]
  },
  {
   "cell_type": "code",
   "execution_count": 53,
   "id": "526d5296",
   "metadata": {},
   "outputs": [],
   "source": [
    "df['age'] = df['age']**0.6"
   ]
  },
  {
   "cell_type": "markdown",
   "id": "1a239d2e",
   "metadata": {},
   "source": [
    "For the next features, I am going to group them and turn them to categorical features"
   ]
  },
  {
   "cell_type": "code",
   "execution_count": null,
   "id": "198fcd60",
   "metadata": {},
   "outputs": [],
   "source": []
  },
  {
   "cell_type": "code",
   "execution_count": 54,
   "id": "c28ac1bb",
   "metadata": {},
   "outputs": [],
   "source": [
    "def impute_empvar(empvar):\n",
    "    if -4 < empvar < -2:\n",
    "        return \"-4 to -2\"\n",
    "    if -2 < empvar < 0:\n",
    "        return \"-2 to 0\"\n",
    "    else:\n",
    "        return \"0 to 2\""
   ]
  },
  {
   "cell_type": "code",
   "execution_count": 55,
   "id": "8782f6c1",
   "metadata": {},
   "outputs": [],
   "source": [
    "df['emp.var.rate'] = df['emp.var.rate'].apply(impute_empvar) #applying the function"
   ]
  },
  {
   "cell_type": "code",
   "execution_count": 56,
   "id": "5e366d4a",
   "metadata": {},
   "outputs": [],
   "source": [
    "def impute_consprice(consprice):\n",
    "    if 92 < consprice < 93:\n",
    "        return \"92 to 93\"\n",
    "    if 93 < consprice < 94:\n",
    "        return \"93 to 94\"\n",
    "    else:\n",
    "        return \"94 to 95\""
   ]
  },
  {
   "cell_type": "code",
   "execution_count": 57,
   "id": "b905a2e6",
   "metadata": {},
   "outputs": [],
   "source": [
    "df['cons.price.idx'] = df['cons.price.idx'].apply(impute_consprice) #applying the function"
   ]
  },
  {
   "cell_type": "code",
   "execution_count": null,
   "id": "ba0a753e",
   "metadata": {},
   "outputs": [],
   "source": []
  },
  {
   "cell_type": "code",
   "execution_count": null,
   "id": "45442bce",
   "metadata": {},
   "outputs": [],
   "source": []
  },
  {
   "cell_type": "code",
   "execution_count": 58,
   "id": "fe6f16a1",
   "metadata": {},
   "outputs": [],
   "source": [
    "def impute_consconf(consconf):\n",
    "    if -51 < consconf < -46:\n",
    "        return \" -51 to -46\"\n",
    "    if -46 < consconf < -41:\n",
    "        return \"-46 to -41\"\n",
    "    if -41 < consconf < -36:\n",
    "        return \"-41 to -36\"\n",
    "    if -36 < consconf < -31:\n",
    "        return \"-36 to -31\"\n",
    "    else:\n",
    "        return \"-31 to -26\""
   ]
  },
  {
   "cell_type": "code",
   "execution_count": 59,
   "id": "d762c653",
   "metadata": {},
   "outputs": [],
   "source": [
    "df['cons.conf.idx'] = df['cons.conf.idx'].apply(impute_consconf) #applying the function"
   ]
  },
  {
   "cell_type": "code",
   "execution_count": null,
   "id": "b41aa135",
   "metadata": {},
   "outputs": [],
   "source": []
  },
  {
   "cell_type": "code",
   "execution_count": 60,
   "id": "9594d709",
   "metadata": {},
   "outputs": [],
   "source": [
    "dummies = pd.get_dummies(df[['cons.conf.idx','cons.price.idx','emp.var.rate']],drop_first=True)\n",
    "df = df.drop(['cons.conf.idx','cons.price.idx','emp.var.rate'],axis=1)\n",
    "df = pd.concat([df,dummies],axis=1)"
   ]
  },
  {
   "cell_type": "code",
   "execution_count": 61,
   "id": "4c347511",
   "metadata": {},
   "outputs": [
    {
     "data": {
      "text/html": [
       "<div>\n",
       "<style scoped>\n",
       "    .dataframe tbody tr th:only-of-type {\n",
       "        vertical-align: middle;\n",
       "    }\n",
       "\n",
       "    .dataframe tbody tr th {\n",
       "        vertical-align: top;\n",
       "    }\n",
       "\n",
       "    .dataframe thead th {\n",
       "        text-align: right;\n",
       "    }\n",
       "</style>\n",
       "<table border=\"1\" class=\"dataframe\">\n",
       "  <thead>\n",
       "    <tr style=\"text-align: right;\">\n",
       "      <th></th>\n",
       "      <th>age</th>\n",
       "      <th>housing</th>\n",
       "      <th>loan</th>\n",
       "      <th>campaign</th>\n",
       "      <th>y</th>\n",
       "      <th>job_blue-collar</th>\n",
       "      <th>job_entrepreneur</th>\n",
       "      <th>job_housemaid</th>\n",
       "      <th>job_management</th>\n",
       "      <th>job_retired</th>\n",
       "      <th>...</th>\n",
       "      <th>poutcome_success</th>\n",
       "      <th>pdayss_Not contacted</th>\n",
       "      <th>cons.conf.idx_-31 to -26</th>\n",
       "      <th>cons.conf.idx_-36 to -31</th>\n",
       "      <th>cons.conf.idx_-41 to -36</th>\n",
       "      <th>cons.conf.idx_-46 to -41</th>\n",
       "      <th>cons.price.idx_93 to 94</th>\n",
       "      <th>cons.price.idx_94 to 95</th>\n",
       "      <th>emp.var.rate_-4 to -2</th>\n",
       "      <th>emp.var.rate_0 to 2</th>\n",
       "    </tr>\n",
       "  </thead>\n",
       "  <tbody>\n",
       "    <tr>\n",
       "      <th>0</th>\n",
       "      <td>11.192132</td>\n",
       "      <td>0</td>\n",
       "      <td>0</td>\n",
       "      <td>1</td>\n",
       "      <td>0</td>\n",
       "      <td>0</td>\n",
       "      <td>0</td>\n",
       "      <td>1</td>\n",
       "      <td>0</td>\n",
       "      <td>0</td>\n",
       "      <td>...</td>\n",
       "      <td>0</td>\n",
       "      <td>1</td>\n",
       "      <td>0</td>\n",
       "      <td>0</td>\n",
       "      <td>1</td>\n",
       "      <td>0</td>\n",
       "      <td>1</td>\n",
       "      <td>0</td>\n",
       "      <td>0</td>\n",
       "      <td>1</td>\n",
       "    </tr>\n",
       "    <tr>\n",
       "      <th>1</th>\n",
       "      <td>11.311623</td>\n",
       "      <td>0</td>\n",
       "      <td>0</td>\n",
       "      <td>1</td>\n",
       "      <td>0</td>\n",
       "      <td>0</td>\n",
       "      <td>0</td>\n",
       "      <td>0</td>\n",
       "      <td>0</td>\n",
       "      <td>0</td>\n",
       "      <td>...</td>\n",
       "      <td>0</td>\n",
       "      <td>1</td>\n",
       "      <td>0</td>\n",
       "      <td>0</td>\n",
       "      <td>1</td>\n",
       "      <td>0</td>\n",
       "      <td>1</td>\n",
       "      <td>0</td>\n",
       "      <td>0</td>\n",
       "      <td>1</td>\n",
       "    </tr>\n",
       "    <tr>\n",
       "      <th>2</th>\n",
       "      <td>8.728127</td>\n",
       "      <td>1</td>\n",
       "      <td>0</td>\n",
       "      <td>1</td>\n",
       "      <td>0</td>\n",
       "      <td>0</td>\n",
       "      <td>0</td>\n",
       "      <td>0</td>\n",
       "      <td>0</td>\n",
       "      <td>0</td>\n",
       "      <td>...</td>\n",
       "      <td>0</td>\n",
       "      <td>1</td>\n",
       "      <td>0</td>\n",
       "      <td>0</td>\n",
       "      <td>1</td>\n",
       "      <td>0</td>\n",
       "      <td>1</td>\n",
       "      <td>0</td>\n",
       "      <td>0</td>\n",
       "      <td>1</td>\n",
       "    </tr>\n",
       "    <tr>\n",
       "      <th>3</th>\n",
       "      <td>9.146101</td>\n",
       "      <td>0</td>\n",
       "      <td>0</td>\n",
       "      <td>1</td>\n",
       "      <td>0</td>\n",
       "      <td>0</td>\n",
       "      <td>0</td>\n",
       "      <td>0</td>\n",
       "      <td>0</td>\n",
       "      <td>0</td>\n",
       "      <td>...</td>\n",
       "      <td>0</td>\n",
       "      <td>1</td>\n",
       "      <td>0</td>\n",
       "      <td>0</td>\n",
       "      <td>1</td>\n",
       "      <td>0</td>\n",
       "      <td>1</td>\n",
       "      <td>0</td>\n",
       "      <td>0</td>\n",
       "      <td>1</td>\n",
       "    </tr>\n",
       "    <tr>\n",
       "      <th>4</th>\n",
       "      <td>11.192132</td>\n",
       "      <td>0</td>\n",
       "      <td>1</td>\n",
       "      <td>1</td>\n",
       "      <td>0</td>\n",
       "      <td>0</td>\n",
       "      <td>0</td>\n",
       "      <td>0</td>\n",
       "      <td>0</td>\n",
       "      <td>0</td>\n",
       "      <td>...</td>\n",
       "      <td>0</td>\n",
       "      <td>1</td>\n",
       "      <td>0</td>\n",
       "      <td>0</td>\n",
       "      <td>1</td>\n",
       "      <td>0</td>\n",
       "      <td>1</td>\n",
       "      <td>0</td>\n",
       "      <td>0</td>\n",
       "      <td>1</td>\n",
       "    </tr>\n",
       "    <tr>\n",
       "      <th>...</th>\n",
       "      <td>...</td>\n",
       "      <td>...</td>\n",
       "      <td>...</td>\n",
       "      <td>...</td>\n",
       "      <td>...</td>\n",
       "      <td>...</td>\n",
       "      <td>...</td>\n",
       "      <td>...</td>\n",
       "      <td>...</td>\n",
       "      <td>...</td>\n",
       "      <td>...</td>\n",
       "      <td>...</td>\n",
       "      <td>...</td>\n",
       "      <td>...</td>\n",
       "      <td>...</td>\n",
       "      <td>...</td>\n",
       "      <td>...</td>\n",
       "      <td>...</td>\n",
       "      <td>...</td>\n",
       "      <td>...</td>\n",
       "      <td>...</td>\n",
       "    </tr>\n",
       "    <tr>\n",
       "      <th>41183</th>\n",
       "      <td>13.121809</td>\n",
       "      <td>1</td>\n",
       "      <td>0</td>\n",
       "      <td>1</td>\n",
       "      <td>1</td>\n",
       "      <td>0</td>\n",
       "      <td>0</td>\n",
       "      <td>0</td>\n",
       "      <td>0</td>\n",
       "      <td>1</td>\n",
       "      <td>...</td>\n",
       "      <td>0</td>\n",
       "      <td>1</td>\n",
       "      <td>0</td>\n",
       "      <td>0</td>\n",
       "      <td>0</td>\n",
       "      <td>0</td>\n",
       "      <td>0</td>\n",
       "      <td>1</td>\n",
       "      <td>0</td>\n",
       "      <td>0</td>\n",
       "    </tr>\n",
       "    <tr>\n",
       "      <th>41184</th>\n",
       "      <td>9.946143</td>\n",
       "      <td>0</td>\n",
       "      <td>0</td>\n",
       "      <td>1</td>\n",
       "      <td>0</td>\n",
       "      <td>1</td>\n",
       "      <td>0</td>\n",
       "      <td>0</td>\n",
       "      <td>0</td>\n",
       "      <td>0</td>\n",
       "      <td>...</td>\n",
       "      <td>0</td>\n",
       "      <td>1</td>\n",
       "      <td>0</td>\n",
       "      <td>0</td>\n",
       "      <td>0</td>\n",
       "      <td>0</td>\n",
       "      <td>0</td>\n",
       "      <td>1</td>\n",
       "      <td>0</td>\n",
       "      <td>0</td>\n",
       "    </tr>\n",
       "    <tr>\n",
       "      <th>41185</th>\n",
       "      <td>11.192132</td>\n",
       "      <td>1</td>\n",
       "      <td>0</td>\n",
       "      <td>2</td>\n",
       "      <td>0</td>\n",
       "      <td>0</td>\n",
       "      <td>0</td>\n",
       "      <td>0</td>\n",
       "      <td>0</td>\n",
       "      <td>1</td>\n",
       "      <td>...</td>\n",
       "      <td>0</td>\n",
       "      <td>1</td>\n",
       "      <td>0</td>\n",
       "      <td>0</td>\n",
       "      <td>0</td>\n",
       "      <td>0</td>\n",
       "      <td>0</td>\n",
       "      <td>1</td>\n",
       "      <td>0</td>\n",
       "      <td>0</td>\n",
       "    </tr>\n",
       "    <tr>\n",
       "      <th>41186</th>\n",
       "      <td>9.684375</td>\n",
       "      <td>0</td>\n",
       "      <td>0</td>\n",
       "      <td>1</td>\n",
       "      <td>1</td>\n",
       "      <td>0</td>\n",
       "      <td>0</td>\n",
       "      <td>0</td>\n",
       "      <td>0</td>\n",
       "      <td>0</td>\n",
       "      <td>...</td>\n",
       "      <td>0</td>\n",
       "      <td>1</td>\n",
       "      <td>0</td>\n",
       "      <td>0</td>\n",
       "      <td>0</td>\n",
       "      <td>0</td>\n",
       "      <td>0</td>\n",
       "      <td>1</td>\n",
       "      <td>0</td>\n",
       "      <td>0</td>\n",
       "    </tr>\n",
       "    <tr>\n",
       "      <th>41187</th>\n",
       "      <td>13.229366</td>\n",
       "      <td>1</td>\n",
       "      <td>0</td>\n",
       "      <td>3</td>\n",
       "      <td>0</td>\n",
       "      <td>0</td>\n",
       "      <td>0</td>\n",
       "      <td>0</td>\n",
       "      <td>0</td>\n",
       "      <td>1</td>\n",
       "      <td>...</td>\n",
       "      <td>0</td>\n",
       "      <td>1</td>\n",
       "      <td>0</td>\n",
       "      <td>0</td>\n",
       "      <td>0</td>\n",
       "      <td>0</td>\n",
       "      <td>0</td>\n",
       "      <td>1</td>\n",
       "      <td>0</td>\n",
       "      <td>0</td>\n",
       "    </tr>\n",
       "  </tbody>\n",
       "</table>\n",
       "<p>38245 rows × 45 columns</p>\n",
       "</div>"
      ],
      "text/plain": [
       "             age  housing  loan  campaign  y  job_blue-collar  \\\n",
       "0      11.192132        0     0         1  0                0   \n",
       "1      11.311623        0     0         1  0                0   \n",
       "2       8.728127        1     0         1  0                0   \n",
       "3       9.146101        0     0         1  0                0   \n",
       "4      11.192132        0     1         1  0                0   \n",
       "...          ...      ...   ...       ... ..              ...   \n",
       "41183  13.121809        1     0         1  1                0   \n",
       "41184   9.946143        0     0         1  0                1   \n",
       "41185  11.192132        1     0         2  0                0   \n",
       "41186   9.684375        0     0         1  1                0   \n",
       "41187  13.229366        1     0         3  0                0   \n",
       "\n",
       "       job_entrepreneur  job_housemaid  job_management  job_retired  ...  \\\n",
       "0                     0              1               0            0  ...   \n",
       "1                     0              0               0            0  ...   \n",
       "2                     0              0               0            0  ...   \n",
       "3                     0              0               0            0  ...   \n",
       "4                     0              0               0            0  ...   \n",
       "...                 ...            ...             ...          ...  ...   \n",
       "41183                 0              0               0            1  ...   \n",
       "41184                 0              0               0            0  ...   \n",
       "41185                 0              0               0            1  ...   \n",
       "41186                 0              0               0            0  ...   \n",
       "41187                 0              0               0            1  ...   \n",
       "\n",
       "       poutcome_success  pdayss_Not contacted  cons.conf.idx_-31 to -26  \\\n",
       "0                     0                     1                         0   \n",
       "1                     0                     1                         0   \n",
       "2                     0                     1                         0   \n",
       "3                     0                     1                         0   \n",
       "4                     0                     1                         0   \n",
       "...                 ...                   ...                       ...   \n",
       "41183                 0                     1                         0   \n",
       "41184                 0                     1                         0   \n",
       "41185                 0                     1                         0   \n",
       "41186                 0                     1                         0   \n",
       "41187                 0                     1                         0   \n",
       "\n",
       "       cons.conf.idx_-36 to -31  cons.conf.idx_-41 to -36  \\\n",
       "0                             0                         1   \n",
       "1                             0                         1   \n",
       "2                             0                         1   \n",
       "3                             0                         1   \n",
       "4                             0                         1   \n",
       "...                         ...                       ...   \n",
       "41183                         0                         0   \n",
       "41184                         0                         0   \n",
       "41185                         0                         0   \n",
       "41186                         0                         0   \n",
       "41187                         0                         0   \n",
       "\n",
       "       cons.conf.idx_-46 to -41  cons.price.idx_93 to 94  \\\n",
       "0                             0                        1   \n",
       "1                             0                        1   \n",
       "2                             0                        1   \n",
       "3                             0                        1   \n",
       "4                             0                        1   \n",
       "...                         ...                      ...   \n",
       "41183                         0                        0   \n",
       "41184                         0                        0   \n",
       "41185                         0                        0   \n",
       "41186                         0                        0   \n",
       "41187                         0                        0   \n",
       "\n",
       "       cons.price.idx_94 to 95  emp.var.rate_-4 to -2  emp.var.rate_0 to 2  \n",
       "0                            0                      0                    1  \n",
       "1                            0                      0                    1  \n",
       "2                            0                      0                    1  \n",
       "3                            0                      0                    1  \n",
       "4                            0                      0                    1  \n",
       "...                        ...                    ...                  ...  \n",
       "41183                        1                      0                    0  \n",
       "41184                        1                      0                    0  \n",
       "41185                        1                      0                    0  \n",
       "41186                        1                      0                    0  \n",
       "41187                        1                      0                    0  \n",
       "\n",
       "[38245 rows x 45 columns]"
      ]
     },
     "execution_count": 61,
     "metadata": {},
     "output_type": "execute_result"
    }
   ],
   "source": [
    "df"
   ]
  },
  {
   "cell_type": "markdown",
   "id": "0c3b1371",
   "metadata": {},
   "source": [
    "## Train Test Split\n",
    "#### Now we go over everything again"
   ]
  },
  {
   "cell_type": "code",
   "execution_count": 62,
   "id": "83613b40",
   "metadata": {},
   "outputs": [],
   "source": [
    "from sklearn.model_selection import train_test_split"
   ]
  },
  {
   "cell_type": "code",
   "execution_count": 63,
   "id": "2618f23a",
   "metadata": {},
   "outputs": [],
   "source": [
    "X = df.drop('y',axis=1).values\n",
    "Y = df['y'].values"
   ]
  },
  {
   "cell_type": "code",
   "execution_count": 64,
   "id": "8c69fabe",
   "metadata": {},
   "outputs": [],
   "source": [
    "X_train, X_test, y_train, y_test = train_test_split(X, Y, test_size=0.20, random_state=101)"
   ]
  },
  {
   "cell_type": "code",
   "execution_count": 66,
   "id": "8ff7f987",
   "metadata": {},
   "outputs": [],
   "source": [
    "#Scaling the data, this improves the model\n",
    "from sklearn.preprocessing import MinMaxScaler"
   ]
  },
  {
   "cell_type": "code",
   "execution_count": 67,
   "id": "cb2868ca",
   "metadata": {},
   "outputs": [],
   "source": [
    "scaler = MinMaxScaler()"
   ]
  },
  {
   "cell_type": "code",
   "execution_count": 68,
   "id": "59853dd9",
   "metadata": {},
   "outputs": [],
   "source": [
    "X_train = scaler.fit_transform(X_train)"
   ]
  },
  {
   "cell_type": "code",
   "execution_count": 69,
   "id": "fbc9f93f",
   "metadata": {},
   "outputs": [],
   "source": [
    "X_test = scaler.transform(X_test)"
   ]
  },
  {
   "cell_type": "markdown",
   "id": "fb168939",
   "metadata": {},
   "source": [
    "Beginning with buiding a neural network like we did before"
   ]
  },
  {
   "cell_type": "code",
   "execution_count": 70,
   "id": "d0e64394",
   "metadata": {},
   "outputs": [],
   "source": [
    "import tensorflow as tf\n",
    "from tensorflow.keras.models import Sequential\n",
    "from tensorflow.keras.layers import Dense, Activation,Dropout\n",
    "from tensorflow.keras.constraints import max_norm"
   ]
  },
  {
   "cell_type": "code",
   "execution_count": 71,
   "id": "097e5e50",
   "metadata": {},
   "outputs": [],
   "source": [
    "model = Sequential()\n",
    "\n",
    "model.add(Dense(45,  activation='relu'))\n",
    "model.add(Dropout(0.2))\n",
    "\n",
    "model.add(Dense(45, activation='relu'))\n",
    "model.add(Dropout(0.2))\n",
    "\n",
    "model.add(Dense(20, activation='relu'))\n",
    "model.add(Dropout(0.2))\n",
    "\n",
    "\n",
    "model.add(Dense(10, activation='relu'))\n",
    "model.add(Dropout(0.2))\n",
    "\n",
    "\n",
    "model.add(Dense(5, activation='relu'))\n",
    "\n",
    "model.add(Dense(units=1,activation='sigmoid'))\n",
    "\n",
    "model.compile(loss='binary_crossentropy', optimizer='adam')"
   ]
  },
  {
   "cell_type": "code",
   "execution_count": 72,
   "id": "7c3211eb",
   "metadata": {},
   "outputs": [],
   "source": [
    "from tensorflow.keras.callbacks import EarlyStopping"
   ]
  },
  {
   "cell_type": "code",
   "execution_count": 73,
   "id": "2b781664",
   "metadata": {},
   "outputs": [],
   "source": [
    "early_stop = EarlyStopping(monitor='val_loss', mode='min', verbose=1, patience=25)"
   ]
  },
  {
   "cell_type": "code",
   "execution_count": 74,
   "id": "9095ac3c",
   "metadata": {
    "scrolled": true
   },
   "outputs": [
    {
     "name": "stdout",
     "output_type": "stream",
     "text": [
      "Epoch 1/600\n",
      "123/123 [==============================] - 7s 14ms/step - loss: 0.3857 - val_loss: 0.2868\n",
      "Epoch 2/600\n",
      "123/123 [==============================] - 1s 7ms/step - loss: 0.3151 - val_loss: 0.2737\n",
      "Epoch 3/600\n",
      "123/123 [==============================] - 1s 6ms/step - loss: 0.3029 - val_loss: 0.2724\n",
      "Epoch 4/600\n",
      "123/123 [==============================] - 1s 6ms/step - loss: 0.2982 - val_loss: 0.2755\n",
      "Epoch 5/600\n",
      "123/123 [==============================] - 1s 6ms/step - loss: 0.2951 - val_loss: 0.2723\n",
      "Epoch 6/600\n",
      "123/123 [==============================] - 1s 6ms/step - loss: 0.2924 - val_loss: 0.2680\n",
      "Epoch 7/600\n",
      "123/123 [==============================] - 1s 6ms/step - loss: 0.2904 - val_loss: 0.2727\n",
      "Epoch 8/600\n",
      "123/123 [==============================] - 1s 6ms/step - loss: 0.2872 - val_loss: 0.2711\n",
      "Epoch 9/600\n",
      "123/123 [==============================] - 1s 6ms/step - loss: 0.2850 - val_loss: 0.2691\n",
      "Epoch 10/600\n",
      "123/123 [==============================] - 1s 7ms/step - loss: 0.2859 - val_loss: 0.2708\n",
      "Epoch 11/600\n",
      "123/123 [==============================] - 1s 6ms/step - loss: 0.2829 - val_loss: 0.2711\n",
      "Epoch 12/600\n",
      "123/123 [==============================] - 1s 6ms/step - loss: 0.2824 - val_loss: 0.2697\n",
      "Epoch 13/600\n",
      "123/123 [==============================] - 1s 7ms/step - loss: 0.2823 - val_loss: 0.2672\n",
      "Epoch 14/600\n",
      "123/123 [==============================] - 1s 6ms/step - loss: 0.2813 - val_loss: 0.2675\n",
      "Epoch 15/600\n",
      "123/123 [==============================] - 1s 6ms/step - loss: 0.2804 - val_loss: 0.2669\n",
      "Epoch 16/600\n",
      "123/123 [==============================] - 1s 6ms/step - loss: 0.2806 - val_loss: 0.2669\n",
      "Epoch 17/600\n",
      "123/123 [==============================] - 1s 6ms/step - loss: 0.2775 - val_loss: 0.2686\n",
      "Epoch 18/600\n",
      "123/123 [==============================] - 1s 6ms/step - loss: 0.2786 - val_loss: 0.2656\n",
      "Epoch 19/600\n",
      "123/123 [==============================] - 1s 6ms/step - loss: 0.2787 - val_loss: 0.2678\n",
      "Epoch 20/600\n",
      "123/123 [==============================] - 1s 6ms/step - loss: 0.2775 - val_loss: 0.2679\n",
      "Epoch 21/600\n",
      "123/123 [==============================] - 1s 6ms/step - loss: 0.2774 - val_loss: 0.2675\n",
      "Epoch 22/600\n",
      "123/123 [==============================] - 1s 6ms/step - loss: 0.2771 - val_loss: 0.2698\n",
      "Epoch 23/600\n",
      "123/123 [==============================] - 1s 6ms/step - loss: 0.2773 - val_loss: 0.2696\n",
      "Epoch 24/600\n",
      "123/123 [==============================] - 1s 6ms/step - loss: 0.2765 - val_loss: 0.2695\n",
      "Epoch 25/600\n",
      "123/123 [==============================] - 1s 6ms/step - loss: 0.2750 - val_loss: 0.2673\n",
      "Epoch 26/600\n",
      "123/123 [==============================] - 1s 6ms/step - loss: 0.2752 - val_loss: 0.2678\n",
      "Epoch 27/600\n",
      "123/123 [==============================] - 1s 6ms/step - loss: 0.2742 - val_loss: 0.2676\n",
      "Epoch 28/600\n",
      "123/123 [==============================] - 1s 6ms/step - loss: 0.2744 - val_loss: 0.2678\n",
      "Epoch 29/600\n",
      "123/123 [==============================] - 1s 6ms/step - loss: 0.2736 - val_loss: 0.2671\n",
      "Epoch 30/600\n",
      "123/123 [==============================] - 1s 6ms/step - loss: 0.2743 - val_loss: 0.2662\n",
      "Epoch 31/600\n",
      "123/123 [==============================] - 1s 6ms/step - loss: 0.2736 - val_loss: 0.2668\n",
      "Epoch 32/600\n",
      "123/123 [==============================] - 1s 6ms/step - loss: 0.2740 - val_loss: 0.2685\n",
      "Epoch 33/600\n",
      "123/123 [==============================] - 1s 6ms/step - loss: 0.2743 - val_loss: 0.2680\n",
      "Epoch 34/600\n",
      "123/123 [==============================] - 1s 6ms/step - loss: 0.2738 - val_loss: 0.2684\n",
      "Epoch 35/600\n",
      "123/123 [==============================] - 1s 6ms/step - loss: 0.2731 - val_loss: 0.2681\n",
      "Epoch 36/600\n",
      "123/123 [==============================] - 1s 6ms/step - loss: 0.2724 - val_loss: 0.2696\n",
      "Epoch 37/600\n",
      "123/123 [==============================] - 1s 6ms/step - loss: 0.2735 - val_loss: 0.2682\n",
      "Epoch 38/600\n",
      "123/123 [==============================] - 1s 6ms/step - loss: 0.2720 - val_loss: 0.2683\n",
      "Epoch 39/600\n",
      "123/123 [==============================] - 1s 6ms/step - loss: 0.2721 - val_loss: 0.2680\n",
      "Epoch 40/600\n",
      "123/123 [==============================] - 1s 6ms/step - loss: 0.2717 - val_loss: 0.2677\n",
      "Epoch 41/600\n",
      "123/123 [==============================] - 1s 6ms/step - loss: 0.2712 - val_loss: 0.2697\n",
      "Epoch 42/600\n",
      "123/123 [==============================] - 1s 6ms/step - loss: 0.2704 - val_loss: 0.2718\n",
      "Epoch 43/600\n",
      "123/123 [==============================] - 1s 6ms/step - loss: 0.2709 - val_loss: 0.2694\n",
      "Epoch 43: early stopping\n"
     ]
    },
    {
     "data": {
      "text/plain": [
       "<keras.callbacks.History at 0x161dadd70d0>"
      ]
     },
     "execution_count": 74,
     "metadata": {},
     "output_type": "execute_result"
    }
   ],
   "source": [
    "model.fit(x=X_train, \n",
    "          y=y_train, \n",
    "          epochs=600,\n",
    "          batch_size=250,\n",
    "          validation_data=(X_test, y_test),callbacks=[early_stop]\n",
    "          )"
   ]
  },
  {
   "cell_type": "code",
   "execution_count": 75,
   "id": "d0f1d357",
   "metadata": {},
   "outputs": [],
   "source": [
    "losses = pd.DataFrame(model.history.history)"
   ]
  },
  {
   "cell_type": "code",
   "execution_count": 76,
   "id": "fdd10a6b",
   "metadata": {},
   "outputs": [
    {
     "data": {
      "text/plain": [
       "<AxesSubplot:>"
      ]
     },
     "execution_count": 76,
     "metadata": {},
     "output_type": "execute_result"
    },
    {
     "data": {
      "image/png": "[encoded data removed]",
      "text/plain": [
       "<Figure size 432x288 with 1 Axes>"
      ]
     },
     "metadata": {},
     "output_type": "display_data"
    }
   ],
   "source": [
    "losses[['loss','val_loss']].plot()"
   ]
  },
  {
   "cell_type": "code",
   "execution_count": 77,
   "id": "a5a6da7e",
   "metadata": {},
   "outputs": [],
   "source": [
    "from sklearn.metrics import classification_report,confusion_matrix"
   ]
  },
  {
   "cell_type": "code",
   "execution_count": 78,
   "id": "90c1c75c",
   "metadata": {},
   "outputs": [
    {
     "name": "stdout",
     "output_type": "stream",
     "text": [
      "240/240 [==============================] - 1s 2ms/step\n"
     ]
    }
   ],
   "source": [
    "predictions =  (model.predict(X_test)>0.4).astype('int32')"
   ]
  },
  {
   "cell_type": "code",
   "execution_count": 79,
   "id": "19455d5a",
   "metadata": {},
   "outputs": [
    {
     "name": "stdout",
     "output_type": "stream",
     "text": [
      "              precision    recall  f1-score   support\n",
      "\n",
      "           0       0.93      0.95      0.94      6816\n",
      "           1       0.52      0.41      0.46       833\n",
      "\n",
      "    accuracy                           0.89      7649\n",
      "   macro avg       0.72      0.68      0.70      7649\n",
      "weighted avg       0.88      0.89      0.89      7649\n",
      "\n"
     ]
    }
   ],
   "source": [
    "print(classification_report(y_test,predictions))"
   ]
  },
  {
   "cell_type": "markdown",
   "id": "bd985859",
   "metadata": {},
   "source": [
    "Okay this is good but basically the same result as the very first neural network"
   ]
  },
  {
   "cell_type": "markdown",
   "id": "1f704855",
   "metadata": {},
   "source": [
    "Let's make the model more sensitive"
   ]
  },
  {
   "cell_type": "code",
   "execution_count": 80,
   "id": "c18196b8",
   "metadata": {},
   "outputs": [],
   "source": [
    "from sklearn.utils.class_weight import compute_class_weight"
   ]
  },
  {
   "cell_type": "code",
   "execution_count": 81,
   "id": "d56eca3c",
   "metadata": {},
   "outputs": [],
   "source": [
    "class_weights = compute_class_weight(\n",
    "    class_weight = 'balanced',\n",
    "    classes = np.unique(y_train),\n",
    "    y=y_train) "
   ]
  },
  {
   "cell_type": "code",
   "execution_count": 82,
   "id": "595a17d3",
   "metadata": {},
   "outputs": [
    {
     "name": "stdout",
     "output_type": "stream",
     "text": [
      "Class Weights: {0: 0.5630267564682934, 1: 4.466569343065694}\n"
     ]
    }
   ],
   "source": [
    "class_weights_dict = {0: class_weights[0], 1: class_weights[1]}\n",
    "print(\"Class Weights:\", class_weights_dict)"
   ]
  },
  {
   "cell_type": "code",
   "execution_count": 90,
   "id": "0c1ac491",
   "metadata": {},
   "outputs": [],
   "source": [
    "model = Sequential()\n",
    "\n",
    "model.add(Dense(128,  activation='relu'))\n",
    "model.add(Dropout(0.2))\n",
    "\n",
    "model.add(Dense(64, activation='relu'))\n",
    "model.add(Dropout(0.2))\n",
    "\n",
    "model.add(Dense(32, activation='relu'))\n",
    "model.add(Dropout(0.2))\n",
    "\n",
    "\n",
    "model.add(Dense(16, activation='relu'))\n",
    "model.add(Dropout(0.2))\n",
    "\n",
    "\n",
    "model.add(Dense(8, activation='relu'))\n",
    "\n",
    "model.add(Dense(units=1,activation='sigmoid'))\n",
    "\n",
    "model.compile(loss='binary_crossentropy', optimizer='adam')"
   ]
  },
  {
   "cell_type": "code",
   "execution_count": 91,
   "id": "c0519d7c",
   "metadata": {
    "scrolled": true
   },
   "outputs": [
    {
     "name": "stdout",
     "output_type": "stream",
     "text": [
      "Epoch 1/600\n",
      "123/123 [==============================] - 3s 11ms/step - loss: 0.6483 - val_loss: 0.5568\n",
      "Epoch 2/600\n",
      "123/123 [==============================] - 1s 10ms/step - loss: 0.5729 - val_loss: 0.5522\n",
      "Epoch 3/600\n",
      "123/123 [==============================] - 1s 8ms/step - loss: 0.5585 - val_loss: 0.5539\n",
      "Epoch 4/600\n",
      "123/123 [==============================] - 1s 7ms/step - loss: 0.5528 - val_loss: 0.5061\n",
      "Epoch 5/600\n",
      "123/123 [==============================] - 1s 7ms/step - loss: 0.5514 - val_loss: 0.5435\n",
      "Epoch 6/600\n",
      "123/123 [==============================] - 1s 7ms/step - loss: 0.5483 - val_loss: 0.5255\n",
      "Epoch 7/600\n",
      "123/123 [==============================] - 1s 7ms/step - loss: 0.5467 - val_loss: 0.5706\n",
      "Epoch 8/600\n",
      "123/123 [==============================] - 1s 8ms/step - loss: 0.5455 - val_loss: 0.5513\n",
      "Epoch 9/600\n",
      "123/123 [==============================] - 1s 8ms/step - loss: 0.5429 - val_loss: 0.5221\n",
      "Epoch 10/600\n",
      "123/123 [==============================] - 1s 7ms/step - loss: 0.5413 - val_loss: 0.5331\n",
      "Epoch 11/600\n",
      "123/123 [==============================] - 1s 7ms/step - loss: 0.5404 - val_loss: 0.5210\n",
      "Epoch 12/600\n",
      "123/123 [==============================] - 1s 7ms/step - loss: 0.5391 - val_loss: 0.5393\n",
      "Epoch 13/600\n",
      "123/123 [==============================] - 1s 7ms/step - loss: 0.5375 - val_loss: 0.5305\n",
      "Epoch 14/600\n",
      "123/123 [==============================] - 1s 8ms/step - loss: 0.5349 - val_loss: 0.5323\n",
      "Epoch 15/600\n",
      "123/123 [==============================] - 1s 8ms/step - loss: 0.5354 - val_loss: 0.5683\n",
      "Epoch 16/600\n",
      "123/123 [==============================] - 1s 8ms/step - loss: 0.5321 - val_loss: 0.5680\n",
      "Epoch 17/600\n",
      "123/123 [==============================] - 1s 7ms/step - loss: 0.5326 - val_loss: 0.5401\n",
      "Epoch 18/600\n",
      "123/123 [==============================] - 1s 7ms/step - loss: 0.5312 - val_loss: 0.5262\n",
      "Epoch 19/600\n",
      "123/123 [==============================] - 1s 7ms/step - loss: 0.5313 - val_loss: 0.5165\n",
      "Epoch 20/600\n",
      "123/123 [==============================] - 1s 7ms/step - loss: 0.5282 - val_loss: 0.5855\n",
      "Epoch 21/600\n",
      "123/123 [==============================] - 1s 7ms/step - loss: 0.5293 - val_loss: 0.4957\n",
      "Epoch 22/600\n",
      "123/123 [==============================] - 1s 7ms/step - loss: 0.5248 - val_loss: 0.5229\n",
      "Epoch 23/600\n",
      "123/123 [==============================] - 1s 7ms/step - loss: 0.5256 - val_loss: 0.5319\n",
      "Epoch 24/600\n",
      "123/123 [==============================] - 1s 7ms/step - loss: 0.5224 - val_loss: 0.5326\n",
      "Epoch 25/600\n",
      "123/123 [==============================] - 1s 8ms/step - loss: 0.5224 - val_loss: 0.5162\n",
      "Epoch 26/600\n",
      "123/123 [==============================] - 1s 7ms/step - loss: 0.5230 - val_loss: 0.5463\n",
      "Epoch 27/600\n",
      "123/123 [==============================] - 1s 7ms/step - loss: 0.5225 - val_loss: 0.5378\n",
      "Epoch 28/600\n",
      "123/123 [==============================] - 1s 7ms/step - loss: 0.5206 - val_loss: 0.4911\n",
      "Epoch 29/600\n",
      "123/123 [==============================] - 1s 7ms/step - loss: 0.5192 - val_loss: 0.4996\n",
      "Epoch 30/600\n",
      "123/123 [==============================] - 1s 8ms/step - loss: 0.5178 - val_loss: 0.5310\n",
      "Epoch 31/600\n",
      "123/123 [==============================] - 1s 7ms/step - loss: 0.5156 - val_loss: 0.5188\n",
      "Epoch 32/600\n",
      "123/123 [==============================] - 1s 7ms/step - loss: 0.5170 - val_loss: 0.5334\n",
      "Epoch 33/600\n",
      "123/123 [==============================] - 1s 7ms/step - loss: 0.5148 - val_loss: 0.5502\n",
      "Epoch 34/600\n",
      "123/123 [==============================] - 1s 8ms/step - loss: 0.5135 - val_loss: 0.5041\n",
      "Epoch 35/600\n",
      "123/123 [==============================] - 1s 7ms/step - loss: 0.5127 - val_loss: 0.5411\n",
      "Epoch 36/600\n",
      "123/123 [==============================] - 1s 8ms/step - loss: 0.5135 - val_loss: 0.5142\n",
      "Epoch 37/600\n",
      "123/123 [==============================] - 1s 7ms/step - loss: 0.5120 - val_loss: 0.4903\n",
      "Epoch 38/600\n",
      "123/123 [==============================] - 1s 7ms/step - loss: 0.5110 - val_loss: 0.4997\n",
      "Epoch 39/600\n",
      "123/123 [==============================] - 1s 7ms/step - loss: 0.5089 - val_loss: 0.5463\n",
      "Epoch 40/600\n",
      "123/123 [==============================] - 1s 7ms/step - loss: 0.5108 - val_loss: 0.5185\n",
      "Epoch 41/600\n",
      "123/123 [==============================] - 1s 8ms/step - loss: 0.5054 - val_loss: 0.5244\n",
      "Epoch 42/600\n",
      "123/123 [==============================] - 1s 7ms/step - loss: 0.5068 - val_loss: 0.5290\n",
      "Epoch 43/600\n",
      "123/123 [==============================] - 1s 7ms/step - loss: 0.5030 - val_loss: 0.5120\n",
      "Epoch 44/600\n",
      "123/123 [==============================] - 1s 7ms/step - loss: 0.5039 - val_loss: 0.5251\n",
      "Epoch 45/600\n",
      "123/123 [==============================] - 1s 8ms/step - loss: 0.5038 - val_loss: 0.5374\n",
      "Epoch 46/600\n",
      "123/123 [==============================] - 1s 7ms/step - loss: 0.5024 - val_loss: 0.5459\n",
      "Epoch 47/600\n",
      "123/123 [==============================] - 1s 8ms/step - loss: 0.5006 - val_loss: 0.5373\n",
      "Epoch 48/600\n",
      "123/123 [==============================] - 1s 7ms/step - loss: 0.4998 - val_loss: 0.4882\n",
      "Epoch 49/600\n",
      "123/123 [==============================] - 1s 7ms/step - loss: 0.4983 - val_loss: 0.5152\n",
      "Epoch 50/600\n",
      "123/123 [==============================] - 1s 7ms/step - loss: 0.4956 - val_loss: 0.5242\n",
      "Epoch 51/600\n",
      "123/123 [==============================] - 1s 7ms/step - loss: 0.4974 - val_loss: 0.5121\n",
      "Epoch 52/600\n",
      "123/123 [==============================] - 1s 7ms/step - loss: 0.4974 - val_loss: 0.5239\n",
      "Epoch 53/600\n",
      "123/123 [==============================] - 1s 7ms/step - loss: 0.4956 - val_loss: 0.5128\n",
      "Epoch 54/600\n",
      "123/123 [==============================] - 1s 7ms/step - loss: 0.4964 - val_loss: 0.5131\n",
      "Epoch 55/600\n",
      "123/123 [==============================] - 1s 7ms/step - loss: 0.4961 - val_loss: 0.5153\n",
      "Epoch 56/600\n",
      "123/123 [==============================] - 1s 7ms/step - loss: 0.4967 - val_loss: 0.5126\n",
      "Epoch 57/600\n",
      "123/123 [==============================] - 1s 7ms/step - loss: 0.4905 - val_loss: 0.5038\n",
      "Epoch 58/600\n",
      "123/123 [==============================] - 1s 7ms/step - loss: 0.4957 - val_loss: 0.5083\n",
      "Epoch 59/600\n",
      "123/123 [==============================] - 1s 8ms/step - loss: 0.4930 - val_loss: 0.5341\n",
      "Epoch 60/600\n",
      "123/123 [==============================] - 1s 7ms/step - loss: 0.4925 - val_loss: 0.5156\n",
      "Epoch 61/600\n",
      "123/123 [==============================] - 1s 7ms/step - loss: 0.4892 - val_loss: 0.5218\n",
      "Epoch 62/600\n",
      "123/123 [==============================] - 1s 7ms/step - loss: 0.4893 - val_loss: 0.5131\n",
      "Epoch 63/600\n",
      "123/123 [==============================] - 1s 8ms/step - loss: 0.4886 - val_loss: 0.5230\n",
      "Epoch 64/600\n",
      "123/123 [==============================] - 1s 7ms/step - loss: 0.4854 - val_loss: 0.5277\n",
      "Epoch 65/600\n",
      "123/123 [==============================] - 1s 7ms/step - loss: 0.4888 - val_loss: 0.4940\n",
      "Epoch 66/600\n",
      "123/123 [==============================] - 1s 7ms/step - loss: 0.4851 - val_loss: 0.4849\n",
      "Epoch 67/600\n",
      "123/123 [==============================] - 1s 8ms/step - loss: 0.4839 - val_loss: 0.5087\n",
      "Epoch 68/600\n",
      "123/123 [==============================] - 1s 8ms/step - loss: 0.4833 - val_loss: 0.4979\n",
      "Epoch 69/600\n",
      "123/123 [==============================] - 1s 7ms/step - loss: 0.4835 - val_loss: 0.5327\n",
      "Epoch 70/600\n",
      "123/123 [==============================] - 1s 7ms/step - loss: 0.4805 - val_loss: 0.5211\n",
      "Epoch 71/600\n",
      "123/123 [==============================] - 1s 8ms/step - loss: 0.4828 - val_loss: 0.5016\n",
      "Epoch 72/600\n",
      "123/123 [==============================] - 1s 7ms/step - loss: 0.4819 - val_loss: 0.5177\n",
      "Epoch 73/600\n",
      "123/123 [==============================] - 1s 7ms/step - loss: 0.4806 - val_loss: 0.5165\n",
      "Epoch 74/600\n",
      "123/123 [==============================] - 1s 7ms/step - loss: 0.4822 - val_loss: 0.5045\n",
      "Epoch 75/600\n",
      "123/123 [==============================] - 1s 7ms/step - loss: 0.4815 - val_loss: 0.5261\n",
      "Epoch 76/600\n",
      "123/123 [==============================] - 1s 7ms/step - loss: 0.4796 - val_loss: 0.5277\n",
      "Epoch 77/600\n",
      "123/123 [==============================] - 1s 7ms/step - loss: 0.4796 - val_loss: 0.5085\n",
      "Epoch 78/600\n",
      "123/123 [==============================] - 1s 7ms/step - loss: 0.4778 - val_loss: 0.5214\n",
      "Epoch 79/600\n",
      "123/123 [==============================] - 1s 7ms/step - loss: 0.4775 - val_loss: 0.5114\n",
      "Epoch 80/600\n",
      "123/123 [==============================] - 1s 7ms/step - loss: 0.4812 - val_loss: 0.5236\n",
      "Epoch 81/600\n",
      "123/123 [==============================] - 1s 7ms/step - loss: 0.4757 - val_loss: 0.4802\n",
      "Epoch 82/600\n",
      "123/123 [==============================] - 1s 8ms/step - loss: 0.4761 - val_loss: 0.5219\n",
      "Epoch 83/600\n",
      "123/123 [==============================] - 1s 7ms/step - loss: 0.4730 - val_loss: 0.4958\n",
      "Epoch 84/600\n",
      "123/123 [==============================] - 1s 7ms/step - loss: 0.4758 - val_loss: 0.5266\n",
      "Epoch 85/600\n",
      "123/123 [==============================] - 1s 7ms/step - loss: 0.4777 - val_loss: 0.4989\n",
      "Epoch 86/600\n",
      "123/123 [==============================] - 1s 8ms/step - loss: 0.4726 - val_loss: 0.5449\n",
      "Epoch 87/600\n",
      "123/123 [==============================] - 1s 7ms/step - loss: 0.4746 - val_loss: 0.5283\n",
      "Epoch 88/600\n",
      "123/123 [==============================] - 1s 7ms/step - loss: 0.4727 - val_loss: 0.5258\n",
      "Epoch 89/600\n",
      "123/123 [==============================] - 1s 7ms/step - loss: 0.4691 - val_loss: 0.5314\n",
      "Epoch 90/600\n",
      "123/123 [==============================] - 1s 8ms/step - loss: 0.4722 - val_loss: 0.5249\n",
      "Epoch 91/600\n",
      "123/123 [==============================] - 1s 8ms/step - loss: 0.4712 - val_loss: 0.5206\n",
      "Epoch 92/600\n",
      "123/123 [==============================] - 1s 8ms/step - loss: 0.4663 - val_loss: 0.5298\n",
      "Epoch 93/600\n",
      "123/123 [==============================] - 1s 8ms/step - loss: 0.4681 - val_loss: 0.5533\n",
      "Epoch 94/600\n",
      "123/123 [==============================] - 1s 8ms/step - loss: 0.4714 - val_loss: 0.5342\n",
      "Epoch 95/600\n",
      "123/123 [==============================] - 1s 8ms/step - loss: 0.4677 - val_loss: 0.5470\n",
      "Epoch 96/600\n",
      "123/123 [==============================] - 1s 8ms/step - loss: 0.4717 - val_loss: 0.5064\n",
      "Epoch 97/600\n",
      "123/123 [==============================] - 1s 8ms/step - loss: 0.4695 - val_loss: 0.5265\n",
      "Epoch 98/600\n",
      "123/123 [==============================] - 1s 8ms/step - loss: 0.4657 - val_loss: 0.5621\n",
      "Epoch 99/600\n",
      "123/123 [==============================] - 1s 8ms/step - loss: 0.4717 - val_loss: 0.5208\n",
      "Epoch 100/600\n",
      "123/123 [==============================] - 1s 8ms/step - loss: 0.4680 - val_loss: 0.4856\n",
      "Epoch 101/600\n",
      "123/123 [==============================] - 1s 8ms/step - loss: 0.4654 - val_loss: 0.5195\n",
      "Epoch 102/600\n",
      "123/123 [==============================] - 1s 8ms/step - loss: 0.4658 - val_loss: 0.5221\n",
      "Epoch 103/600\n",
      "123/123 [==============================] - 1s 7ms/step - loss: 0.4661 - val_loss: 0.4936\n",
      "Epoch 104/600\n",
      "123/123 [==============================] - 1s 7ms/step - loss: 0.4649 - val_loss: 0.5327\n",
      "Epoch 105/600\n",
      "123/123 [==============================] - 1s 8ms/step - loss: 0.4607 - val_loss: 0.4979\n",
      "Epoch 106/600\n",
      "123/123 [==============================] - 1s 8ms/step - loss: 0.4687 - val_loss: 0.5242\n",
      "Epoch 106: early stopping\n"
     ]
    },
    {
     "data": {
      "text/plain": [
       "<keras.callbacks.History at 0x161dee2f910>"
      ]
     },
     "execution_count": 91,
     "metadata": {},
     "output_type": "execute_result"
    }
   ],
   "source": [
    "model.fit(x=X_train, \n",
    "          y=y_train, \n",
    "          epochs=600,\n",
    "          batch_size=250,\n",
    "          class_weight = class_weights_dict,\n",
    "          validation_data=(X_test, y_test),callbacks=[early_stop]\n",
    "          )"
   ]
  },
  {
   "cell_type": "code",
   "execution_count": 92,
   "id": "2ccd2eda",
   "metadata": {},
   "outputs": [],
   "source": [
    "losses = pd.DataFrame(model.history.history)"
   ]
  },
  {
   "cell_type": "code",
   "execution_count": 93,
   "id": "edc8ae39",
   "metadata": {},
   "outputs": [
    {
     "data": {
      "text/plain": [
       "<AxesSubplot:>"
      ]
     },
     "execution_count": 93,
     "metadata": {},
     "output_type": "execute_result"
    },
    {
     "data": {
      "image/png": "[encoded data removed]",
      "text/plain": [
       "<Figure size 432x288 with 1 Axes>"
      ]
     },
     "metadata": {},
     "output_type": "display_data"
    }
   ],
   "source": [
    "losses[['loss','val_loss']].plot()"
   ]
  },
  {
   "cell_type": "code",
   "execution_count": 94,
   "id": "a84bee26",
   "metadata": {},
   "outputs": [
    {
     "name": "stdout",
     "output_type": "stream",
     "text": [
      "240/240 [==============================] - 1s 2ms/step\n"
     ]
    }
   ],
   "source": [
    "predictions =  (model.predict(X_test)>0.4).astype('int32')"
   ]
  },
  {
   "cell_type": "code",
   "execution_count": 95,
   "id": "48eb3f2c",
   "metadata": {},
   "outputs": [
    {
     "name": "stdout",
     "output_type": "stream",
     "text": [
      "              precision    recall  f1-score   support\n",
      "\n",
      "           0       0.95      0.73      0.82      6816\n",
      "           1       0.24      0.70      0.36       833\n",
      "\n",
      "    accuracy                           0.72      7649\n",
      "   macro avg       0.59      0.71      0.59      7649\n",
      "weighted avg       0.87      0.72      0.77      7649\n",
      "\n"
     ]
    }
   ],
   "source": [
    "print(classification_report(y_test,predictions))"
   ]
  },
  {
   "cell_type": "markdown",
   "id": "5bf3429b",
   "metadata": {},
   "source": [
    "Well that didn't go as planned"
   ]
  },
  {
   "cell_type": "markdown",
   "id": "cb4f5e9b",
   "metadata": {},
   "source": [
    "Trying XGBoostagain to the mix"
   ]
  },
  {
   "cell_type": "code",
   "execution_count": 96,
   "id": "9284876c",
   "metadata": {},
   "outputs": [],
   "source": [
    "from xgboost import XGBClassifier"
   ]
  },
  {
   "cell_type": "code",
   "execution_count": 98,
   "id": "ce79ca5d",
   "metadata": {},
   "outputs": [],
   "source": [
    "X = df.drop('y',axis=1)\n",
    "Y = df['y']"
   ]
  },
  {
   "cell_type": "code",
   "execution_count": 99,
   "id": "f86e73b6",
   "metadata": {},
   "outputs": [],
   "source": [
    "X_train, X_test, y_train, y_test = train_test_split(X, Y, test_size=0.20, random_state=101)"
   ]
  },
  {
   "cell_type": "code",
   "execution_count": 100,
   "id": "888f6499",
   "metadata": {},
   "outputs": [],
   "source": [
    "scaler = MinMaxScaler()"
   ]
  },
  {
   "cell_type": "code",
   "execution_count": 101,
   "id": "bb1256e4",
   "metadata": {},
   "outputs": [],
   "source": [
    "X_train = scaler.fit_transform(X_train)"
   ]
  },
  {
   "cell_type": "code",
   "execution_count": 102,
   "id": "5059bef8",
   "metadata": {},
   "outputs": [],
   "source": [
    "X_test = scaler.transform(X_test)"
   ]
  },
  {
   "cell_type": "code",
   "execution_count": 103,
   "id": "b0680a95",
   "metadata": {},
   "outputs": [],
   "source": [
    "#Compute scale_pos_weight\n",
    "ratio = y_train.value_counts()[0]/y_train.value_counts()[1] "
   ]
  },
  {
   "cell_type": "code",
   "execution_count": 104,
   "id": "33ecb181",
   "metadata": {},
   "outputs": [],
   "source": [
    "#Initialize the XGBoost classifier\n",
    "xgb_model = XGBClassifier(\n",
    "    objective = 'binary:logistic',\n",
    "    scale_pos_weight = ratio,  #Address class imbalance\n",
    "    learning_rate = 0.1,\n",
    "    max_depth = 6,\n",
    "    n_estimators = 100,\n",
    "    random_state = 42)"
   ]
  },
  {
   "cell_type": "code",
   "execution_count": 105,
   "id": "8c95dac7",
   "metadata": {},
   "outputs": [
    {
     "data": {
      "text/html": [
       "<style>#sk-container-id-1 {color: black;background-color: white;}#sk-container-id-1 pre{padding: 0;}#sk-container-id-1 div.sk-toggleable {background-color: white;}#sk-container-id-1 label.sk-toggleable__label {cursor: pointer;display: block;width: 100%;margin-bottom: 0;padding: 0.3em;box-sizing: border-box;text-align: center;}#sk-container-id-1 label.sk-toggleable__label-arrow:before {content: \"▸\";float: left;margin-right: 0.25em;color: #696969;}#sk-container-id-1 label.sk-toggleable__label-arrow:hover:before {color: black;}#sk-container-id-1 div.sk-estimator:hover label.sk-toggleable__label-arrow:before {color: black;}#sk-container-id-1 div.sk-toggleable__content {max-height: 0;max-width: 0;overflow: hidden;text-align: left;background-color: #f0f8ff;}#sk-container-id-1 div.sk-toggleable__content pre {margin: 0.2em;color: black;border-radius: 0.25em;background-color: #f0f8ff;}#sk-container-id-1 input.sk-toggleable__control:checked~div.sk-toggleable__content {max-height: 200px;max-width: 100%;overflow: auto;}#sk-container-id-1 input.sk-toggleable__control:checked~label.sk-toggleable__label-arrow:before {content: \"▾\";}#sk-container-id-1 div.sk-estimator input.sk-toggleable__control:checked~label.sk-toggleable__label {background-color: #d4ebff;}#sk-container-id-1 div.sk-label input.sk-toggleable__control:checked~label.sk-toggleable__label {background-color: #d4ebff;}#sk-container-id-1 input.sk-hidden--visually {border: 0;clip: rect(1px 1px 1px 1px);clip: rect(1px, 1px, 1px, 1px);height: 1px;margin: -1px;overflow: hidden;padding: 0;position: absolute;width: 1px;}#sk-container-id-1 div.sk-estimator {font-family: monospace;background-color: #f0f8ff;border: 1px dotted black;border-radius: 0.25em;box-sizing: border-box;margin-bottom: 0.5em;}#sk-container-id-1 div.sk-estimator:hover {background-color: #d4ebff;}#sk-container-id-1 div.sk-parallel-item::after {content: \"\";width: 100%;border-bottom: 1px solid gray;flex-grow: 1;}#sk-container-id-1 div.sk-label:hover label.sk-toggleable__label {background-color: #d4ebff;}#sk-container-id-1 div.sk-serial::before {content: \"\";position: absolute;border-left: 1px solid gray;box-sizing: border-box;top: 0;bottom: 0;left: 50%;z-index: 0;}#sk-container-id-1 div.sk-serial {display: flex;flex-direction: column;align-items: center;background-color: white;padding-right: 0.2em;padding-left: 0.2em;position: relative;}#sk-container-id-1 div.sk-item {position: relative;z-index: 1;}#sk-container-id-1 div.sk-parallel {display: flex;align-items: stretch;justify-content: center;background-color: white;position: relative;}#sk-container-id-1 div.sk-item::before, #sk-container-id-1 div.sk-parallel-item::before {content: \"\";position: absolute;border-left: 1px solid gray;box-sizing: border-box;top: 0;bottom: 0;left: 50%;z-index: -1;}#sk-container-id-1 div.sk-parallel-item {display: flex;flex-direction: column;z-index: 1;position: relative;background-color: white;}#sk-container-id-1 div.sk-parallel-item:first-child::after {align-self: flex-end;width: 50%;}#sk-container-id-1 div.sk-parallel-item:last-child::after {align-self: flex-start;width: 50%;}#sk-container-id-1 div.sk-parallel-item:only-child::after {width: 0;}#sk-container-id-1 div.sk-dashed-wrapped {border: 1px dashed gray;margin: 0 0.4em 0.5em 0.4em;box-sizing: border-box;padding-bottom: 0.4em;background-color: white;}#sk-container-id-1 div.sk-label label {font-family: monospace;font-weight: bold;display: inline-block;line-height: 1.2em;}#sk-container-id-1 div.sk-label-container {text-align: center;}#sk-container-id-1 div.sk-container {/* jupyter's `normalize.less` sets `[hidden] { display: none; }` but bootstrap.min.css set `[hidden] { display: none !important; }` so we also need the `!important` here to be able to override the default hidden behavior on the sphinx rendered scikit-learn.org. See: https://github.com/scikit-learn/scikit-learn/issues/21755 */display: inline-block !important;position: relative;}#sk-container-id-1 div.sk-text-repr-fallback {display: none;}</style><div id=\"sk-container-id-1\" class=\"sk-top-container\"><div class=\"sk-text-repr-fallback\"><pre>XGBClassifier(base_score=None, booster=None, callbacks=None,\n",
       "              colsample_bylevel=None, colsample_bynode=None,\n",
       "              colsample_bytree=None, device=None, early_stopping_rounds=None,\n",
       "              enable_categorical=False, eval_metric=None, feature_types=None,\n",
       "              gamma=None, grow_policy=None, importance_type=None,\n",
       "              interaction_constraints=None, learning_rate=0.1, max_bin=None,\n",
       "              max_cat_threshold=None, max_cat_to_onehot=None,\n",
       "              max_delta_step=None, max_depth=6, max_leaves=None,\n",
       "              min_child_weight=None, missing=nan, monotone_constraints=None,\n",
       "              multi_strategy=None, n_estimators=100, n_jobs=None,\n",
       "              num_parallel_tree=None, random_state=42, ...)</pre><b>In a Jupyter environment, please rerun this cell to show the HTML representation or trust the notebook. <br />On GitHub, the HTML representation is unable to render, please try loading this page with nbviewer.org.</b></div><div class=\"sk-container\" hidden><div class=\"sk-item\"><div class=\"sk-estimator sk-toggleable\"><input class=\"sk-toggleable__control sk-hidden--visually\" id=\"sk-estimator-id-1\" type=\"checkbox\" checked><label for=\"sk-estimator-id-1\" class=\"sk-toggleable__label sk-toggleable__label-arrow\">XGBClassifier</label><div class=\"sk-toggleable__content\"><pre>XGBClassifier(base_score=None, booster=None, callbacks=None,\n",
       "              colsample_bylevel=None, colsample_bynode=None,\n",
       "              colsample_bytree=None, device=None, early_stopping_rounds=None,\n",
       "              enable_categorical=False, eval_metric=None, feature_types=None,\n",
       "              gamma=None, grow_policy=None, importance_type=None,\n",
       "              interaction_constraints=None, learning_rate=0.1, max_bin=None,\n",
       "              max_cat_threshold=None, max_cat_to_onehot=None,\n",
       "              max_delta_step=None, max_depth=6, max_leaves=None,\n",
       "              min_child_weight=None, missing=nan, monotone_constraints=None,\n",
       "              multi_strategy=None, n_estimators=100, n_jobs=None,\n",
       "              num_parallel_tree=None, random_state=42, ...)</pre></div></div></div></div></div>"
      ],
      "text/plain": [
       "XGBClassifier(base_score=None, booster=None, callbacks=None,\n",
       "              colsample_bylevel=None, colsample_bynode=None,\n",
       "              colsample_bytree=None, device=None, early_stopping_rounds=None,\n",
       "              enable_categorical=False, eval_metric=None, feature_types=None,\n",
       "              gamma=None, grow_policy=None, importance_type=None,\n",
       "              interaction_constraints=None, learning_rate=0.1, max_bin=None,\n",
       "              max_cat_threshold=None, max_cat_to_onehot=None,\n",
       "              max_delta_step=None, max_depth=6, max_leaves=None,\n",
       "              min_child_weight=None, missing=nan, monotone_constraints=None,\n",
       "              multi_strategy=None, n_estimators=100, n_jobs=None,\n",
       "              num_parallel_tree=None, random_state=42, ...)"
      ]
     },
     "execution_count": 105,
     "metadata": {},
     "output_type": "execute_result"
    }
   ],
   "source": [
    "xgb_model.fit(X_train, y_train)"
   ]
  },
  {
   "cell_type": "code",
   "execution_count": 106,
   "id": "47b1781c",
   "metadata": {},
   "outputs": [],
   "source": [
    "y_pred = xgb_model.predict(X_test)"
   ]
  },
  {
   "cell_type": "code",
   "execution_count": 107,
   "id": "58c904b1",
   "metadata": {},
   "outputs": [
    {
     "name": "stdout",
     "output_type": "stream",
     "text": [
      "              precision    recall  f1-score   support\n",
      "\n",
      "           0       0.95      0.86      0.90      6816\n",
      "           1       0.36      0.63      0.46       833\n",
      "\n",
      "    accuracy                           0.83      7649\n",
      "   macro avg       0.65      0.75      0.68      7649\n",
      "weighted avg       0.89      0.83      0.85      7649\n",
      "\n"
     ]
    }
   ],
   "source": [
    "print(classification_report(y_test,y_pred))"
   ]
  },
  {
   "cell_type": "markdown",
   "id": "338ef3d0",
   "metadata": {},
   "source": [
    "This also does well but not as good as the first model"
   ]
  },
  {
   "cell_type": "markdown",
   "id": "0c6213a3",
   "metadata": {},
   "source": [
    "Now it can clearly be seen that in a classification problem, Building a neural network is probably your best bet.\n",
    "\n",
    "Once the original data is highly skewed, it would most definitely affect the final result, there is only so much you can do to help the minority class.\n",
    "\n",
    "For whatever reason, using SMOTE to create synthetic values and balance up the classes wasn't effective.\n",
    "\n",
    "Neither was making the model extra sensitive with adding weights or XGBoost.\n",
    "\n",
    "From all i have done, the most effective model came with the extra feature engineering and the conventional neural network, to yield an Fi score of 94% and 46% for the 0 and 1 classes respectively.\n",
    "\n",
    "There are other posible combinatins and methods that i didn't try that could prove effective, i'm open to suggestions and the data has been provided so you could explore yourself and get your finding. \n",
    "\n",
    "Thankyou.\n"
   ]
  },
  {
   "cell_type": "code",
   "execution_count": null,
   "id": "646b0fcb",
   "metadata": {},
   "outputs": [],
   "source": []
  }
 ],
 "metadata": {
  "kernelspec": {
   "display_name": "Python 3 (ipykernel)",
   "language": "python",
   "name": "python3"
  },
  "language_info": {
   "codemirror_mode": {
    "name": "ipython",
    "version": 3
   },
   "file_extension": ".py",
   "mimetype": "text/x-python",
   "name": "python",
   "nbconvert_exporter": "python",
   "pygments_lexer": "ipython3",
   "version": "3.9.7"
  }
 },
 "nbformat": 4,
 "nbformat_minor": 5
}
